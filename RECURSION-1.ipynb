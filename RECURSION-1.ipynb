{
 "cells": [
  {
   "cell_type": "markdown",
   "metadata": {},
   "source": [
    "### FINDING SUM USING RECURSION "
   ]
  },
  {
   "cell_type": "code",
   "execution_count": 2,
   "metadata": {},
   "outputs": [
    {
     "data": {
      "text/plain": [
       "36"
      ]
     },
     "execution_count": 2,
     "metadata": {},
     "output_type": "execute_result"
    }
   ],
   "source": [
    "def sum(n):\n",
    "    if n==0:\n",
    "        return 0    \n",
    "    return (n+sum(n-1))\n",
    "sum(8)"
   ]
  },
  {
   "cell_type": "markdown",
   "metadata": {},
   "source": [
    "### FINDING POWER USING RECURSION"
   ]
  },
  {
   "cell_type": "code",
   "execution_count": 6,
   "metadata": {},
   "outputs": [
    {
     "name": "stdout",
     "output_type": "stream",
     "text": [
      "3 4\n",
      "81\n"
     ]
    }
   ],
   "source": [
    "def power(x,y):\n",
    "    if y==0:\n",
    "        return 1\n",
    "    return (x*power(x,y-1))\n",
    "\n",
    "\n",
    "li=[int(x) for x in input().split()]\n",
    "a,b=li[0],li[1]\n",
    "c=power(a,b)\n",
    "print(c)"
   ]
  },
  {
   "cell_type": "markdown",
   "metadata": {},
   "source": [
    "### FINDING SUM OF FIRST N NATURAL NUMBERS USING RECURSION"
   ]
  },
  {
   "cell_type": "code",
   "execution_count": 10,
   "metadata": {},
   "outputs": [
    {
     "name": "stdout",
     "output_type": "stream",
     "text": [
      "55\n"
     ]
    }
   ],
   "source": [
    "def sum_1_to_n(n):\n",
    "    if n==0:\n",
    "        return 0\n",
    "    smalloutput=sum_1_to_n(n-1)\n",
    "    output=n+smalloutput\n",
    "    return output\n",
    "n=10\n",
    "print(sum_1_to_n(n))"
   ]
  },
  {
   "cell_type": "markdown",
   "metadata": {},
   "source": [
    "## FIBONACCHI USING RECURSION"
   ]
  },
  {
   "cell_type": "code",
   "execution_count": 14,
   "metadata": {},
   "outputs": [
    {
     "name": "stdout",
     "output_type": "stream",
     "text": [
      "7\n"
     ]
    },
    {
     "data": {
      "text/plain": [
       "13"
      ]
     },
     "execution_count": 14,
     "metadata": {},
     "output_type": "execute_result"
    }
   ],
   "source": [
    "def fib(n):\n",
    "    if n==1 or n==2:\n",
    "        return 1\n",
    "    fib_n_1=fib(n-1)\n",
    "    fib_n_2=fib(n-2)\n",
    "    output=fib_n_1+fib_n_2\n",
    "    return output\n",
    "\n",
    "n=int(input())\n",
    "fib(n)"
   ]
  },
  {
   "cell_type": "markdown",
   "metadata": {},
   "source": [
    "WE CAN CHANGE THE RECURSION LIMIT BY DOING THE FOLLOWING\n",
    "inport sys\n",
    "sys.setrecursionlimit(n)\n",
    "where 'n' is the limit you want"
   ]
  },
  {
   "cell_type": "markdown",
   "metadata": {},
   "source": [
    "### CHECK IF LIST IS SORTED OR NOT???-1"
   ]
  },
  {
   "cell_type": "code",
   "execution_count": 17,
   "metadata": {},
   "outputs": [
    {
     "data": {
      "text/plain": [
       "True"
      ]
     },
     "execution_count": 17,
     "metadata": {},
     "output_type": "execute_result"
    }
   ],
   "source": [
    "def checkSorted(a):\n",
    "    l=len(a)\n",
    "    if l==0 or l==1:\n",
    "        return True\n",
    "    \n",
    "    if a[0]>a[1]:\n",
    "        return False\n",
    "    \n",
    "    smallerList=a[1:]\n",
    "    isSmaller=checkSorted(smallerList)\n",
    "    return isSmaller\n",
    "\n",
    "\n",
    "a=[1,2,3,5,5,7,8]\n",
    "checkSorted(a)"
   ]
  },
  {
   "cell_type": "markdown",
   "metadata": {},
   "source": [
    "### SUM ELEMENTS OF ARRAY"
   ]
  },
  {
   "cell_type": "code",
   "execution_count": 21,
   "metadata": {},
   "outputs": [
    {
     "name": "stdout",
     "output_type": "stream",
     "text": [
      "1 2 3 4 5\n",
      "15\n"
     ]
    }
   ],
   "source": [
    "def sumArray(arr):\n",
    "    l=len(arr)\n",
    "    if l==1:\n",
    "        return arr[0]\n",
    "    \n",
    "    b=arr[1:]\n",
    "    sum=arr[0]+sumArray(b)\n",
    "    return sum\n",
    "\n",
    "arr=[int(x) for x in input().split()]\n",
    "print(sumArray(arr))"
   ]
  },
  {
   "cell_type": "markdown",
   "metadata": {},
   "source": [
    "### WHETHER NUMBER IS PRESENT IN ARRAY OR NOT"
   ]
  },
  {
   "cell_type": "code",
   "execution_count": 47,
   "metadata": {},
   "outputs": [
    {
     "name": "stdout",
     "output_type": "stream",
     "text": [
      "6\n",
      "1 2 3 4 5 6\n",
      "7\n",
      "false\n"
     ]
    }
   ],
   "source": [
    "def checkNumber(arr,x):\n",
    "    l=len(arr)\n",
    "    if l==1 and x!=arr[0]:\n",
    "        return False\n",
    "    elif x==arr[0]:\n",
    "        return True\n",
    "    else:\n",
    "        b=arr[1:]\n",
    "        isThere=checkNumber(b,x)\n",
    "    return isThere\n",
    "\n",
    "n=int(input())\n",
    "arr=[int(x) for x in input().split()]\n",
    "x=int(input())\n",
    "check=checkNumber(arr,x)\n",
    "if check==True:\n",
    "    print(\"true\")\n",
    "else:\n",
    "    print(\"false\")"
   ]
  },
  {
   "cell_type": "markdown",
   "metadata": {},
   "source": [
    "### CHECK IF LIST IS SORTED OR NOT???-1"
   ]
  },
  {
   "cell_type": "code",
   "execution_count": 48,
   "metadata": {},
   "outputs": [
    {
     "data": {
      "text/plain": [
       "True"
      ]
     },
     "execution_count": 48,
     "metadata": {},
     "output_type": "execute_result"
    }
   ],
   "source": [
    "def checkSortedBetter(a,si):\n",
    "    l=len(a)\n",
    "    if si==l-1 or si==l:\n",
    "        return True\n",
    "    elif a[si]>a[si+1]:\n",
    "        return False\n",
    "    else:\n",
    "        checkSmaller=checkSortedBetter(a,si+1)\n",
    "    return checkSmaller\n",
    "\n",
    "\n",
    "a=[1,2,3,5,5,7,8]\n",
    "checkSortedBetter(a,0)"
   ]
  },
  {
   "cell_type": "markdown",
   "metadata": {},
   "source": [
    "### FIRST INDEX OF NUMBER-QUESTION (METHOD-1)"
   ]
  },
  {
   "cell_type": "code",
   "execution_count": 57,
   "metadata": {},
   "outputs": [
    {
     "name": "stdout",
     "output_type": "stream",
     "text": [
      "4\n",
      "9 8 10 8\n",
      "8\n",
      "1\n"
     ]
    }
   ],
   "source": [
    "def firstIndex(a,x,count):\n",
    "    l=len(a)    \n",
    "    if l==1 and x!=a[0]:\n",
    "        print(-1)\n",
    "        return \n",
    "    elif x==a[0]:\n",
    "        print(count)\n",
    "        return \n",
    "    else:\n",
    "        b=a[1:]\n",
    "        count=count+1\n",
    "        find=firstIndex(b,x,count)\n",
    "\n",
    "n=int(input())\n",
    "a=[int(x) for x in input().split()]\n",
    "x=int(input())\n",
    "count=0\n",
    "firstIndex(a,x,count)"
   ]
  },
  {
   "cell_type": "markdown",
   "metadata": {},
   "source": [
    "### FIRST INDEX OF NUMBER-QUESTION (METHOD-2)"
   ]
  },
  {
   "cell_type": "code",
   "execution_count": 60,
   "metadata": {},
   "outputs": [
    {
     "name": "stdout",
     "output_type": "stream",
     "text": [
      "4\n",
      "9 8 10 8\n",
      "8\n",
      "1\n"
     ]
    }
   ],
   "source": [
    "def firstIndex(a,x,si):\n",
    "    l=len(a)    \n",
    "    if si==l-1 and x!=a[si]:\n",
    "        print(-1)\n",
    "        return \n",
    "    elif x==a[si]:\n",
    "        print(si)\n",
    "        return \n",
    "    else:\n",
    "        find=firstIndex(a,x,si+1)\n",
    "\n",
    "n=int(input())\n",
    "a=[int(x) for x in input().split()]\n",
    "x=int(input())\n",
    "firstIndex(a,x,0)"
   ]
  },
  {
   "cell_type": "markdown",
   "metadata": {},
   "source": [
    "### LAST INDEX OF NUMBER-QUESTION (METHOD-1)"
   ]
  },
  {
   "cell_type": "code",
   "execution_count": 61,
   "metadata": {},
   "outputs": [
    {
     "name": "stdout",
     "output_type": "stream",
     "text": [
      "4\n",
      "9 8 10 8\n",
      "8\n",
      "3\n"
     ]
    }
   ],
   "source": [
    "def lastIndex(a,x,count):\n",
    "    l=len(a)    \n",
    "    if l==1 and x!=a[0]:\n",
    "        print(-1)\n",
    "        return \n",
    "    elif x==a[l-1]:\n",
    "        print(count)\n",
    "        return \n",
    "    else:\n",
    "        b=a[0:l-1]\n",
    "        count=count-1\n",
    "        find=lastIndex(b,x,count)\n",
    "\n",
    "n=int(input())\n",
    "a=[int(x) for x in input().split()]\n",
    "x=int(input())\n",
    "count=n-1\n",
    "lastIndex(a,x,count)"
   ]
  }
 ],
 "metadata": {
  "kernelspec": {
   "display_name": "Python 3",
   "language": "python",
   "name": "python3"
  },
  "language_info": {
   "codemirror_mode": {
    "name": "ipython",
    "version": 3
   },
   "file_extension": ".py",
   "mimetype": "text/x-python",
   "name": "python",
   "nbconvert_exporter": "python",
   "pygments_lexer": "ipython3",
   "version": "3.7.3"
  }
 },
 "nbformat": 4,
 "nbformat_minor": 2
}
