{
 "cells": [
  {
   "cell_type": "markdown",
   "metadata": {},
   "source": [
    "### STACK USING ARRAY"
   ]
  },
  {
   "cell_type": "code",
   "execution_count": 17,
   "metadata": {},
   "outputs": [
    {
     "name": "stdout",
     "output_type": "stream",
     "text": [
      "9\n",
      "90\n",
      "90\n",
      "80\n",
      "70\n",
      "60\n",
      "50\n",
      "40\n",
      "30\n",
      "20\n",
      "10\n",
      "0\n",
      "True\n",
      "Hey! stack is empty\n",
      "None\n"
     ]
    }
   ],
   "source": [
    "class stack_li:\n",
    "    def __init__(self):\n",
    "        self.__li= []\n",
    "        \n",
    "    def push(self,data):\n",
    "        self.__li.append(data)        \n",
    "        \n",
    "    def pop(self):\n",
    "        if self.isEmpty():\n",
    "            print('Hey! stack is empty')\n",
    "            return\n",
    "        return self.__li.pop()\n",
    "    \n",
    "    def top(self):\n",
    "        if self.isEmpty():\n",
    "            print('Hey! stack is empty')\n",
    "            return\n",
    "        return self.__li[len(self.__li)-1]\n",
    "    \n",
    "    def size(self):\n",
    "        return len(self.__li)\n",
    "    \n",
    "    def isEmpty(self):\n",
    "        return self.size()==0\n",
    "    \n",
    "    \n",
    "s=stack_li()\n",
    "s.push(10)\n",
    "s.push(20)\n",
    "s.push(30)\n",
    "s.push(40)\n",
    "s.push(50)\n",
    "s.push(60)\n",
    "s.push(70)\n",
    "s.push(80)\n",
    "s.push(90)\n",
    "s.push(100)\n",
    "s.push(110)\n",
    "s.push(120)\n",
    "s.push(130)\n",
    "s.push(140)\n",
    "s.push(150)\n",
    "s.pop()\n",
    "s.pop()\n",
    "s.pop()\n",
    "s.pop()\n",
    "s.pop()\n",
    "s.pop()\n",
    "print(s.size())\n",
    "print(s.top())\n",
    "while s.isEmpty() is False:\n",
    "    print(s.pop())\n",
    "print(s.size())    \n",
    "print(s.isEmpty())    \n",
    "print(s.top())"
   ]
  },
  {
   "cell_type": "markdown",
   "metadata": {},
   "source": [
    "### STACK USING LINKED LIST"
   ]
  },
  {
   "cell_type": "code",
   "execution_count": 1,
   "metadata": {},
   "outputs": [
    {
     "name": "stdout",
     "output_type": "stream",
     "text": [
      "14\n",
      "140\n",
      "140\n",
      "130\n",
      "120\n",
      "110\n",
      "100\n",
      "90\n",
      "80\n",
      "70\n",
      "60\n",
      "50\n",
      "40\n",
      "30\n",
      "20\n",
      "10\n",
      "0\n",
      "True\n",
      "hey the stack is empty\n"
     ]
    },
    {
     "ename": "AttributeError",
     "evalue": "'NoneType' object has no attribute 'data'",
     "output_type": "error",
     "traceback": [
      "\u001b[1;31m---------------------------------------------------------------------------\u001b[0m",
      "\u001b[1;31mAttributeError\u001b[0m                            Traceback (most recent call last)",
      "\u001b[1;32m<ipython-input-1-e72cb11f7708>\u001b[0m in \u001b[0;36m<module>\u001b[1;34m\u001b[0m\n\u001b[0;32m     69\u001b[0m \u001b[0mprint\u001b[0m\u001b[1;33m(\u001b[0m\u001b[0ms\u001b[0m\u001b[1;33m.\u001b[0m\u001b[0msize\u001b[0m\u001b[1;33m(\u001b[0m\u001b[1;33m)\u001b[0m\u001b[1;33m)\u001b[0m\u001b[1;33m\u001b[0m\u001b[1;33m\u001b[0m\u001b[0m\n\u001b[0;32m     70\u001b[0m \u001b[0mprint\u001b[0m\u001b[1;33m(\u001b[0m\u001b[0ms\u001b[0m\u001b[1;33m.\u001b[0m\u001b[0misEmpty\u001b[0m\u001b[1;33m(\u001b[0m\u001b[1;33m)\u001b[0m\u001b[1;33m)\u001b[0m\u001b[1;33m\u001b[0m\u001b[1;33m\u001b[0m\u001b[0m\n\u001b[1;32m---> 71\u001b[1;33m \u001b[0mprint\u001b[0m\u001b[1;33m(\u001b[0m\u001b[0ms\u001b[0m\u001b[1;33m.\u001b[0m\u001b[0mtop\u001b[0m\u001b[1;33m(\u001b[0m\u001b[1;33m)\u001b[0m\u001b[1;33m)\u001b[0m\u001b[1;33m\u001b[0m\u001b[1;33m\u001b[0m\u001b[0m\n\u001b[0m",
      "\u001b[1;32m<ipython-input-1-e72cb11f7708>\u001b[0m in \u001b[0;36mtop\u001b[1;34m(self)\u001b[0m\n\u001b[0;32m     27\u001b[0m         \u001b[1;32mif\u001b[0m \u001b[0mself\u001b[0m\u001b[1;33m.\u001b[0m\u001b[0misEmpty\u001b[0m\u001b[1;33m(\u001b[0m\u001b[1;33m)\u001b[0m\u001b[1;33m:\u001b[0m\u001b[1;33m\u001b[0m\u001b[1;33m\u001b[0m\u001b[0m\n\u001b[0;32m     28\u001b[0m             \u001b[0mprint\u001b[0m\u001b[1;33m(\u001b[0m\u001b[1;34m'hey the stack is empty'\u001b[0m\u001b[1;33m)\u001b[0m\u001b[1;33m\u001b[0m\u001b[1;33m\u001b[0m\u001b[0m\n\u001b[1;32m---> 29\u001b[1;33m         \u001b[1;32mreturn\u001b[0m \u001b[0mself\u001b[0m\u001b[1;33m.\u001b[0m\u001b[0m__head\u001b[0m\u001b[1;33m.\u001b[0m\u001b[0mdata\u001b[0m\u001b[1;33m\u001b[0m\u001b[1;33m\u001b[0m\u001b[0m\n\u001b[0m\u001b[0;32m     30\u001b[0m \u001b[1;33m\u001b[0m\u001b[0m\n\u001b[0;32m     31\u001b[0m     \u001b[1;32mdef\u001b[0m \u001b[0msize\u001b[0m\u001b[1;33m(\u001b[0m\u001b[0mself\u001b[0m\u001b[1;33m)\u001b[0m\u001b[1;33m:\u001b[0m\u001b[1;33m\u001b[0m\u001b[1;33m\u001b[0m\u001b[0m\n",
      "\u001b[1;31mAttributeError\u001b[0m: 'NoneType' object has no attribute 'data'"
     ]
    }
   ],
   "source": [
    "class node:\n",
    "    def __init__(self,data):\n",
    "        self.data=data\n",
    "        self.next=None\n",
    "        \n",
    "class stack_ll:\n",
    "    def __init__(self):\n",
    "        self.__head=None\n",
    "        self.__count=0\n",
    "     \n",
    "    def push(self,value):\n",
    "        new_node=node(value)\n",
    "        new_node.next=self.__head\n",
    "        self.__head=new_node\n",
    "        self.__count=self.__count+1\n",
    "        \n",
    "    def pop(self):\n",
    "        if self.isEmpty():\n",
    "            print('hey the stack is empty')\n",
    "            return\n",
    "        data=self.__head.data\n",
    "        self.__head=self.__head.next\n",
    "        self.__count=self.__count-1\n",
    "        return data\n",
    "    \n",
    "    def top(self):\n",
    "        if self.isEmpty():\n",
    "            print('hey the stack is empty')\n",
    "        return self.__head.data\n",
    "    \n",
    "    def size(self):\n",
    "        return self.__count\n",
    "    \n",
    "    def isEmpty(self):\n",
    "        return self.size()==0\n",
    "    \n",
    "    \n",
    "s=stack_ll()\n",
    "s.push(10)\n",
    "s.push(20)\n",
    "s.push(30)\n",
    "s.push(40)\n",
    "s.push(50)\n",
    "s.push(60)\n",
    "s.push(70)\n",
    "s.push(80)\n",
    "s.push(90)\n",
    "s.push(100)\n",
    "s.push(110)\n",
    "s.push(120)\n",
    "s.push(130)\n",
    "s.push(140)\n",
    "s.push(150)\n",
    "s.push(160)\n",
    "s.push(170)\n",
    "s.push(180)\n",
    "s.push(190)\n",
    "s.push(200)\n",
    "s.pop()\n",
    "s.pop()\n",
    "s.pop()\n",
    "s.pop()\n",
    "s.pop()\n",
    "s.pop()\n",
    "print(s.size())\n",
    "print(s.top())\n",
    "while s.isEmpty() is False:\n",
    "    print(s.pop())\n",
    "print(s.size())    \n",
    "print(s.isEmpty())    \n",
    "print(s.top())    "
   ]
  },
  {
   "cell_type": "markdown",
   "metadata": {},
   "source": [
    "### BALANCED PARANTHESIS"
   ]
  },
  {
   "cell_type": "code",
   "execution_count": 42,
   "metadata": {},
   "outputs": [
    {
     "name": "stdout",
     "output_type": "stream",
     "text": [
      "(}\n",
      "False\n"
     ]
    }
   ],
   "source": [
    "def isBalanced(string):\n",
    "    s=[]\n",
    "    \n",
    "    for char in string:\n",
    "        if char in '({[':\n",
    "            s.append(char)\n",
    "        elif char=='}':\n",
    "            if(not s or s[-1]!='{'):\n",
    "                return False\n",
    "            s.pop()\n",
    "        elif char==')':\n",
    "            if(not s or s[-1]!='('):\n",
    "                return False\n",
    "            s.pop()\n",
    "        elif char==']':\n",
    "            if(not s or s[-1]!='['):\n",
    "                return False\n",
    "            s.pop()\n",
    "    if (not s):\n",
    "        return True\n",
    "    return False\n",
    "            \n",
    "\n",
    "string=input()\n",
    "ans=isBalanced(string)\n",
    "print(ans)"
   ]
  },
  {
   "cell_type": "markdown",
   "metadata": {},
   "source": [
    "### REVERSE STACK USING ANOTHER STACK"
   ]
  },
  {
   "cell_type": "code",
   "execution_count": null,
   "metadata": {},
   "outputs": [],
   "source": [
    "def reverseStack(s1,s2):\n",
    "    l=len(s1)\n",
    "    if l==1:\n",
    "        return\n",
    "    count=1\n",
    "    while count<=(l-1):\n",
    "        s2.append(s1[-1])\n",
    "        s1.pop()\n",
    "        count+=1\n",
    "    data=s1.pop()\n",
    "    count=1\n",
    "    while count<=(l-1):\n",
    "        s1.append(s2[-1])\n",
    "        s2.pop()\n",
    "        count+=1\n",
    "    reverseStack(s1,s2)\n",
    "    s1.append(data)\n",
    "    \n",
    "\n",
    "\n",
    "from sys import setrecursionlimit\n",
    "setrecursionlimit(11000)\n",
    "n = int(input())\n",
    "s1 = [int(ele) for ele in input().split()]\n",
    "s2 = []\n",
    "reverseStack(s1,s2)\n",
    "while(len(s1) !=0):\n",
    "    print(s1.pop(),end= ' ')"
   ]
  },
  {
   "cell_type": "markdown",
   "metadata": {},
   "source": [
    "### REDUNTANT BRACKETS"
   ]
  },
  {
   "cell_type": "code",
   "execution_count": 2,
   "metadata": {},
   "outputs": [
    {
     "name": "stdout",
     "output_type": "stream",
     "text": [
      "(a+((b+c))\n",
      "true\n"
     ]
    }
   ],
   "source": [
    "def isBalanced(string):\n",
    "    s=[]\n",
    "    count=0\n",
    "    for char in string:\n",
    "        if char!=')':\n",
    "            s.append(char)\n",
    "        elif char==')':\n",
    "            for ele in s[::-1]:\n",
    "                if ele=='(':\n",
    "                    if count==0:\n",
    "                        return True\n",
    "                    s.pop()\n",
    "                    count=0\n",
    "                    break\n",
    "                else:\n",
    "                    s.pop()\n",
    "                    count+=1     \n",
    "    \n",
    "    return False\n",
    "    \n",
    "    \n",
    "string=input()\n",
    "ans=isBalanced(string)\n",
    "if ans==True:\n",
    "    print(\"true\")\n",
    "else:\n",
    "    print('false')"
   ]
  },
  {
   "cell_type": "markdown",
   "metadata": {},
   "source": [
    "### STOCK SPAN"
   ]
  },
  {
   "cell_type": "code",
   "execution_count": 4,
   "metadata": {},
   "outputs": [
    {
     "name": "stdout",
     "output_type": "stream",
     "text": [
      "8\n",
      "60 70 80 100 90 75 80 120\n",
      "1 2 3 4 1 1 2 8 "
     ]
    }
   ],
   "source": [
    "def stockSpan(price,n):\n",
    "    l2=[]\n",
    "    for ele in price[::-1]:\n",
    "        count=1\n",
    "        i=len(price)\n",
    "        while (i-2)>=0:\n",
    "            if ele>price[i-2]:\n",
    "                count+=1\n",
    "                i-=1\n",
    "            else:\n",
    "                break\n",
    "        l2.append(count)\n",
    "        price.pop()\n",
    "        \n",
    "    return l2\n",
    "\n",
    "n = int(input())\n",
    "price = [int(ele) for ele in input().split()]\n",
    "spans = stockSpan(price,n)\n",
    "for ele in spans[::-1]:\n",
    "    print(ele,end= ' ')"
   ]
  },
  {
   "cell_type": "markdown",
   "metadata": {},
   "source": [
    "### MINIMUM BRACKET REVERSAL"
   ]
  },
  {
   "cell_type": "code",
   "execution_count": 4,
   "metadata": {},
   "outputs": [
    {
     "name": "stdout",
     "output_type": "stream",
     "text": [
      "{{{}}}\n",
      "0\n"
     ]
    }
   ],
   "source": [
    "def mbr(s):\n",
    "    if len(s)%2!=0:\n",
    "        return -1\n",
    "    l=[]  \n",
    "    for char in s:\n",
    "        if char=='{':\n",
    "            l.append(char)\n",
    "        elif char=='}':\n",
    "            if len(l)!=0 and l[-1]=='{':\n",
    "                l.pop()\n",
    "            elif len(l)!=0 and l[-1]=='}':\n",
    "                l.append(char)\n",
    "            elif len(l)==0:\n",
    "                l.append(char)\n",
    "    \n",
    "    count=0\n",
    "    while len(l)!=0:\n",
    "        c1=l.pop()\n",
    "        c2=l.pop()\n",
    "        if c1==c2:\n",
    "            count+=1\n",
    "        elif c1!=c2:\n",
    "            count+=2\n",
    "            \n",
    "    return count        \n",
    "\n",
    "s=input()\n",
    "x=mbr(s)\n",
    "print(x)"
   ]
  }
 ],
 "metadata": {
  "kernelspec": {
   "display_name": "Python 3",
   "language": "python",
   "name": "python3"
  },
  "language_info": {
   "codemirror_mode": {
    "name": "ipython",
    "version": 3
   },
   "file_extension": ".py",
   "mimetype": "text/x-python",
   "name": "python",
   "nbconvert_exporter": "python",
   "pygments_lexer": "ipython3",
   "version": "3.7.3"
  }
 },
 "nbformat": 4,
 "nbformat_minor": 2
}
