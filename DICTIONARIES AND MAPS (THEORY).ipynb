{
 "cells": [
  {
   "cell_type": "markdown",
   "metadata": {},
   "source": [
    "### PRINT ALL K FREQUENCY WORDS"
   ]
  },
  {
   "cell_type": "code",
   "execution_count": 4,
   "metadata": {},
   "outputs": [
    {
     "name": "stdout",
     "output_type": "stream",
     "text": [
      "this is a word string having many many many words\n",
      "3\n",
      "many\n"
     ]
    }
   ],
   "source": [
    "def printKfrequency(s,k):\n",
    "    d={}\n",
    "    for w in s.split():\n",
    "        d[w]=d.get(w,0)+1\n",
    "    for keys in d:\n",
    "        if d[keys]==k:\n",
    "            print(keys)\n",
    "            \n",
    "s=input()\n",
    "k=int(input())\n",
    "printKfrequency(s,k)"
   ]
  },
  {
   "cell_type": "markdown",
   "metadata": {},
   "source": [
    "### MAXIMUM FREQUENCY"
   ]
  },
  {
   "cell_type": "code",
   "execution_count": 1,
   "metadata": {},
   "outputs": [
    {
     "name": "stdout",
     "output_type": "stream",
     "text": [
      "20\n",
      "861 911 705 386 -854 653 -999 5 -650 -404 38 -403 -239 -430 -531 -253 -672 -161 -710 -300\n",
      "861\n"
     ]
    }
   ],
   "source": [
    "def maxFreq(l):\n",
    "    d={}\n",
    "    mx=0\n",
    "    for ele in l:\n",
    "        d[ele]=d.get(ele,0)+1 \n",
    "        note=d[ele]\n",
    "        if note>mx:\n",
    "            mx=note        \n",
    "    for keys in d:\n",
    "        if d[keys]==mx:\n",
    "            return keys\n",
    "\n",
    "# Main\n",
    "n=int(input())\n",
    "l=list(int(i) for i in input().strip().split(' '))\n",
    "print(maxFreq(l))\n"
   ]
  },
  {
   "cell_type": "markdown",
   "metadata": {},
   "source": [
    "### MAXIMUM FREQUENCY IN ONE LOOP"
   ]
  },
  {
   "cell_type": "code",
   "execution_count": 2,
   "metadata": {},
   "outputs": [
    {
     "name": "stdout",
     "output_type": "stream",
     "text": [
      "13\n",
      "2 12 2 11 12 2 1 2 2 11 12 2 6 \n",
      "2\n"
     ]
    }
   ],
   "source": [
    "def maxFreq(l):    \n",
    "    x=l[0]\n",
    "    d={}\n",
    "    max=x\n",
    "    for w in l:\n",
    "        d[w]=d.get(w,0)+1\n",
    "        \n",
    "        if d[w]>d[max]:\n",
    "            max=w\n",
    "    \n",
    "    return max\n",
    "     \n",
    "\n",
    "\n",
    "n=int(input())\n",
    "l=list(int(i) for i in input().strip().split(' '))\n",
    "print(maxFreq(l))"
   ]
  },
  {
   "cell_type": "markdown",
   "metadata": {},
   "source": [
    "### PAIR SUM TO 0"
   ]
  },
  {
   "cell_type": "code",
   "execution_count": 4,
   "metadata": {},
   "outputs": [
    {
     "name": "stdout",
     "output_type": "stream",
     "text": [
      "10\n",
      "48 111 -48 62 -82 55 -78 82 -26 -38 \n",
      "-48 48\n",
      "-82 82\n"
     ]
    }
   ],
   "source": [
    "def pairSum0(l):\n",
    "    d={}\n",
    "    for ele in l:\n",
    "        d[ele]=d.get(ele,0)+1\n",
    "    for ele in l:\n",
    "        if -ele in d:\n",
    "            count=d[ele]*d[-ele]\n",
    "            if ele>(-ele):\n",
    "                i=1\n",
    "                while i<=count:\n",
    "                    print(-ele,ele)\n",
    "                    i+=1\n",
    "            elif ele<=(-ele):\n",
    "                i=1\n",
    "                while i<=count:\n",
    "                    print(ele,-ele)\n",
    "                    i+=1\n",
    "        d[ele],d[-ele]=0,0            \n",
    "\n",
    "\n",
    "\n",
    "n=int(input())\n",
    "l=list(int(i) for i in input().strip().split(' '))\n",
    "pairSum0(l)"
   ]
  },
  {
   "cell_type": "code",
   "execution_count": 6,
   "metadata": {},
   "outputs": [
    {
     "name": "stdout",
     "output_type": "stream",
     "text": [
      "20\n",
      "39 11 29 40 -16 9 -40 -66 -59 84 85 5 98 -20 -1 -55 -109 68 101 73 \n",
      "-40 40\n"
     ]
    }
   ],
   "source": [
    "def pairSum0(l):\n",
    "    d={}\n",
    "    for ele in l:\n",
    "        if -ele in d:\n",
    "            count=d[-ele]\n",
    "            if ele>(-ele):\n",
    "                i=1\n",
    "                while i<=count:\n",
    "                    print(-ele,ele)\n",
    "                    i+=1\n",
    "            elif ele<=(-ele):\n",
    "                i=1\n",
    "                while i<=count:\n",
    "                    print(ele,-ele)\n",
    "                    i+=1\n",
    "        d[ele]=d.get(ele,0)+1\n",
    "\n",
    "n=int(input())\n",
    "l=list(int(i) for i in input().strip().split(' '))\n",
    "pairSum0(l)"
   ]
  },
  {
   "cell_type": "markdown",
   "metadata": {},
   "source": [
    "### INSERT IN A MAP"
   ]
  },
  {
   "cell_type": "code",
   "execution_count": 2,
   "metadata": {},
   "outputs": [
    {
     "name": "stdout",
     "output_type": "stream",
     "text": [
      "1\n",
      "2\n",
      "2\n"
     ]
    }
   ],
   "source": [
    "class MapNode:\n",
    "    def __init__(self,key,value):\n",
    "        self.key=key\n",
    "        self.value=value\n",
    "        self.next=None\n",
    "        \n",
    "class Map:\n",
    "    def __init__(self):        \n",
    "        self.bucketSize=10\n",
    "        self.buckets=[None for i in range(self.bucketSize)]\n",
    "        self.count=0\n",
    "        \n",
    "    def size(self):\n",
    "        return self.count\n",
    "    \n",
    "    def getBucketIndex(self,hc):\n",
    "        return abs(hc%(self.bucketSize))\n",
    "    \n",
    "    def insert(self,key,value):\n",
    "        hc=hash(key)\n",
    "        index=self.getBucketIndex(hc)\n",
    "        head=self.buckets[index]\n",
    "        while head is not None:\n",
    "            if head.key==key:\n",
    "                head.value=value\n",
    "                return\n",
    "            head=head.next\n",
    "        head=self.buckets[index]\n",
    "        new_node=MapNode(key,value)\n",
    "        new_node.next=head\n",
    "        self.buckets[index]=new_node\n",
    "        self.count+=1\n",
    "        \n",
    "m=Map()\n",
    "m.insert('saurav',18)\n",
    "print(m.size())\n",
    "m.insert('sid',24)\n",
    "print(m.size())\n",
    "m.insert('saurav',19)\n",
    "print(m.size())"
   ]
  },
  {
   "cell_type": "markdown",
   "metadata": {},
   "source": [
    "### SEARCH IN A MAP"
   ]
  },
  {
   "cell_type": "code",
   "execution_count": 5,
   "metadata": {},
   "outputs": [
    {
     "name": "stdout",
     "output_type": "stream",
     "text": [
      "1\n",
      "2\n",
      "2\n",
      "2\n",
      "19\n"
     ]
    }
   ],
   "source": [
    "class MapNode:\n",
    "    def __init__(self,key,value):\n",
    "        self.key=key\n",
    "        self.value=value\n",
    "        self.next=None\n",
    "        \n",
    "class Map:\n",
    "    def __init__(self):        \n",
    "        self.bucketSize=10\n",
    "        self.buckets=[None for i in range(self.bucketSize)]\n",
    "        self.count=0\n",
    "        \n",
    "    def size(self):\n",
    "        return self.count\n",
    "    \n",
    "    def getBucketIndex(self,hc):\n",
    "        return abs(hc%(self.bucketSize))\n",
    "    \n",
    "    def insert(self,key,value):\n",
    "        hc=hash(key)\n",
    "        index=self.getBucketIndex(hc)\n",
    "        head=self.buckets[index]\n",
    "        while head is not None:\n",
    "            if head.key==key:\n",
    "                head.value=value\n",
    "                return\n",
    "            head=head.next\n",
    "        head=self.buckets[index]\n",
    "        new_node=MapNode(key,value)\n",
    "        new_node.next=head\n",
    "        self.buckets[index]=new_node\n",
    "        self.count+=1\n",
    "     \n",
    "    def search(self,key):\n",
    "        hc=hash(key)\n",
    "        index=self.getBucketIndex(hc)\n",
    "        head=self.buckets[index]\n",
    "        while head is not None:\n",
    "            if head.key==key:                \n",
    "                return head.value\n",
    "            head=head.next\n",
    "        return None\n",
    "    \n",
    "m=Map()\n",
    "m.insert('saurav',18)\n",
    "print(m.size())\n",
    "m.insert('sid',24)\n",
    "print(m.size())\n",
    "m.insert('saurav',19)\n",
    "print(m.size())\n",
    "print(m.size())\n",
    "print(m.search('saurav'))"
   ]
  },
  {
   "cell_type": "markdown",
   "metadata": {},
   "source": [
    "### REMOVE IN A MAP"
   ]
  },
  {
   "cell_type": "code",
   "execution_count": 8,
   "metadata": {},
   "outputs": [
    {
     "name": "stdout",
     "output_type": "stream",
     "text": [
      "1\n",
      "2\n",
      "1\n"
     ]
    }
   ],
   "source": [
    "class MapNode:\n",
    "    def __init__(self,key,value):\n",
    "        self.key=key\n",
    "        self.value=value\n",
    "        self.next=None\n",
    "        \n",
    "class Map:\n",
    "    def __init__(self):        \n",
    "        self.bucketSize=10\n",
    "        self.buckets=[None for i in range(self.bucketSize)]\n",
    "        self.count=0\n",
    "        \n",
    "    def size(self):\n",
    "        return self.count\n",
    "    \n",
    "    def getBucketIndex(self,hc):\n",
    "        return abs(hc%(self.bucketSize))\n",
    "    \n",
    "    def insert(self,key,value):\n",
    "        hc=hash(key)\n",
    "        index=self.getBucketIndex(hc)\n",
    "        head=self.buckets[index]\n",
    "        while head is not None:\n",
    "            if head.key==key:\n",
    "                head.value=value\n",
    "                return\n",
    "            head=head.next\n",
    "        head=self.buckets[index]\n",
    "        new_node=MapNode(key,value)\n",
    "        new_node.next=head\n",
    "        self.buckets[index]=new_node\n",
    "        self.count+=1\n",
    "     \n",
    "    def remove(self,key):\n",
    "        hc=hash(key)\n",
    "        index=self.getBucketIndex(hc)\n",
    "        head=self.buckets[index]\n",
    "        prev=None\n",
    "        while head is not None:\n",
    "            if head.key==key:\n",
    "                if prev==None:\n",
    "                    self.buckets[index]=head.next\n",
    "                else:\n",
    "                    prev.next=head.next\n",
    "                self.count-=1\n",
    "                return head.value\n",
    "            prev=head\n",
    "            head=head.next              \n",
    "        return None\n",
    "        \n",
    "m=Map()\n",
    "m.insert('saurav',18)\n",
    "print(m.size())\n",
    "m.insert('sid',24)\n",
    "print(m.size())\n",
    "m.insert('saurav',19)\n",
    "m.remove('sid')\n",
    "print(m.size())"
   ]
  },
  {
   "cell_type": "markdown",
   "metadata": {},
   "source": [
    "### REHASHING"
   ]
  },
  {
   "cell_type": "code",
   "execution_count": 3,
   "metadata": {},
   "outputs": [
    {
     "name": "stdout",
     "output_type": "stream",
     "text": [
      "0.2\n",
      "0.4\n",
      "0.6\n",
      "0.4\n",
      "0.5\n",
      "0.6\n",
      "0.35\n",
      "0.4\n",
      "0.45\n",
      "0.5\n",
      "abc0 1\n",
      "abc1 2\n",
      "abc2 3\n",
      "abc3 4\n",
      "abc4 5\n",
      "abc5 6\n",
      "abc6 7\n",
      "abc7 8\n",
      "abc8 9\n",
      "abc9 10\n"
     ]
    }
   ],
   "source": [
    "class MapNode:\n",
    "    def __init__(self,key,value):\n",
    "        self.key=key\n",
    "        self.value=value\n",
    "        self.next=None\n",
    "        \n",
    "class Map:\n",
    "    def __init__(self):        \n",
    "        self.bucketSize=5\n",
    "        self.buckets=[None for i in range(self.bucketSize)]\n",
    "        self.count=0\n",
    "        \n",
    "    def size(self):\n",
    "        return self.count\n",
    "    \n",
    "    def getBucketIndex(self,hc):\n",
    "        return abs(hc%(self.bucketSize))\n",
    "    \n",
    "    def search(self,key):\n",
    "        hc=hash(key)\n",
    "        index=self.getBucketIndex(hc)\n",
    "        head=self.buckets[index]\n",
    "        while head is not None:\n",
    "            if head.key==key:                \n",
    "                return head.value\n",
    "            head=head.next\n",
    "        return None\n",
    "    \n",
    "    def rehash(self):\n",
    "        temp=self.buckets\n",
    "        self.buckets=[None for i in range(2*self.bucketSize)]\n",
    "        self.bucketSize=2*self.bucketSize\n",
    "        self.count=0\n",
    "        for head in temp:\n",
    "            while head is not None:\n",
    "                self.insert(head.key,head.value)\n",
    "                head=head.next\n",
    "    \n",
    "    def loadFactor(self):\n",
    "        return self.count/self.bucketSize\n",
    "    \n",
    "    def insert(self,key,value):\n",
    "        hc=hash(key)\n",
    "        index=self.getBucketIndex(hc)\n",
    "        head=self.buckets[index]\n",
    "        while head is not None:\n",
    "            if head.key==key:\n",
    "                head.value=value\n",
    "                return\n",
    "            head=head.next\n",
    "        head=self.buckets[index]\n",
    "        new_node=MapNode(key,value)\n",
    "        new_node.next=head\n",
    "        self.buckets[index]=new_node\n",
    "        self.count+=1\n",
    "        loadFactor=self.count/self.bucketSize\n",
    "        if loadFactor>=0.7:\n",
    "            self.rehash()\n",
    "        \n",
    "m=Map()\n",
    "for i in range(10):\n",
    "    m.insert('abc'+str(i),i+1)\n",
    "    print(m.loadFactor())\n",
    "    \n",
    "for i in range(10):\n",
    "    print('abc'+str(i),m.search('abc'+str(i)))"
   ]
  },
  {
   "cell_type": "markdown",
   "metadata": {},
   "source": [
    "### EXTRACT UNIQUE CHARACTERS"
   ]
  },
  {
   "cell_type": "code",
   "execution_count": 6,
   "metadata": {},
   "outputs": [
    {
     "name": "stdout",
     "output_type": "stream",
     "text": [
      "Bcr$gw)TcE5S@DHTFw76\n",
      "Bcr$gw)TE5S@DHF76\n"
     ]
    }
   ],
   "source": [
    "def uniqueChars(string):\n",
    "    d={}\n",
    "    temp=''\n",
    "    for ele in string:\n",
    "        d[ele]=d.get(ele,0)+1\n",
    "    for ele in d:\n",
    "        temp=temp+ele\n",
    "    return temp    \n",
    "\n",
    "# Main\n",
    "string = input()\n",
    "print(uniqueChars(string))"
   ]
  },
  {
   "cell_type": "markdown",
   "metadata": {},
   "source": [
    "### EXTRACT UNIQUE CHARACTERS IN ONE LOOP"
   ]
  },
  {
   "cell_type": "code",
   "execution_count": null,
   "metadata": {},
   "outputs": [],
   "source": [
    "def uniqueChars(string):\n",
    "    d={}\n",
    "    temp=''\n",
    "    for ele in string:\n",
    "        d[ele]=d.get(ele,0)+1\n",
    "        if d[ele]==1:\n",
    "            temp=temp+ele\n",
    "    return temp    \n",
    "\n",
    "# Main\n",
    "string = input()\n",
    "print(uniqueChars(string))"
   ]
  },
  {
   "cell_type": "markdown",
   "metadata": {},
   "source": [
    "### LONGEST CONSEQUETIVE SEQUENCE"
   ]
  },
  {
   "cell_type": "code",
   "execution_count": 11,
   "metadata": {},
   "outputs": [
    {
     "name": "stdout",
     "output_type": "stream",
     "text": [
      "13\n",
      "2 12 9 16 10 5 3 20 25 11 1 8 6\n",
      "8\n",
      "9\n",
      "10\n",
      "11\n",
      "12\n"
     ]
    }
   ],
   "source": [
    "def lcs(l):\n",
    "    d={}\n",
    "    li=[]\n",
    "    max=0\n",
    "    start=0\n",
    "    for ele in l:\n",
    "        d[ele]=True\n",
    "    for key in d:\n",
    "        if d[key]==True:\n",
    "            fcurr,bcurr=key,key\n",
    "            note=1\n",
    "            while fcurr+1 in d:\n",
    "                note+=1            \n",
    "                fcurr+=1        \n",
    "                \n",
    "                d[fcurr]=False\n",
    "            while bcurr-1 in d:\n",
    "                note+=1\n",
    "                bcurr-=1\n",
    "                d[bcurr]=False\n",
    "            if note>max:\n",
    "                max=note\n",
    "                start=bcurr\n",
    "            d[key]=False        \n",
    "    \n",
    "    temp=start\n",
    "    for i in range(0,max,1):\n",
    "        li.append(temp+i)\n",
    "       \n",
    "    return li\n",
    "\n",
    "n=int(input())\n",
    "l=list(int(i) for i in input().strip().split(' '))\n",
    "final = lcs(l)\n",
    "for num in final:\n",
    "    print(num)"
   ]
  },
  {
   "cell_type": "markdown",
   "metadata": {},
   "source": [
    "### LONGEST CONSECUTIVE SEQUENCE-2 (TO REMOVE RANDOM KEY INITIALISATION ISSUE OF CODE ZEN)"
   ]
  },
  {
   "cell_type": "code",
   "execution_count": 10,
   "metadata": {},
   "outputs": [
    {
     "name": "stdout",
     "output_type": "stream",
     "text": [
      "20\n",
      "693 697 299 662 290 288 925 234 257 192 687 144 142 710 66 955 321 629 989 621 \n",
      "693\n"
     ]
    }
   ],
   "source": [
    "def longestConsecutiveSubsequence(l):\n",
    "#Implement Your Code Here\n",
    "#You have To Return the list of longestConsecutiveSubsequence\n",
    "    n = len(l)\n",
    "    d = {}\n",
    "    maxlength=0\n",
    "    lst=[]\n",
    "    for ele in l:\n",
    "        d[ele]=1\n",
    "    for i in l:\n",
    "        if (i-1) not in d:\n",
    "            j = i\n",
    "            while j in d:\n",
    "                j+=1\n",
    "            if (j-i)>maxlength:\n",
    "                maxlength=j-i\n",
    "                start=i\n",
    "    k = 0\n",
    "    while k<maxlength:\n",
    "        lst.append(start)\n",
    "        start+=1\n",
    "        k+=1\n",
    "    return lst\n",
    "    \n",
    "\n",
    "n=int(input())\n",
    "l=list(int(i) for i in input().strip().split(' '))\n",
    "final = longestConsecutiveSubsequence(l)\n",
    "for num in final:\n",
    "    print(num)"
   ]
  },
  {
   "cell_type": "markdown",
   "metadata": {},
   "source": [
    "### PAIRS WITH DIFFERENCE K"
   ]
  },
  {
   "cell_type": "code",
   "execution_count": 3,
   "metadata": {},
   "outputs": [
    {
     "name": "stdout",
     "output_type": "stream",
     "text": [
      "4\n",
      "5 2 4 2\n",
      "3\n",
      "2 5\n",
      "2 5\n"
     ]
    }
   ],
   "source": [
    "def printPairDiffK(l, k):\n",
    "    d={}\n",
    "    for ele in l:\n",
    "        if k==0:\n",
    "            if ele in d:\n",
    "                count=d[ele]\n",
    "                i=1\n",
    "                while i<=count:\n",
    "                    print(ele,ele)\n",
    "                    i+=1       \n",
    "        else:\n",
    "            if (ele-k) in d:\n",
    "                count=d[ele-k]\n",
    "                i=1\n",
    "                while i<=count:\n",
    "                    print(ele-k,ele)\n",
    "                    i+=1\n",
    "                \n",
    "            if (ele+k) in d:\n",
    "                count=d[ele+k]\n",
    "                i=1\n",
    "                while i<=count:\n",
    "                    print(ele,ele+k)\n",
    "                    i+=1\n",
    "        d[ele]=d.get(ele,0)+1        \n",
    "\n",
    "\n",
    "n=int(input())\n",
    "l=list(int(i) for i in input().strip().split(' '))\n",
    "k=int(input())\n",
    "printPairDiffK(l, k)"
   ]
  },
  {
   "cell_type": "markdown",
   "metadata": {},
   "source": [
    "### LONGEST SUBSET ZERO SUM"
   ]
  },
  {
   "cell_type": "code",
   "execution_count": 7,
   "metadata": {},
   "outputs": [
    {
     "name": "stdout",
     "output_type": "stream",
     "text": [
      "10\n",
      " 95 -97 -387 -435 -5 -70 897 127 23 284\n",
      "5\n"
     ]
    }
   ],
   "source": [
    "\n",
    "def subsetSum(li):\n",
    "    d={}\n",
    "    sum=0\n",
    "    i=0    \n",
    "    max=0\n",
    "    if len(li)==1 and li[0]==0:\n",
    "        return 1\n",
    "    for ele in li:\n",
    "        sum+=ele\n",
    "        if sum in d:            \n",
    "            if i-d[sum]>max:\n",
    "                max=i-d[sum]                \n",
    "                i+=1\n",
    "            else:\n",
    "                i+=1\n",
    "        else:\n",
    "            d[sum]=i\n",
    "            i+=1            \n",
    "    return max       \n",
    "\n",
    "n=int(input())\n",
    "li=list(int(i) for i in input().strip().split(' '))\n",
    "finalLen= subsetSum(li)\n",
    "print(finalLen)"
   ]
  }
 ],
 "metadata": {
  "kernelspec": {
   "display_name": "Python 3",
   "language": "python",
   "name": "python3"
  },
  "language_info": {
   "codemirror_mode": {
    "name": "ipython",
    "version": 3
   },
   "file_extension": ".py",
   "mimetype": "text/x-python",
   "name": "python",
   "nbconvert_exporter": "python",
   "pygments_lexer": "ipython3",
   "version": "3.7.3"
  }
 },
 "nbformat": 4,
 "nbformat_minor": 2
}
