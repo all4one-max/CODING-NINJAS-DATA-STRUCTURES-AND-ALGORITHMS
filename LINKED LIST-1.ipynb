{
 "cells": [
  {
   "cell_type": "markdown",
   "metadata": {},
   "source": [
    "### INPUT OF LL-1"
   ]
  },
  {
   "cell_type": "code",
   "execution_count": 7,
   "metadata": {},
   "outputs": [
    {
     "name": "stdout",
     "output_type": "stream",
     "text": [
      "1 2 3 4 5 -1\n",
      "<__main__.node object at 0x0000009385D6AEF0>\n",
      "<__main__.node object at 0x0000009385D6AEB8>\n",
      "<__main__.node object at 0x0000009385D6AD68>\n",
      "<__main__.node object at 0x0000009385D6ACF8>\n",
      "<__main__.node object at 0x0000009385D6A278>\n",
      "None\n"
     ]
    }
   ],
   "source": [
    "class node:\n",
    "    def __init__(self,data):\n",
    "        self.data=data\n",
    "        self.next=None\n",
    "        \n",
    "def take_input():\n",
    "    input_list=[int(x) for x in input().split()]\n",
    "    head=None\n",
    "    for curr_data in input_list:\n",
    "        if curr_data==-1:\n",
    "            break\n",
    "            \n",
    "        new_node=node(curr_data)\n",
    "        if head is None:\n",
    "            head=new_node\n",
    "                 \n",
    "        else:\n",
    "            curr=head\n",
    "            while curr.next is not None:\n",
    "                curr=curr.next\n",
    "            curr.next=new_node\n",
    "            \n",
    "    return head\n",
    "\n",
    "head=take_input()\n",
    "print(head)\n",
    "print(head.next)\n",
    "print(head.next.next)\n",
    "print(head.next.next.next)\n",
    "print(head.next.next.next.next)\n",
    "print(head.next.next.next.next.next)"
   ]
  },
  {
   "cell_type": "markdown",
   "metadata": {},
   "source": [
    "### PRINT LL"
   ]
  },
  {
   "cell_type": "code",
   "execution_count": 9,
   "metadata": {},
   "outputs": [
    {
     "name": "stdout",
     "output_type": "stream",
     "text": [
      "1 2 3 4 5 -1\n",
      "1->2->3->4->5->None\n"
     ]
    }
   ],
   "source": [
    "class node:\n",
    "    def __init__(self,data):\n",
    "        self.data=data\n",
    "        self.next=None\n",
    "        \n",
    "def take_input():\n",
    "    input_list=[int(x) for x in input().split()]\n",
    "    head=None\n",
    "    for curr_data in input_list:\n",
    "        if curr_data==-1:\n",
    "            break\n",
    "            \n",
    "        new_node=node(curr_data)\n",
    "        if head is None:\n",
    "            head=new_node\n",
    "                 \n",
    "        else:\n",
    "            curr=head\n",
    "            while curr.next is not None:\n",
    "                curr=curr.next\n",
    "            curr.next=new_node\n",
    "            \n",
    "    return head\n",
    "\n",
    "def printLL(head):\n",
    "    while head is not None:\n",
    "        print(str(head.data)+'->',end='')\n",
    "        head=head.next\n",
    "    print(\"None\")    \n",
    "\n",
    "    \n",
    "head=take_input()\n",
    "printLL(head)"
   ]
  },
  {
   "cell_type": "markdown",
   "metadata": {},
   "source": [
    "### INPUT LL-2"
   ]
  },
  {
   "cell_type": "code",
   "execution_count": 9,
   "metadata": {},
   "outputs": [
    {
     "name": "stdout",
     "output_type": "stream",
     "text": [
      "1 2 3 4 5 -1\n",
      "<__main__.node object at 0x00000094678F99B0> <__main__.node object at 0x000000946791F198>\n"
     ]
    }
   ],
   "source": [
    "class node:\n",
    "    def __init__(self,data):\n",
    "        self.data=data\n",
    "        self.next=None\n",
    "        \n",
    "def take_input():\n",
    "    input_list=[int(x) for x in input().split()]\n",
    "    head=None\n",
    "    tail=None\n",
    "    for curr_data in input_list:\n",
    "        if curr_data==-1:\n",
    "            break\n",
    "            \n",
    "        new_node=node(curr_data)\n",
    "        if head is None:\n",
    "            head=new_node\n",
    "            tail=new_node     \n",
    "        else:\n",
    "            tail.next=new_node\n",
    "            tail=new_node\n",
    "            \n",
    "    return head,tail\n",
    "\n",
    "head,tail=take_input()\n",
    "print(head,tail)"
   ]
  },
  {
   "cell_type": "markdown",
   "metadata": {},
   "source": [
    "### LENGTH OF LL-ITERATIVELY"
   ]
  },
  {
   "cell_type": "code",
   "execution_count": 2,
   "metadata": {},
   "outputs": [
    {
     "name": "stdout",
     "output_type": "stream",
     "text": [
      "1 2 3 4 5 -1\n",
      "5\n"
     ]
    }
   ],
   "source": [
    "class node:\n",
    "    def __init__(self,data):\n",
    "        self.data=data\n",
    "        self.next=None\n",
    "        \n",
    "def take_input():\n",
    "    input_list=[int(x) for x in input().split()]\n",
    "    head=None\n",
    "    tail=None\n",
    "    for curr_data in input_list:\n",
    "        if curr_data==-1:\n",
    "            break\n",
    "            \n",
    "        new_node=node(curr_data)\n",
    "        if head is None:\n",
    "            head=new_node\n",
    "            tail=new_node     \n",
    "        else:\n",
    "            tail.next=new_node\n",
    "            tail=new_node\n",
    "            \n",
    "    return head,tail\n",
    "\n",
    "def  lenll(head):\n",
    "    count=0\n",
    "    while head is not None:\n",
    "        count=count+1\n",
    "        head=head.next    \n",
    "    return count\n",
    "\n",
    "head,tail=take_input()\n",
    "lll=lenll(head)\n",
    "print(lll)"
   ]
  },
  {
   "cell_type": "markdown",
   "metadata": {},
   "source": [
    "### PRINT ith NODE"
   ]
  },
  {
   "cell_type": "code",
   "execution_count": 25,
   "metadata": {},
   "outputs": [
    {
     "name": "stdout",
     "output_type": "stream",
     "text": [
      "1 2 3 4 5 -1\n",
      "3\n",
      "4\n"
     ]
    }
   ],
   "source": [
    "class node:\n",
    "    def __init__(self,data):\n",
    "        self.data=data\n",
    "        self.next=None\n",
    "        \n",
    "def take_input():\n",
    "    input_list=[int(x) for x in input().split()]\n",
    "    head=None\n",
    "    tail=None\n",
    "    for curr_data in input_list:\n",
    "        if curr_data==-1:\n",
    "            break\n",
    "            \n",
    "        new_node=node(curr_data)\n",
    "        if head is None:\n",
    "            head=new_node\n",
    "            tail=new_node     \n",
    "        else:\n",
    "            tail.next=new_node\n",
    "            tail=new_node\n",
    "            \n",
    "    return head,tail\n",
    "\n",
    "def  lenll(head):\n",
    "    count=0\n",
    "    while head is not None:\n",
    "        count=count+1\n",
    "        head=head.next\n",
    "    \n",
    "    return count\n",
    "\n",
    "def print_ith(head,i):\n",
    "    a=0\n",
    "    while(a<i):       \n",
    "        head=head.next\n",
    "        a=a+1\n",
    "    print(head.data)  \n",
    "        \n",
    "\n",
    "head,tail=take_input()\n",
    "i=int(input())\n",
    "lll=lenll(head)\n",
    "if i>=lll:\n",
    "    print()\n",
    "else:\n",
    "    print_ith(head,i)"
   ]
  },
  {
   "cell_type": "markdown",
   "metadata": {},
   "source": [
    "### INSERT AT ith POSITION-iteratively"
   ]
  },
  {
   "cell_type": "code",
   "execution_count": 32,
   "metadata": {},
   "outputs": [
    {
     "name": "stdout",
     "output_type": "stream",
     "text": [
      "1 2 3 4 5 -1\n",
      "5\n",
      "6\n",
      "1->2->3->4->5->6->None\n"
     ]
    }
   ],
   "source": [
    "class node:\n",
    "    def __init__(self,data):\n",
    "        self.data=data\n",
    "        self.next=None\n",
    "        \n",
    "def take_input():\n",
    "    input_list=[int(x) for x in input().split()]\n",
    "    head=None\n",
    "    tail=None\n",
    "    for curr_data in input_list:\n",
    "        if curr_data==-1:\n",
    "            break\n",
    "            \n",
    "        new_node=node(curr_data)\n",
    "        if head is None:\n",
    "            head=new_node\n",
    "            tail=new_node     \n",
    "        else:\n",
    "            tail.next=new_node\n",
    "            tail=new_node\n",
    "            \n",
    "    return head,tail\n",
    "\n",
    "def insert_ith(head,i,data):\n",
    "    new_node=node(data)\n",
    "    prev=None\n",
    "    curr=head\n",
    "    count=0\n",
    "    while(count<i):\n",
    "        prev=curr\n",
    "        curr=curr.next\n",
    "        count=count+1\n",
    "    \n",
    "    if prev==None:\n",
    "        head=new_node\n",
    "    else:\n",
    "        prev.next=new_node\n",
    "    new_node.next=curr\n",
    "    return head\n",
    "\n",
    "def printLL(head):\n",
    "    while head is not None:\n",
    "        print(str(head.data)+'->',end='')\n",
    "        head=head.next\n",
    "    print(\"None\") \n",
    "\n",
    "head,tail=take_input()\n",
    "i,data=int(input()),int(input())\n",
    "headc=insert_ith(head,i,data)\n",
    "printLL(headc)"
   ]
  },
  {
   "cell_type": "markdown",
   "metadata": {},
   "source": [
    "### DELETE NODE"
   ]
  },
  {
   "cell_type": "code",
   "execution_count": 15,
   "metadata": {},
   "outputs": [
    {
     "name": "stdout",
     "output_type": "stream",
     "text": [
      "1 2 3 4 5 6 7 8 9 -1\n",
      "9\n",
      "1 2 3 4 5 6 7 8 9 "
     ]
    }
   ],
   "source": [
    "class node:\n",
    "    def __init__(self,data):\n",
    "        self.data=data\n",
    "        self.next=None\n",
    "        \n",
    "def take_input():\n",
    "    input_list=[int(x) for x in input().split()]\n",
    "    head=None\n",
    "    tail=None\n",
    "    for curr_data in input_list:\n",
    "        if curr_data==-1:\n",
    "            break\n",
    "            \n",
    "        new_node=node(curr_data)\n",
    "        if head is None:\n",
    "            head=new_node\n",
    "            tail=new_node     \n",
    "        else:\n",
    "            tail.next=new_node\n",
    "            tail=new_node\n",
    "            \n",
    "    return head,tail\n",
    "\n",
    "def printLL(head):\n",
    "    while head is not None:\n",
    "        print(str(head.data),end=' ')\n",
    "        head=head.next\n",
    "\n",
    "def  lenll(head):\n",
    "    count=0\n",
    "    while head is not None:\n",
    "        count=count+1\n",
    "        head=head.next   \n",
    "    return count        \n",
    "        \n",
    "def delete_node(head,n):\n",
    "    precount,postcount=1,0\n",
    "    pren,postn=head,head\n",
    "    ll=lenll(head)\n",
    "    if n==0:\n",
    "        head=pren.next\n",
    "    elif n>(ll-1):\n",
    "        return head\n",
    "    else:\n",
    "        while precount<n:\n",
    "            pren=pren.next\n",
    "            precount+=1\n",
    "        while postcount<(n+1):\n",
    "            postn=postn.next\n",
    "            postcount+=1\n",
    "        pren.next=postn\n",
    "    return head\n",
    "\n",
    "head,tail=take_input()\n",
    "n=int(input())\n",
    "headc=delete_node(head,n)\n",
    "printLL(headc)"
   ]
  },
  {
   "cell_type": "markdown",
   "metadata": {},
   "source": [
    "### LENGTH OF LINKED LIST-RECURSIVELY"
   ]
  },
  {
   "cell_type": "code",
   "execution_count": 21,
   "metadata": {},
   "outputs": [
    {
     "name": "stdout",
     "output_type": "stream",
     "text": [
      "1 2 3 4 5 6 7 8 9 10 -1\n",
      "10\n"
     ]
    }
   ],
   "source": [
    "class node:\n",
    "    def __init__(self,data):\n",
    "        self.data=data\n",
    "        self.next=None\n",
    "        \n",
    "def take_input():\n",
    "    input_list=[int(x) for x in input().split()]\n",
    "    head=None\n",
    "    tail=None\n",
    "    for curr_data in input_list:\n",
    "        if curr_data==-1:\n",
    "            break\n",
    "            \n",
    "        new_node=node(curr_data)\n",
    "        if head is None:\n",
    "            head=new_node\n",
    "            tail=new_node     \n",
    "        else:\n",
    "            tail.next=new_node\n",
    "            tail=new_node\n",
    "            \n",
    "    return head,tail\n",
    "\n",
    "def llr(head,count):\n",
    "    if head==None:\n",
    "        return count\n",
    "    else:\n",
    "        count+=1\n",
    "        return llr(head.next,count)\n",
    "\n",
    "head,tail=take_input()\n",
    "count=0\n",
    "lll=llr(head,count)\n",
    "print(lll)"
   ]
  },
  {
   "cell_type": "markdown",
   "metadata": {},
   "source": [
    "### INSERT AT ith POSITION-RECURSIVELY"
   ]
  },
  {
   "cell_type": "code",
   "execution_count": 6,
   "metadata": {},
   "outputs": [
    {
     "name": "stdout",
     "output_type": "stream",
     "text": [
      "1 2 3 4 5 6 -1\n",
      "6\n",
      "8\n",
      "1 2 3 4 5 6 8 "
     ]
    }
   ],
   "source": [
    "class node:\n",
    "    def __init__(self,data):\n",
    "        self.data=data\n",
    "        self.next=None\n",
    "        \n",
    "def take_input():\n",
    "    input_list=[int(x) for x in input().split()]\n",
    "    head=None\n",
    "    tail=None\n",
    "    for curr_data in input_list:\n",
    "        if curr_data==-1:\n",
    "            break\n",
    "            \n",
    "        new_node=node(curr_data)\n",
    "        if head is None:\n",
    "            head=new_node\n",
    "            tail=new_node     \n",
    "        else:\n",
    "            tail.next=new_node\n",
    "            tail=new_node\n",
    "            \n",
    "    return head,tail\n",
    "\n",
    "def printLL(head):\n",
    "    while head is not None:\n",
    "        print(str(head.data),end=' ')\n",
    "        head=head.next\n",
    "    return    \n",
    "\n",
    "def insert(head,i,data):\n",
    "    if i==0:\n",
    "        new_node=node(data)\n",
    "        new_node.next=head\n",
    "        return new_node\n",
    "    elif i<0:\n",
    "        return head\n",
    "    \n",
    "    if head is None:\n",
    "        return  None\n",
    "    \n",
    "    small_head=insert(head.next,i-1,data)\n",
    "    head.next=small_head\n",
    "    return head\n",
    "\n",
    "head,tail=take_input()        \n",
    "i,data=int(input()),int(input())\n",
    "headc=insert(head,i,data)\n",
    "printLL(headc)"
   ]
  },
  {
   "cell_type": "markdown",
   "metadata": {},
   "source": [
    "### DELETE NODE-RECURSIVELY"
   ]
  },
  {
   "cell_type": "code",
   "execution_count": 9,
   "metadata": {},
   "outputs": [
    {
     "name": "stdout",
     "output_type": "stream",
     "text": [
      "1 2 3 4 5 6 -1\n",
      "0\n",
      "2 3 4 5 6 "
     ]
    }
   ],
   "source": [
    "class node:\n",
    "    def __init__(self,data):\n",
    "        self.data=data\n",
    "        self.next=None\n",
    "        \n",
    "def take_input():\n",
    "    input_list=[int(x) for x in input().split()]\n",
    "    head=None\n",
    "    tail=None\n",
    "    for curr_data in input_list:\n",
    "        if curr_data==-1:\n",
    "            break\n",
    "            \n",
    "        new_node=node(curr_data)\n",
    "        if head is None:\n",
    "            head=new_node\n",
    "            tail=new_node     \n",
    "        else:\n",
    "            tail.next=new_node\n",
    "            tail=new_node\n",
    "            \n",
    "    return head,tail\n",
    "\n",
    "def printLL(head):\n",
    "    while head is not None:\n",
    "        print(str(head.data),end=' ')\n",
    "        head=head.next\n",
    "    return\n",
    "\n",
    "def delete_node(head,i):\n",
    "    if head is None:\n",
    "        return None  \n",
    "    \n",
    "    if i==0:\n",
    "        head=head.next\n",
    "        return head          \n",
    "    \n",
    "    small_head=delete_node(head.next,i-1)\n",
    "    head.next=small_head\n",
    "    return head\n",
    "\n",
    "head,tail=take_input()\n",
    "i=int(input())\n",
    "headc=delete_node(head,i)\n",
    "printLL(headc)"
   ]
  },
  {
   "cell_type": "markdown",
   "metadata": {},
   "source": [
    "### FIND NODE IN LL"
   ]
  },
  {
   "cell_type": "code",
   "execution_count": 9,
   "metadata": {},
   "outputs": [
    {
     "name": "stdout",
     "output_type": "stream",
     "text": [
      "73 0 9 9\n",
      "-1\n",
      "-1\n"
     ]
    }
   ],
   "source": [
    "class node:\n",
    "    def __init__(self,data):\n",
    "        self.data=data\n",
    "        self.next=None\n",
    "        \n",
    "def take_input():\n",
    "    input_list=[int(x) for x in input().split()]\n",
    "    head=None\n",
    "    tail=None\n",
    "    for curr_data in input_list:\n",
    "        if curr_data==-1:\n",
    "            break\n",
    "            \n",
    "        new_node=node(curr_data)\n",
    "        if head is None:\n",
    "            head=new_node\n",
    "            tail=new_node     \n",
    "        else:\n",
    "            tail.next=new_node\n",
    "            tail=new_node\n",
    "            \n",
    "    return head,tail\n",
    "\n",
    "def find_node(head,i,count):\n",
    "    while head is not None:\n",
    "        if head.data==i:\n",
    "            return count\n",
    "        count+=1\n",
    "        head=head.next\n",
    "    else:\n",
    "        return -1\n",
    "        \n",
    "head,tail=take_input()\n",
    "i,count=int(input()),0\n",
    "x=find_node(head,i,count)\n",
    "print(x)"
   ]
  },
  {
   "cell_type": "markdown",
   "metadata": {},
   "source": [
    "### APPEND LAST N TO FIRST"
   ]
  },
  {
   "cell_type": "code",
   "execution_count": 28,
   "metadata": {},
   "outputs": [
    {
     "name": "stdout",
     "output_type": "stream",
     "text": [
      "1 2 3 4 5 -1\n",
      "4\n",
      "2 3 4 5 1 "
     ]
    }
   ],
   "source": [
    "class node:\n",
    "    def __init__(self,data):\n",
    "        self.data=data\n",
    "        self.next=None\n",
    "        \n",
    "def take_input():\n",
    "    input_list=[int(x) for x in input().split()]\n",
    "    head=None\n",
    "    tail=None\n",
    "    for curr_data in input_list:\n",
    "        if curr_data==-1:\n",
    "            break\n",
    "            \n",
    "        new_node=node(curr_data)\n",
    "        if head is None:\n",
    "            head=new_node\n",
    "            tail=new_node     \n",
    "        else:\n",
    "            tail.next=new_node\n",
    "            tail=new_node\n",
    "            \n",
    "    return head,tail\n",
    "\n",
    "def printLL(head):\n",
    "    while head is not None:\n",
    "        print(str(head.data),end=' ')\n",
    "        head=head.next\n",
    "    return\n",
    "\n",
    "def  lenll(head):\n",
    "    count=0\n",
    "    while head is not None:\n",
    "        count=count+1\n",
    "        head=head.next\n",
    "    return count\n",
    "\n",
    "def append_lntf(head,tail,n):\n",
    "    lll,counter=lenll(head),0\n",
    "    while counter<(lll-n):\n",
    "        tail.next=head\n",
    "        tail=head\n",
    "        head=head.next\n",
    "        counter=counter+1\n",
    "    tail.next=None    \n",
    "    return head    \n",
    "\n",
    "head,tail=take_input()\n",
    "n=int(input())\n",
    "headc=append_lntf(head,tail,n)\n",
    "printLL(headc)"
   ]
  },
  {
   "cell_type": "markdown",
   "metadata": {},
   "source": [
    "### ELIMINATE DUPLICATES FROM LINKED LIST"
   ]
  },
  {
   "cell_type": "code",
   "execution_count": 2,
   "metadata": {},
   "outputs": [
    {
     "name": "stdout",
     "output_type": "stream",
     "text": [
      "1 2 3 3 3 4 4 5 5 5 7 -1\n",
      "1 2 3 4 5 7\n"
     ]
    }
   ],
   "source": [
    "class node:\n",
    "    def __init__(self,data):\n",
    "        self.data=data\n",
    "        self.next=None\n",
    "        \n",
    "def take_input():\n",
    "    input_list=[int(x) for x in input().split()]\n",
    "    head=None\n",
    "    tail=None\n",
    "    for curr_data in input_list:\n",
    "        if curr_data==-1:\n",
    "            break\n",
    "            \n",
    "        new_node=node(curr_data)\n",
    "        if head is None:\n",
    "            head=new_node\n",
    "            tail=new_node     \n",
    "        else:\n",
    "            tail.next=new_node\n",
    "            tail=new_node\n",
    "            \n",
    "    return head,tail\n",
    "\n",
    "def printLL(head):\n",
    "    while head is not None:\n",
    "        print(str(head.data),end=' ')\n",
    "        head=head.next\n",
    "    return\n",
    "\n",
    "def remove_duplicates(head):\n",
    "    pre,post=head,head.next\n",
    "    while post is not None:\n",
    "        if pre.data==post.data:\n",
    "            post=post.next           \n",
    "        elif pre.data!=post.data:\n",
    "            print(pre.data,end=' ')\n",
    "            pre.next=post\n",
    "            pre=pre.next\n",
    "            post=post.next\n",
    "    print(pre.data)        \n",
    "    return \n",
    "\n",
    "head,tail=take_input()\n",
    "remove_duplicates(head)"
   ]
  },
  {
   "cell_type": "markdown",
   "metadata": {},
   "source": [
    "### PRINT REVERSED LINKED LIST"
   ]
  },
  {
   "cell_type": "code",
   "execution_count": 2,
   "metadata": {},
   "outputs": [
    {
     "name": "stdout",
     "output_type": "stream",
     "text": [
      "1 2 3 4 5 -1\n",
      "5 4 3 2 1 "
     ]
    }
   ],
   "source": [
    "class node:\n",
    "    def __init__(self,data):\n",
    "        self.data=data\n",
    "        self.next=None\n",
    "        \n",
    "def take_input():\n",
    "    input_list=[int(x) for x in input().split()]\n",
    "    head=None\n",
    "    tail=None\n",
    "    for curr_data in input_list:\n",
    "        if curr_data==-1:\n",
    "            break\n",
    "            \n",
    "        new_node=node(curr_data)\n",
    "        if head is None:\n",
    "            head=new_node\n",
    "            tail=new_node     \n",
    "        else:\n",
    "            tail.next=new_node\n",
    "            tail=new_node\n",
    "            \n",
    "    return head,tail\n",
    "\n",
    "def print_reverse(head):\n",
    "    if head==None:\n",
    "        return\n",
    "    print_reverse(head.next)\n",
    "    print(head.data,end=' ')\n",
    "    return\n",
    "\n",
    "head,tail=take_input()\n",
    "print_reverse(head)"
   ]
  },
  {
   "cell_type": "markdown",
   "metadata": {},
   "source": [
    "### PLAINDROME LINKED LIST"
   ]
  },
  {
   "cell_type": "code",
   "execution_count": 4,
   "metadata": {},
   "outputs": [
    {
     "name": "stdout",
     "output_type": "stream",
     "text": [
      "1 2 2 3 2 2 1 -1\n",
      "true\n"
     ]
    }
   ],
   "source": [
    "class node:\n",
    "    def __init__(self,data):\n",
    "        self.data=data\n",
    "        self.next=None\n",
    "        \n",
    "def take_input():\n",
    "    input_list=[int(x) for x in input().split()]\n",
    "    head=None\n",
    "    tail=None\n",
    "    for curr_data in input_list:\n",
    "        if curr_data==-1:\n",
    "            break\n",
    "            \n",
    "        new_node=node(curr_data)\n",
    "        if head is None:\n",
    "            head=new_node\n",
    "            tail=new_node     \n",
    "        else:\n",
    "            tail.next=new_node\n",
    "            tail=new_node\n",
    "            \n",
    "    return head,tail\n",
    "\n",
    "def reverse_ll2(head):\n",
    "    if head.next is None:\n",
    "        return head,head\n",
    "    \n",
    "    SH,ST=reverse_ll2(head.next)\n",
    "    ST.next=head\n",
    "    head.next=None\n",
    "    ST=ST.next\n",
    "    return SH,ST        \n",
    "\n",
    "def copy_ll(head):\n",
    "    n1=node(head.data)\n",
    "    headcpy=n1\n",
    "    curro=head.next\n",
    "    currcpy=headcpy\n",
    "    while curro is not None:\n",
    "        temp=node(curro.data)\n",
    "        currcpy.next=temp\n",
    "        currcpy=currcpy.next\n",
    "        curro=curro.next\n",
    "    currcpy.next=None\n",
    "    return headcpy\n",
    "\n",
    "def check_palindrome(heado,headc) :\n",
    "    while heado is not None or headc is not None:\n",
    "        if heado.data==headc.data:\n",
    "            heado=heado.next\n",
    "            headc=headc.next\n",
    "            check=True\n",
    "        else:\n",
    "            check=False\n",
    "            break\n",
    "    return check\n",
    "\n",
    "def printLL(head):\n",
    "    while head is not None:\n",
    "        print(str(head.data),end=' ')\n",
    "        head=head.next\n",
    "    return\n",
    "\n",
    "head,tail=take_input()\n",
    "head2=copy_ll(head)\n",
    "headc2,tailc2=reverse_ll2(head2)\n",
    "x=check_palindrome(headc2,head)\n",
    "if x==True:\n",
    "    print('true')\n",
    "elif x==False:\n",
    "    print('false')"
   ]
  }
 ],
 "metadata": {
  "kernelspec": {
   "display_name": "Python 3",
   "language": "python",
   "name": "python3"
  },
  "language_info": {
   "codemirror_mode": {
    "name": "ipython",
    "version": 3
   },
   "file_extension": ".py",
   "mimetype": "text/x-python",
   "name": "python",
   "nbconvert_exporter": "python",
   "pygments_lexer": "ipython3",
   "version": "3.7.3"
  }
 },
 "nbformat": 4,
 "nbformat_minor": 2
}
