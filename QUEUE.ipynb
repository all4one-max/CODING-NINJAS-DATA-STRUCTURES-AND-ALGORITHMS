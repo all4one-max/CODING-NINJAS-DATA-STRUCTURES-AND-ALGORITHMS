{
 "cells": [
  {
   "cell_type": "markdown",
   "metadata": {},
   "source": [
    "### QUEUE USING ARRAY"
   ]
  },
  {
   "cell_type": "code",
   "execution_count": 4,
   "metadata": {},
   "outputs": [
    {
     "name": "stdout",
     "output_type": "stream",
     "text": [
      "1\n",
      "2\n",
      "3\n",
      "4\n",
      "5\n",
      "-1\n"
     ]
    }
   ],
   "source": [
    "class queue:\n",
    "    def __init__(self):\n",
    "        self.__li=[]\n",
    "        self.__count=0\n",
    "        self.__front=0\n",
    "    \n",
    "    def enqueue(self,data):\n",
    "        self.__li.append(data)\n",
    "        self.__count=self.__count+1\n",
    "        \n",
    "    def dequeue(self):\n",
    "        if self.__count==0:            \n",
    "            return -1\n",
    "        element=self.__front\n",
    "        self.__front=self.__front+1\n",
    "        self.__count=self.__count-1\n",
    "        return self.__front\n",
    "    \n",
    "    def size(self):\n",
    "        return self.__count\n",
    "    \n",
    "    def isEmpty(self):\n",
    "        return self.size()==0\n",
    "    \n",
    "    def front(self):\n",
    "        if self.__count==0:            \n",
    "            return -1\n",
    "        return self.__li[self.__front]\n",
    "    \n",
    "q=queue()\n",
    "q.enqueue(1)\n",
    "q.enqueue(2)\n",
    "q.enqueue(3)\n",
    "q.enqueue(4)\n",
    "q.enqueue(5)\n",
    "while (q.isEmpty() is False):\n",
    "    print(q.front())\n",
    "    q.dequeue()\n",
    "    \n",
    "print(q.dequeue())    "
   ]
  },
  {
   "cell_type": "markdown",
   "metadata": {},
   "source": [
    "### QUEUE USING LINKED LIST"
   ]
  },
  {
   "cell_type": "code",
   "execution_count": 9,
   "metadata": {},
   "outputs": [
    {
     "name": "stdout",
     "output_type": "stream",
     "text": [
      "1\n",
      "2\n",
      "3\n",
      "4\n",
      "5\n"
     ]
    }
   ],
   "source": [
    "class node:\n",
    "    def __init__(self,data):\n",
    "        self.data=data\n",
    "        self.next=None\n",
    "        \n",
    "class queue_ll:\n",
    "    def __init__(self):\n",
    "        self.__head=None\n",
    "        self.__tail=None\n",
    "        self.__count=0\n",
    "        \n",
    "    def enqueue(self,value):\n",
    "        new_node=node(value)\n",
    "        if self.__head is None:\n",
    "            self.__head=new_node\n",
    "            self.__tail=new_node\n",
    "            self.__count+=1\n",
    "        else:\n",
    "            self.__tail.next=new_node\n",
    "            self.__tail=new_node\n",
    "            self.__count+=1\n",
    "     \n",
    "    def dequeue(self):\n",
    "        if self.__head==None:\n",
    "            return -1\n",
    "        ele=self.__head.data\n",
    "        self.__head=self.__head.next\n",
    "        self.__count-=1\n",
    "        return ele\n",
    "    \n",
    "    def front(self):\n",
    "        if self.__head==None:\n",
    "            return -1\n",
    "        return self.__head.data\n",
    "    \n",
    "    def size(self):\n",
    "        return self.__count\n",
    "    \n",
    "    def isEmpty(self):\n",
    "        return self.size()==0\n",
    "    \n",
    "q=queue_ll()\n",
    "q.enqueue(1)\n",
    "q.enqueue(2)\n",
    "q.enqueue(3)\n",
    "q.enqueue(4)\n",
    "q.enqueue(5)\n",
    "while (q.isEmpty() is False):\n",
    "    print(q.front())\n",
    "    q.dequeue()\n",
    "    \n",
    "print(q.dequeue())\n"
   ]
  },
  {
   "cell_type": "markdown",
   "metadata": {},
   "source": [
    "### INBUILT QUEUE AND STACK"
   ]
  },
  {
   "cell_type": "code",
   "execution_count": 13,
   "metadata": {},
   "outputs": [
    {
     "name": "stdout",
     "output_type": "stream",
     "text": [
      "inbuilt queue\n",
      "2\n",
      "3\n",
      "1\n",
      "inbuilt stack\n",
      "3\n",
      "2\n",
      "1\n"
     ]
    }
   ],
   "source": [
    "import queue\n",
    "\n",
    "print('inbuilt queue')\n",
    "\n",
    "q=queue.Queue()\n",
    "q.put(1)\n",
    "q.put(2)\n",
    "q.put(3)\n",
    "ele=q.get()\n",
    "while not q.empty():\n",
    "    print(q.get())\n",
    "print(ele) \n",
    "\n",
    "print(\"inbuilt stack\")    \n",
    "    \n",
    "s=queue.LifoQueue()\n",
    "s.put(1)\n",
    "s.put(2)\n",
    "s.put(3)\n",
    "while not s.empty():\n",
    "    print(s.get())        "
   ]
  },
  {
   "cell_type": "markdown",
   "metadata": {},
   "source": [
    "### QUEUE USING TWO STACK"
   ]
  },
  {
   "cell_type": "code",
   "execution_count": 6,
   "metadata": {},
   "outputs": [
    {
     "name": "stdout",
     "output_type": "stream",
     "text": [
      "1\n",
      "2\n",
      "3\n",
      "4\n",
      "5\n",
      "6\n"
     ]
    }
   ],
   "source": [
    "#enqueue o(1) and dequeue o(n)\n",
    "\n",
    "class queue_using_2stacks:\n",
    "    def __init__(self):\n",
    "        self.__s1=[]\n",
    "        self.__s2=[]\n",
    "        self.__count=0\n",
    "        \n",
    "    def enqueue(self,value):\n",
    "        self.__s1.append(value)\n",
    "        self.__count+=1\n",
    "        \n",
    "    def dequeue(self):\n",
    "        if self.__count==0:\n",
    "            return -1\n",
    "        i=1\n",
    "        while i<=(self.__count-1):\n",
    "            self.__s2.append(self.__s1.pop())\n",
    "            i+=1\n",
    "        data=self.__s1.pop()\n",
    "        i=1\n",
    "        while i<=(self.__count-1):\n",
    "            self.__s1.append(self.__s2.pop())\n",
    "            i+=1\n",
    "        self.__count-=1    \n",
    "        return data\n",
    "    \n",
    "    def front(self):\n",
    "        return self.__s1[0]\n",
    "    \n",
    "    def size(self):\n",
    "        return self.__count\n",
    "    \n",
    "    def isEmpty(self):\n",
    "        return self.size()==0\n",
    "    \n",
    "q=queue_using_2stacks()\n",
    "q.enqueue(1)\n",
    "q.enqueue(2)\n",
    "q.enqueue(3)\n",
    "q.enqueue(4)\n",
    "q.enqueue(5)\n",
    "q.enqueue(6)\n",
    "while q.isEmpty() is False:\n",
    "    print(q.dequeue())"
   ]
  },
  {
   "cell_type": "code",
   "execution_count": 8,
   "metadata": {},
   "outputs": [
    {
     "name": "stdout",
     "output_type": "stream",
     "text": [
      "1\n",
      "2\n",
      "3\n",
      "4\n",
      "5\n"
     ]
    }
   ],
   "source": [
    "#enqueue o(n) and dequeue o(1)\n",
    "\n",
    "class queue_using_2stacks:\n",
    "    def __init__(self):\n",
    "        self.__s1=[]\n",
    "        self.__s2=[]\n",
    "        self.__count=0\n",
    "        \n",
    "    def enqueue(self,value):\n",
    "        if self.__count==0:\n",
    "            self.__s1.append(value)\n",
    "            self.__count+=1\n",
    "        elif self.__count>0:\n",
    "            i=1\n",
    "            while i<=(self.__count):\n",
    "                self.__s2.append(self.__s1.pop())\n",
    "                i+=1\n",
    "            self.__s1.append(value)\n",
    "            i=1\n",
    "            while i<=(self.__count):\n",
    "                self.__s1.append(self.__s2.pop())\n",
    "                i+=1\n",
    "            self.__count+=1    \n",
    "        \n",
    "    def dequeue(self):\n",
    "        if self.__count==0:\n",
    "            return -1\n",
    "        self.__count-=1\n",
    "        return self.__s1.pop()\n",
    "        \n",
    "    def front(self):\n",
    "        return self.__s1[-1]\n",
    "    \n",
    "    def size(self):\n",
    "        return self.__count\n",
    "    \n",
    "    def isEmpty(self):\n",
    "        return self.size()==0\n",
    "    \n",
    "q=queue_using_2stacks()\n",
    "q.enqueue(1)\n",
    "q.enqueue(2)\n",
    "q.enqueue(3)\n",
    "q.enqueue(4)\n",
    "q.enqueue(5)\n",
    "while q.isEmpty() is False:\n",
    "    print(q.front())\n",
    "    q.dequeue()"
   ]
  },
  {
   "cell_type": "markdown",
   "metadata": {},
   "source": [
    "### STACK USING TWO QUEUE"
   ]
  },
  {
   "cell_type": "code",
   "execution_count": 3,
   "metadata": {},
   "outputs": [
    {
     "name": "stdout",
     "output_type": "stream",
     "text": [
      "6\n",
      "6\n",
      "5\n",
      "4\n",
      "3\n",
      "2\n",
      "1\n"
     ]
    }
   ],
   "source": [
    "#push o(1) pop o(n)\n",
    "\n",
    "import queue\n",
    "class StackUsingQueues:\n",
    "    \n",
    "    def __init__(self):\n",
    "        self.q1 = queue.Queue()\n",
    "        self.q2 = queue.Queue()\n",
    "        self.__count=0        \n",
    "        \n",
    "    def push(self,data):\n",
    "        self.q1.put(data)   \n",
    "        self.__count+=1\n",
    "\n",
    "    def pop(self):\n",
    "        i=1\n",
    "        while i<=(self.__count-1):\n",
    "            self.q2.put(self.q1.get())\n",
    "            i+=1\n",
    "        ele=self.q1.get()\n",
    "        i=1\n",
    "        while i<=(self.__count-1):\n",
    "            self.q1.put(self.q2.get())\n",
    "            i+=1\n",
    "        self.__count-=1\n",
    "        return ele   \n",
    "    \n",
    "    def top(self):\n",
    "        i=1\n",
    "        while i<=(self.__count-1):\n",
    "            self.q2.put(self.q1.get())\n",
    "            i+=1\n",
    "        ele=self.q1.get()\n",
    "        self.q2.put(ele)\n",
    "        i=1\n",
    "        while i<=(self.__count):\n",
    "            self.q1.put(self.q2.get())\n",
    "            i+=1        \n",
    "        return ele\n",
    "       \n",
    "    def getSize(self):\n",
    "        return self.__count\n",
    "    \n",
    "    def isEmpty(self):\n",
    "        return self.__count==0\n",
    "        \n",
    "    \n",
    "s = StackUsingQueues()\n",
    "s.push(1)\n",
    "s.push(2)\n",
    "s.push(3)\n",
    "s.push(4)\n",
    "s.push(5)\n",
    "s.push(6)\n",
    "print(s.top())\n",
    "while s.isEmpty() is False:\n",
    "    print(s.pop())\n",
    "    "
   ]
  },
  {
   "cell_type": "markdown",
   "metadata": {},
   "source": [
    "### REVERSE QUEUE"
   ]
  },
  {
   "cell_type": "code",
   "execution_count": 18,
   "metadata": {},
   "outputs": [
    {
     "name": "stdout",
     "output_type": "stream",
     "text": [
      "4 1 2 3 4\n",
      "4 3 2 1 "
     ]
    }
   ],
   "source": [
    "import queue\n",
    "def reverseQueue(q1,s):\n",
    "    if s==1 or s==0:\n",
    "        return \n",
    "    \n",
    "    ele=q1.get()\n",
    "       \n",
    "    reverseQueue(q1,s-1)\n",
    "    \n",
    "    q1.put(ele)\n",
    "\n",
    "\n",
    "from sys import setrecursionlimit\n",
    "setrecursionlimit(11000)\n",
    "li = [int(ele) for ele in (input().split()[1:])]\n",
    "s=len(li)\n",
    "q1 = queue.Queue()\n",
    "for ele in li:\n",
    "    q1.put(ele)\n",
    "reverseQueue(q1,s)\n",
    "while(q1.empty() is False):\n",
    "    print(q1.get(),end= ' ')"
   ]
  },
  {
   "cell_type": "markdown",
   "metadata": {},
   "source": [
    "### REVERSE FIRST K"
   ]
  },
  {
   "cell_type": "code",
   "execution_count": 20,
   "metadata": {},
   "outputs": [
    {
     "name": "stdout",
     "output_type": "stream",
     "text": [
      "5\n",
      "1 2 3 4 5 \n",
      "3\n",
      "3\n",
      "2\n",
      "1\n",
      "4\n",
      "5\n"
     ]
    }
   ],
   "source": [
    "import queue\n",
    "  \n",
    "def reverseFirstk(q,k):\n",
    "    if k==0:\n",
    "        return\n",
    "    \n",
    "    ele=q.get()\n",
    "    \n",
    "    reverseFirstk(q,k-1)\n",
    "    \n",
    "    q.put(ele)\n",
    "    \n",
    "from sys import setrecursionlimit\n",
    "setrecursionlimit(11000)\n",
    "n = int(input())\n",
    "li = [int(ele) for ele in input().split()]\n",
    "q = queue.Queue()\n",
    "for ele in li:\n",
    "    q.put(ele)\n",
    "k = int(input())\n",
    "y=k\n",
    "reverseFirstk(q,k)\n",
    "i=1\n",
    "while i<=(n-y):\n",
    "    ele=q.get()\n",
    "    q.put(ele)\n",
    "    i+=1\n",
    "    \n",
    "while(q.qsize()>0):\n",
    "    print(q.get())\n",
    "    n-=1"
   ]
  }
 ],
 "metadata": {
  "kernelspec": {
   "display_name": "Python 3",
   "language": "python",
   "name": "python3"
  },
  "language_info": {
   "codemirror_mode": {
    "name": "ipython",
    "version": 3
   },
   "file_extension": ".py",
   "mimetype": "text/x-python",
   "name": "python",
   "nbconvert_exporter": "python",
   "pygments_lexer": "ipython3",
   "version": "3.7.3"
  }
 },
 "nbformat": 4,
 "nbformat_minor": 2
}
