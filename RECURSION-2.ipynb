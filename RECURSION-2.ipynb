{
 "cells": [
  {
   "cell_type": "code",
   "execution_count": 1,
   "metadata": {},
   "outputs": [
    {
     "data": {
      "text/plain": [
       "'dazdxzd'"
      ]
     },
     "execution_count": 1,
     "metadata": {},
     "output_type": "execute_result"
    }
   ],
   "source": [
    "def replacechar(s,a,b):\n",
    "    if len(s)==0:\n",
    "        return s\n",
    "\n",
    "    smalloutput=replacechar(s[1:],a,b)\n",
    "    if s[0]==a:\n",
    "        return b+smalloutput\n",
    "    else:\n",
    "        return s[0]+smalloutput\n",
    "        \n",
    "s=\"dacdxcd\"        \n",
    "replacechar(s,'c','z')         "
   ]
  },
  {
   "cell_type": "markdown",
   "metadata": {},
   "source": [
    "REMOVE X"
   ]
  },
  {
   "cell_type": "code",
   "execution_count": 91,
   "metadata": {},
   "outputs": [
    {
     "name": "stdout",
     "output_type": "stream",
     "text": [
      "xaxb\n",
      "ab\n"
     ]
    }
   ],
   "source": [
    "def removeX(s):\n",
    "    if len(s)==0:\n",
    "        return s\n",
    "        \n",
    "    smalloutput=removeX(s[1:])\n",
    "    \n",
    "    if s[0]=='x':\n",
    "        return smalloutput\n",
    "    else:\n",
    "        return s[0]+smalloutput\n",
    "        \n",
    "s=input()\n",
    "print(removeX(s))"
   ]
  },
  {
   "cell_type": "markdown",
   "metadata": {},
   "source": [
    "REPLACE Pi"
   ]
  },
  {
   "cell_type": "code",
   "execution_count": 2,
   "metadata": {},
   "outputs": [
    {
     "name": "stdout",
     "output_type": "stream",
     "text": [
      "3.143.14pp3.14abc\n"
     ]
    }
   ],
   "source": [
    "def replacepi(s):\n",
    "    if len(s)==0:\n",
    "        return s\n",
    "    \n",
    "    if s[0]=='p' and s[1]=='i':\n",
    "        smalloutput=replacepi(s[2:])\n",
    "        return \"3.14\"+smalloutput\n",
    "    else:\n",
    "        smalloutput=replacepi(s[1:])\n",
    "        return s[0]+smalloutput \n",
    "        \n",
    "s=\"pipipppiabc\"\n",
    "print(replacepi(s))"
   ]
  },
  {
   "cell_type": "markdown",
   "metadata": {},
   "source": [
    "REMOVE DUPLICATES"
   ]
  },
  {
   "cell_type": "code",
   "execution_count": 12,
   "metadata": {},
   "outputs": [
    {
     "name": "stdout",
     "output_type": "stream",
     "text": [
      "aaaabccd\n",
      "aabcd\n"
     ]
    }
   ],
   "source": [
    "def removeduplicates(s):\n",
    "    if len(s)==0 or len(s)==1:\n",
    "        return s\n",
    "    \n",
    "    if s[0]==s[1]:\n",
    "        smalloutput=s[0]+s[2:]\n",
    "        ultrasmall=removeduplicates(smalloutput)\n",
    "        return smalloutput[0]+ultrasmall\n",
    "    else:\n",
    "        smalloutput-s[1:]\n",
    "        return removeduplicates(smalloutput)\n",
    "\n",
    "s=input()\n",
    "print(removeDuplicates(s))"
   ]
  },
  {
   "cell_type": "markdown",
   "metadata": {},
   "source": [
    "#### KHUD KIYA HAI"
   ]
  },
  {
   "cell_type": "code",
   "execution_count": 5,
   "metadata": {},
   "outputs": [
    {
     "name": "stdout",
     "output_type": "stream",
     "text": [
      "3.143.14ppp3.143.14\n"
     ]
    }
   ],
   "source": [
    "def replace_pi(s):\n",
    "    l=len(s)\n",
    "    if l==0:\n",
    "        return s\n",
    "    smalloutput=replace_pi(s[1:])\n",
    "    if s[0]==\"p\" and s[1]==\"i\":\n",
    "        return '3.14'+smalloutput[1:]\n",
    "    else:\n",
    "        return s[0]+smalloutput\n",
    "\n",
    "s=\"pipippppipi\"\n",
    "d=replace_pi(s)\n",
    "print(d)"
   ]
  },
  {
   "cell_type": "markdown",
   "metadata": {},
   "source": [
    "### REMOVE DUPLICATES"
   ]
  },
  {
   "cell_type": "code",
   "execution_count": 1,
   "metadata": {},
   "outputs": [
    {
     "name": "stdout",
     "output_type": "stream",
     "text": [
      "aaaabbbcccccdd\n",
      "abcd\n"
     ]
    }
   ],
   "source": [
    "def r_d(s):\n",
    "    l=len(s)\n",
    "    if l==0 or l==1:\n",
    "        return s\n",
    "    smalloutput=r_d(s[1:])\n",
    "    if s[0]==s[1]:\n",
    "        return s[0]+smalloutput[1:]\n",
    "    else:\n",
    "        return s[0]+smalloutput\n",
    "\n",
    "s=input()\n",
    "d=r_d(s)\n",
    "print(d)"
   ]
  },
  {
   "cell_type": "markdown",
   "metadata": {},
   "source": [
    "### MERGE SORT"
   ]
  },
  {
   "cell_type": "code",
   "execution_count": 2,
   "metadata": {
    "scrolled": true
   },
   "outputs": [
    {
     "name": "stdout",
     "output_type": "stream",
     "text": [
      "5 4 3 2 1\n",
      "[1, 2, 3, 4, 5]\n"
     ]
    }
   ],
   "source": [
    "def merge(l1,l2,l):\n",
    "    k=0\n",
    "    i,j=0,0    \n",
    "    while(i<len(l1) and j<len(l2)):\n",
    "        if l1[i]<=l2[j]:\n",
    "            l[k]=l1[i]\n",
    "            i=i+1\n",
    "            k=k+1\n",
    "        elif l2[j]<l1[i]:\n",
    "            l[k]=l2[j]\n",
    "            j=j+1\n",
    "            k=k+1\n",
    "    o=i\n",
    "    p=j\n",
    "    if(o<=len(l1)-1):\n",
    "        for c in range(o,len(l1)):\n",
    "            l[k]=l1[c]\n",
    "            k=k+1\n",
    "    elif(p<=len(l2)-1):\n",
    "        for d in range(p,len(l2)):\n",
    "            l[k]=l2[d]\n",
    "            k=k+1    \n",
    "    \n",
    "def merge_sort(li):\n",
    "    g=len(li)\n",
    "    if  g==0 or g==1:\n",
    "        return\n",
    "    \n",
    "    mid=len(li)//2\n",
    "        \n",
    "    s1=li[0:mid]\n",
    "    s2=li[mid:]\n",
    "    \n",
    "    merge_sort(s1)\n",
    "    merge_sort(s2)\n",
    "    \n",
    "    merge(s1,s2,li)\n",
    "    \n",
    "\n",
    "\n",
    "l=[int(x) for x in input().split()]\n",
    "merge_sort(l)\n",
    "print(l)"
   ]
  },
  {
   "cell_type": "markdown",
   "metadata": {},
   "source": [
    "### QUICK SORT"
   ]
  },
  {
   "cell_type": "code",
   "execution_count": 8,
   "metadata": {},
   "outputs": [
    {
     "name": "stdout",
     "output_type": "stream",
     "text": [
      "[1, 2, 3, 4, 5]\n"
     ]
    }
   ],
   "source": [
    "def partition(li,si,ei):\n",
    "    k=si\n",
    "    count=0\n",
    "    while(k<=ei):\n",
    "        if(li[si]>li[k]):            \n",
    "            count=count+1\n",
    "        k=k+1\n",
    "        \n",
    "    li[si],li[si+count]=li[si+count],li[si]\n",
    "    \n",
    "    i=si\n",
    "    j=ei    \n",
    "    while(i<(si+count) and j>(si+count)):\n",
    "        \n",
    "        if(li[i]<li[si+count] and li[j]>=li[si+count]):\n",
    "            i=i+1\n",
    "            j=j-1\n",
    "        elif(li[i]>=li[si+count] and li[j]>=li[si+count]):\n",
    "            j=j-1\n",
    "        elif(li[i]<li[si+count] and li[j]<li[si+count]):\n",
    "            i=i+1\n",
    "        elif(li[i]>=li[si+count] and li[j]<li[si+count]):\n",
    "            li[i],li[j]=li[j],li[i]\n",
    "            i=i+1\n",
    "            j=j-1\n",
    "    \n",
    "    return (si+count)       \n",
    "\n",
    "def quick_sort(li,si,ei):    \n",
    "    if si>=ei:\n",
    "        return \n",
    "    \n",
    "    i=partition(li,si,ei)\n",
    "    \n",
    "    quick_sort(li,si,i-1)\n",
    "    quick_sort(li,i+1,ei)\n",
    "\n",
    "\n",
    "l=[1,2,3,4,5]\n",
    "quick_sort(l,0,4)\n",
    "print(l)"
   ]
  },
  {
   "cell_type": "code",
   "execution_count": 31,
   "metadata": {},
   "outputs": [
    {
     "name": "stdout",
     "output_type": "stream",
     "text": [
      "[3, -2, 5, 8, 10, 11]\n",
      "3\n"
     ]
    }
   ],
   "source": [
    "def partition(li,si,ei):\n",
    "    k=si\n",
    "    count=0\n",
    "    while(k<=ei):\n",
    "        if(li[si]>li[k]):\n",
    "            count=count+1\n",
    "        k=k+1\n",
    "        \n",
    "    li[si],li[count]=li[count],li[si]\n",
    "    \n",
    "    i=si\n",
    "    j=ei\n",
    "    while(i<count and j>count):\n",
    "        if(li[i]<=li[count] and li[j]>=li[count]):\n",
    "            i=i+1\n",
    "            j=j-1\n",
    "        elif(li[i]>li[count] and li[j]>=li[count]):\n",
    "            j=j-1\n",
    "        elif(li[i]<=li[count] and li[j]<li[count]):\n",
    "            i=i+1\n",
    "        elif(li[i]>li[count] and li[j]<=li[count]):\n",
    "            li[i],li[j]=li[j],li[i]\n",
    "            i=i+1\n",
    "            j=j-1\n",
    "    \n",
    "    return count\n",
    "\n",
    "l=[8,-2,5,3,10,11]\n",
    "z=partition(l,0,5)\n",
    "print(l)\n",
    "print(z)"
   ]
  },
  {
   "cell_type": "markdown",
   "metadata": {},
   "source": [
    "## TOWER OF HANOI"
   ]
  },
  {
   "cell_type": "code",
   "execution_count": 3,
   "metadata": {},
   "outputs": [
    {
     "name": "stdout",
     "output_type": "stream",
     "text": [
      "1\n",
      "a c\n"
     ]
    }
   ],
   "source": [
    "def towerofhanoi(n, source, aux, dest):\n",
    "    if n==1:\n",
    "        print(source,dest)\n",
    "        return\n",
    "    if n==0:\n",
    "        return\n",
    "        \n",
    "    towerofhanoi(n-1,source,dest,aux)\n",
    "    \n",
    "    print(source,dest)\n",
    "    \n",
    "    towerofhanoi(n-1,aux,source,dest)\n",
    "\n",
    "\n",
    "n=int(input())\n",
    "towerofhanoi(n, 'a', 'b', 'c')"
   ]
  }
 ],
 "metadata": {
  "kernelspec": {
   "display_name": "Python 3",
   "language": "python",
   "name": "python3"
  },
  "language_info": {
   "codemirror_mode": {
    "name": "ipython",
    "version": 3
   },
   "file_extension": ".py",
   "mimetype": "text/x-python",
   "name": "python",
   "nbconvert_exporter": "python",
   "pygments_lexer": "ipython3",
   "version": "3.7.3"
  }
 },
 "nbformat": 4,
 "nbformat_minor": 2
}
