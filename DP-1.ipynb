{
 "cells": [
  {
   "cell_type": "markdown",
   "metadata": {},
   "source": [
    "### FIBONACCI MEMOIZATION - RECURSIVELY "
   ]
  },
  {
   "cell_type": "code",
   "execution_count": 4,
   "metadata": {},
   "outputs": [
    {
     "name": "stdout",
     "output_type": "stream",
     "text": [
      "7\n",
      "13\n",
      "[0, 1, 1, 2, 3, 5, 8, -1]\n"
     ]
    }
   ],
   "source": [
    "def fibb(n,dp):\n",
    "    if n==0 or n==1:\n",
    "        return n\n",
    "    \n",
    "    if dp[n-1]==-1:\n",
    "        ans1=fibb(n-1,dp)\n",
    "        dp[n-1]=ans1\n",
    "    else:\n",
    "        ans1=dp[n-1]\n",
    "        \n",
    "    if dp[n-2]==-1:\n",
    "        ans2=fibb(n-2,dp)\n",
    "        dp[n-2]=ans2\n",
    "    else:\n",
    "        ans2=dp[n-2]\n",
    "        \n",
    "    myAns=ans1+ans2\n",
    "    return myAns\n",
    "\n",
    "n=int(input())\n",
    "dp=[-1 for i in range(n+1)]\n",
    "ans=fibb(n,dp)\n",
    "print(ans)\n",
    "print(dp)"
   ]
  },
  {
   "cell_type": "markdown",
   "metadata": {},
   "source": [
    "### FIBONACCI MEMOIZATION - ITERATIVELY "
   ]
  },
  {
   "cell_type": "code",
   "execution_count": 5,
   "metadata": {},
   "outputs": [
    {
     "name": "stdout",
     "output_type": "stream",
     "text": [
      "7\n",
      "13\n"
     ]
    }
   ],
   "source": [
    "def fibb(n,dp):\n",
    "    i=2\n",
    "    while i<=n:\n",
    "        dp[i]=dp[i-1]+dp[i-2]\n",
    "        i=i+1\n",
    "    return dp[n]    \n",
    "\n",
    "n=int(input())\n",
    "dp=[-1 for i in range(n+1)]\n",
    "dp[0]=0\n",
    "dp[1]=1\n",
    "ans=fibb(n,dp)\n",
    "print(ans)"
   ]
  },
  {
   "cell_type": "markdown",
   "metadata": {},
   "source": [
    "### MIN STEPS TO 1-RECURSIVELY"
   ]
  },
  {
   "cell_type": "code",
   "execution_count": 8,
   "metadata": {},
   "outputs": [
    {
     "name": "stdout",
     "output_type": "stream",
     "text": [
      "100\n",
      "7\n"
     ]
    }
   ],
   "source": [
    "import sys\n",
    "sys.setrecursionlimit(10000000)\n",
    "\n",
    "def minStepsTo1DP(n,dp):\n",
    "    if n==1:\n",
    "        return 0\n",
    "    \n",
    "    if dp[n-1]==-1:\n",
    "        ans1=minStepsTo1DP(n-1,dp)\n",
    "        dp[n-1]=ans1\n",
    "    else:\n",
    "        ans1=dp[n-1]\n",
    "        \n",
    "    if n%2==0:\n",
    "        if dp[n//2]==-1:\n",
    "            ans2=minStepsTo1DP(n//2,dp)\n",
    "            dp[n//2]=ans2\n",
    "        else:\n",
    "            ans2=dp[n//2]\n",
    "    else:\n",
    "        ans2=10000\n",
    "            \n",
    "    if n%3==0:\n",
    "        if dp[n//3]==-1:\n",
    "            ans3=minStepsTo1DP(n//3,dp)\n",
    "            dp[n//3]=ans3\n",
    "        else:\n",
    "            ans3=dp[n//3]\n",
    "    else:\n",
    "        ans3=10000\n",
    "\n",
    "    ans=1+min(ans1,ans2,ans3)\n",
    "    \n",
    "    return ans\n",
    "            \n",
    "\n",
    "# Main\n",
    "n=int(input())\n",
    "dp=[-1 for i in range(n+1)]\n",
    "print(minStepsTo1DP(n,dp))"
   ]
  },
  {
   "cell_type": "markdown",
   "metadata": {},
   "source": [
    "### MIN STEPS TO 1-ITERATIVELY"
   ]
  },
  {
   "cell_type": "code",
   "execution_count": 19,
   "metadata": {},
   "outputs": [
    {
     "name": "stdout",
     "output_type": "stream",
     "text": [
      "100\n",
      "7\n"
     ]
    }
   ],
   "source": [
    "def minStepsTo1DP(n):\n",
    "    dp=[-1 for i in range(n+1)]\n",
    "    dp[0],dp[1],dp[2]=0,0,1\n",
    "    \n",
    "    for i in range(3,n+1):\n",
    "        ans1=dp[i-1]\n",
    "        \n",
    "        if i%2==0:\n",
    "            ans2=dp[i//2]\n",
    "        else:\n",
    "            ans2=100000\n",
    "            \n",
    "        if i%3==0:\n",
    "            ans3=dp[i//3]\n",
    "        else:\n",
    "            ans3=100000\n",
    "            \n",
    "        dp[i]=1+min(ans1,ans2,ans3)\n",
    "        \n",
    "    return dp[n]    \n",
    "    \n",
    "# Main\n",
    "n=int(input())\n",
    "print(minStepsTo1DP(n))"
   ]
  },
  {
   "cell_type": "markdown",
   "metadata": {},
   "source": [
    "### MIN NUMBER OF SQUARES - RECURSIVELY     T.C=O(nsqrt(n))   S.C=O(n)"
   ]
  },
  {
   "cell_type": "code",
   "execution_count": 6,
   "metadata": {},
   "outputs": [
    {
     "name": "stdout",
     "output_type": "stream",
     "text": [
      "1495\n",
      "4\n"
     ]
    }
   ],
   "source": [
    "import sys\n",
    "sys.setrecursionlimit(1000000)\n",
    "def min_squaresr(n,dp):\n",
    "    if (n==0 or n==1):\n",
    "        return n\n",
    "    \n",
    "    i=1\n",
    "    ans=sys.maxsize\n",
    "    while i*i<=n:\n",
    "        if dp[n-i*i]==-1:\n",
    "            rec_ans=min_squaresr(n-i*i,dp)\n",
    "            dp[n-i*i]=rec_ans\n",
    "        else:\n",
    "            rec_ans=dp[n-i*i]\n",
    "          \n",
    "        ans=min(ans,1+rec_ans)\n",
    "        i=i+1    \n",
    "            \n",
    "    return ans       \n",
    "        \n",
    "n = int(input())\n",
    "dp=[-1 for i in range(n+1)]\n",
    "ans = min_squaresr(n,dp)\n",
    "print(ans)\n"
   ]
  },
  {
   "cell_type": "markdown",
   "metadata": {},
   "source": [
    "### MIN NUMBER OF SQUARES - ITERATIVELY     T.C=O(nsqrt(n))   S.C=O(n)"
   ]
  },
  {
   "cell_type": "code",
   "execution_count": 9,
   "metadata": {},
   "outputs": [
    {
     "name": "stdout",
     "output_type": "stream",
     "text": [
      "7\n",
      "4\n"
     ]
    }
   ],
   "source": [
    "import sys,math\n",
    "def minSquares(n):\n",
    "    dp=[-1 for i in range(n+1)]\n",
    "    dp[0]=0\n",
    "    dp[1]=1\n",
    "    for i in range(2,n+1,1):\n",
    "        ans=sys.maxsize\n",
    "        j=1\n",
    "        while j*j<=i:\n",
    "            curr_ans=1+dp[i-j*j]\n",
    "            ans=min(ans,curr_ans)\n",
    "            j=j+1\n",
    "        dp[i]=ans    \n",
    "            \n",
    "    return dp[n]        \n",
    "            \n",
    "        \n",
    "n = int(input())\n",
    "ans1=minSquares(n)\n",
    "print(ans1)"
   ]
  },
  {
   "cell_type": "markdown",
   "metadata": {},
   "source": [
    "### LONGEST INCREASING SUBSEQUENCE-RECURSIVELY WITHOUT MEMOIZATION"
   ]
  },
  {
   "cell_type": "code",
   "execution_count": 1,
   "metadata": {},
   "outputs": [
    {
     "name": "stdout",
     "output_type": "stream",
     "text": [
      "7\n",
      "6 3 1 2 7 0 5\n",
      "3\n"
     ]
    }
   ],
   "source": [
    "import sys\n",
    "sys.setrecursionlimit(100000000)\n",
    "def lis(li,i,n):\n",
    "    if (i==(n-1)):\n",
    "        return 1,1\n",
    "    \n",
    "    ans=1\n",
    "    for j in range(i+1,n):\n",
    "        if li[j]>li[i]:\n",
    "            curr_ans=lis(li,j,n)[0]\n",
    "            ans=max(ans,1+curr_ans)\n",
    "            \n",
    "    lis_rest=lis(li,i+1,n)[1]\n",
    "    overall_max=max(ans,lis_rest)\n",
    "    return ans,overall_max\n",
    "    \n",
    "\n",
    "n = int(input())\n",
    "li = [int(ele) for ele in input().split()]\n",
    "print(lis(li,0,n)[1])"
   ]
  },
  {
   "cell_type": "markdown",
   "metadata": {},
   "source": [
    "### LONGEST INCREASING SUBSEQUENCE-RECURSIVELY WITH MEMOIZATION"
   ]
  },
  {
   "cell_type": "code",
   "execution_count": 2,
   "metadata": {},
   "outputs": [
    {
     "name": "stdout",
     "output_type": "stream",
     "text": [
      "7\n",
      "6 3 1 2 7 0 9\n",
      "4\n",
      "[-1, (3, 4), (4, 4), (3, 3), (2, 2), (2, 2), (1, 1), -1]\n"
     ]
    }
   ],
   "source": [
    "import sys\n",
    "sys.setrecursionlimit(100000000)\n",
    "def lis(li,i,n,dp):\n",
    "    if (i==(n-1)):\n",
    "        return 1,1\n",
    "    \n",
    "    ans=1\n",
    "    for j in range(i+1,n):\n",
    "        if li[j]>li[i]:\n",
    "            if dp[j]==-1:\n",
    "                curr_ans=lis(li,j,n,dp)\n",
    "                dp[j]=curr_ans\n",
    "            else:\n",
    "                curr_ans=dp[j]\n",
    "            ans=max(ans,1+curr_ans[0])\n",
    "            \n",
    "    if dp[i+1]==-1:\n",
    "        lis_rest=lis(li,i+1,n,dp)\n",
    "        dp[i+1]=lis_rest\n",
    "    else:\n",
    "        lis_rest=dp[i+1]\n",
    "        \n",
    "    overall_max=max(ans,lis_rest[1])\n",
    "    return ans,overall_max\n",
    "    \n",
    "\n",
    "n = int(input())\n",
    "li = [int(ele) for ele in input().split()]\n",
    "dp=[-1 for i in range(n+1)]\n",
    "print(lis(li,0,n,dp)[1])\n",
    "print(dp)"
   ]
  },
  {
   "cell_type": "markdown",
   "metadata": {},
   "source": [
    "### LONGEST INCREASING SUBSEQUENCE-ITERATIVELY WITH MEMOIZATION"
   ]
  },
  {
   "cell_type": "code",
   "execution_count": 5,
   "metadata": {},
   "outputs": [
    {
     "name": "stdout",
     "output_type": "stream",
     "text": [
      "7\n",
      "6 3 1 2 7 0 9\n",
      "4\n"
     ]
    }
   ],
   "source": [
    "def lis(li,i,n):\n",
    "    dp=[-1 for i in range(n)]\n",
    "    dp[n-1]=1,0\n",
    "    i=n-2\n",
    "    while i>=0:\n",
    "        ans1_final=1\n",
    "        for j in range(i+1,n,1):\n",
    "            if li[j]>li[i]:\n",
    "                ans1=dp[j][0]\n",
    "                ans1_final=max(ans1_final,1+ans1)\n",
    "        ans2=dp[i+1][1]\n",
    "        overall_max=max(ans1_final,ans2)\n",
    "        dp[i]=ans1_final,overall_max\n",
    "        i-=1\n",
    "    \n",
    "    return dp[0][1]\n",
    "\n",
    "n = int(input())\n",
    "li = [int(ele) for ele in input().split()]\n",
    "print(lis(li,0,n))"
   ]
  }
 ],
 "metadata": {
  "kernelspec": {
   "display_name": "Python 3",
   "language": "python",
   "name": "python3"
  },
  "language_info": {
   "codemirror_mode": {
    "name": "ipython",
    "version": 3
   },
   "file_extension": ".py",
   "mimetype": "text/x-python",
   "name": "python",
   "nbconvert_exporter": "python",
   "pygments_lexer": "ipython3",
   "version": "3.7.3"
  }
 },
 "nbformat": 4,
 "nbformat_minor": 2
}
