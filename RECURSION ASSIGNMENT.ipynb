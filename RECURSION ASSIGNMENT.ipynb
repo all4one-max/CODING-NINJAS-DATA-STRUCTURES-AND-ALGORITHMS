{
 "cells": [
  {
   "cell_type": "code",
   "execution_count": 29,
   "metadata": {},
   "outputs": [
    {
     "name": "stdout",
     "output_type": "stream",
     "text": [
      "3\n",
      "1.875\n",
      "1\n"
     ]
    }
   ],
   "source": [
    "import math\n",
    "\n",
    "def geo_sum(n):\n",
    "    if n==0:\n",
    "        return 1\n",
    "    smalloutput=geo_sum(n-1)\n",
    "    return (((0.5)**n)+smalloutput)\n",
    "\n",
    "n=int(input())\n",
    "z=geo_sum(n)\n",
    "print(math.trunc(z)"
   ]
  },
  {
   "cell_type": "code",
   "execution_count": 26,
   "metadata": {},
   "outputs": [
    {
     "name": "stdout",
     "output_type": "stream",
     "text": [
      "ninja\n",
      "False\n"
     ]
    }
   ],
   "source": [
    "def palindrome(s,si,ei):\n",
    "    l=len(s)\n",
    "    if si>=ei:\n",
    "        return True\n",
    "    elif(s[si]==s[ei]):\n",
    "        return palindrome(s,si+1,ei-1)\n",
    "    else:\n",
    "        return False\n",
    "\n",
    "s=input()\n",
    "truth=palindrome(s,0,len(s)-1)\n",
    "print(truth)"
   ]
  },
  {
   "cell_type": "code",
   "execution_count": 43,
   "metadata": {},
   "outputs": [
    {
     "name": "stdout",
     "output_type": "stream",
     "text": [
      "10204\n",
      "2\n"
     ]
    }
   ],
   "source": [
    "def count_zeroes(n,c):\n",
    "    if n<10:\n",
    "        print(c)\n",
    "        return\n",
    "    \n",
    "    if n%10==0:\n",
    "        c=c+1       \n",
    "        count_zeroes(n//10,c)\n",
    "        \n",
    "    elif n%10!=0:\n",
    "        count_zeroes(n//10,c)  \n",
    "    \n",
    "        \n",
    "\n",
    "n=int(input())\n",
    "count_zeroes(n,0)"
   ]
  },
  {
   "cell_type": "code",
   "execution_count": 49,
   "metadata": {},
   "outputs": [
    {
     "name": "stdout",
     "output_type": "stream",
     "text": [
      "1234\n",
      "1234\n"
     ]
    }
   ],
   "source": [
    "def convert(n,s):\n",
    "    if n<10:\n",
    "        z=str(n)+s\n",
    "        print(z)\n",
    "        return\n",
    "    \n",
    "    else:\n",
    "        k=str(n%10)+s\n",
    "        convert(n//10,k)\n",
    "\n",
    "n=int(input())\n",
    "convert(n,'')\n"
   ]
  },
  {
   "cell_type": "code",
   "execution_count": 55,
   "metadata": {},
   "outputs": [
    {
     "name": "stdout",
     "output_type": "stream",
     "text": [
      "xxyyzzdd\n",
      "x*xy*yz*zd*d\n"
     ]
    }
   ],
   "source": [
    "def pair_star(s):\n",
    "    l=len(s)\n",
    "    if l==0 or l==1:\n",
    "        return s\n",
    "    \n",
    "    smalloutput=pair_star(s[1:])\n",
    "    \n",
    "    if s[0]==s[1]:\n",
    "        return s[0]+'*'+smalloutput\n",
    "    else:\n",
    "        return s[0]+smalloutput\n",
    "\n",
    "s=input()\n",
    "f=pair_star(s)\n",
    "print(f)"
   ]
  },
  {
   "cell_type": "markdown",
   "metadata": {},
   "source": [
    "### stair case"
   ]
  },
  {
   "cell_type": "code",
   "execution_count": 65,
   "metadata": {},
   "outputs": [
    {
     "name": "stdout",
     "output_type": "stream",
     "text": [
      "15\n",
      "5768\n"
     ]
    }
   ],
   "source": [
    "def stair_case(n):\n",
    "    if n==1 or n==0:\n",
    "        return 1\n",
    "    elif n<0:\n",
    "        return 0\n",
    "    \n",
    "    x=stair_case(n-1)\n",
    "    y=stair_case(n-2)\n",
    "    z=stair_case(n-3)        \n",
    "    \n",
    "    return (x+y+z)\n",
    "\n",
    "n=int(input())\n",
    "d=stair_case(n)\n",
    "print(d)"
   ]
  },
  {
   "cell_type": "markdown",
   "metadata": {},
   "source": [
    "### STAIR CASE FASTER METHOD"
   ]
  },
  {
   "cell_type": "code",
   "execution_count": null,
   "metadata": {},
   "outputs": [],
   "source": [
    "def stair_case(n):\n",
    "    if n==1 or n==0:\n",
    "        return 1\n",
    "    if n==2:\n",
    "        return 2\n",
    "    if n==3:\n",
    "        return 4\n",
    "    x=stair_case(n-1)\n",
    "    y=stair_case(n-2)\n",
    "    z=stair_case(n-3)     \n",
    "    return (x+y+z)\n",
    "\n",
    "n=int(input())\n",
    "d=stair_case(n)\n",
    "print(d)"
   ]
  },
  {
   "cell_type": "markdown",
   "metadata": {},
   "source": [
    "CHECK AB"
   ]
  },
  {
   "cell_type": "code",
   "execution_count": 19,
   "metadata": {},
   "outputs": [
    {
     "name": "stdout",
     "output_type": "stream",
     "text": [
      "bcc\n",
      "false\n"
     ]
    }
   ],
   "source": [
    "def check_AB(s,g,t):\n",
    "    l=len(s)    \n",
    "    if l==1 and s[0]=='a':\n",
    "        return True\n",
    "    elif l==1 and s[0]!='a':\n",
    "        return False\n",
    "    \n",
    "    smalloutput=check_AB(s[0:l-1],g,t)\n",
    "    \n",
    "    \n",
    "    if smalloutput==True:       \n",
    "        if s[l-2]=='a':\n",
    "            if s[l-1]==\"\" or s[l-1]=='a':\n",
    "                return True\n",
    "            elif s[l-1]=='b' and t==l:\n",
    "                return False\n",
    "            elif s[l-1]=='b' and g[l]=='b':\n",
    "                return True\n",
    "            else:\n",
    "                return False\n",
    "            \n",
    "        elif s[l-2]=='b':\n",
    "            if s[l-3]=='a' and s[l-1]=='b':\n",
    "                return True\n",
    "            elif s[l-3]=='b' and s[l-1]=='a':\n",
    "                return True\n",
    "            elif s[l-3]=='b' and s[l-1]=='':\n",
    "                return True\n",
    "            \n",
    "        else:\n",
    "            return False\n",
    "        \n",
    "    elif smalloutput==False:\n",
    "        return False\n",
    "    \n",
    "s=input()\n",
    "g=s\n",
    "t=len(s)\n",
    "k=check_AB(s,g,t)\n",
    "if k:\n",
    "    print(\"true\")\n",
    "else:\n",
    "    print(\"false\")  "
   ]
  }
 ],
 "metadata": {
  "kernelspec": {
   "display_name": "Python 3",
   "language": "python",
   "name": "python3"
  },
  "language_info": {
   "codemirror_mode": {
    "name": "ipython",
    "version": 3
   },
   "file_extension": ".py",
   "mimetype": "text/x-python",
   "name": "python",
   "nbconvert_exporter": "python",
   "pygments_lexer": "ipython3",
   "version": "3.7.3"
  }
 },
 "nbformat": 4,
 "nbformat_minor": 2
}
