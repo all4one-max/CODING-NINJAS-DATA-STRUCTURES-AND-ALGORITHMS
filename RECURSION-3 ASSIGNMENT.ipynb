{
 "cells": [
  {
   "cell_type": "markdown",
   "metadata": {},
   "source": [
    "## RETURN SUBSETS SUM TO K"
   ]
  },
  {
   "cell_type": "code",
   "execution_count": 21,
   "metadata": {},
   "outputs": [
    {
     "name": "stdout",
     "output_type": "stream",
     "text": [
      "6\n",
      "3 2 5 1 4 6\n",
      "8\n",
      "-1\n",
      "[]\n",
      "[[0]]\n",
      "[[[0], 0], [0]]\n",
      "[[[1, 0], [0], 0], [[0], 0], [0], [6, 0]]\n",
      "[[[0], [[0], 0], [0], 0], [5, 0], [[4, 0], 0], [0]]\n"
     ]
    }
   ],
   "source": [
    "def subsets_sum(i,n,li,k):\n",
    "    if i==(n-1):\n",
    "        if li[i]==k:\n",
    "            return [li[i]],[li[i]]\n",
    "        else:\n",
    "            return [-1],[-1]\n",
    "    \n",
    "    ans=[]\n",
    "    if li[i]<k:\n",
    "        for j in range(i+1,n):\n",
    "            temp=[]\n",
    "            rec_ans=subsets_sum(j,n,li,k-li[i])[0]\n",
    "            for ele in rec_ans:\n",
    "                if ele==-1:\n",
    "                    break\n",
    "                temp.append(ele)   \n",
    "            else:\n",
    "                temp.insert(li[i],0)\n",
    "                ans.append(temp)\n",
    "    elif li[i]==k:\n",
    "        ans.append(li[i])\n",
    "    more=subsets_sum(i+1,n,li,k)[1]\n",
    "    more.append(ans)\n",
    "    \n",
    "    return ans,more              \n",
    "            \n",
    "        \n",
    "\n",
    "n=int(input())\n",
    "li=[int(x) for x in input().split()]\n",
    "k=int(input())\n",
    "arr=subsets_sum(0,n,li,k)[1]\n",
    "for ele in arr:\n",
    "    print(ele)"
   ]
  },
  {
   "cell_type": "code",
   "execution_count": 22,
   "metadata": {},
   "outputs": [
    {
     "ename": "NameError",
     "evalue": "name 'ele2' is not defined",
     "output_type": "error",
     "traceback": [
      "\u001b[1;31m---------------------------------------------------------------------------\u001b[0m",
      "\u001b[1;31mNameError\u001b[0m                                 Traceback (most recent call last)",
      "\u001b[1;32m<ipython-input-22-fac6dbf7cf83>\u001b[0m in \u001b[0;36m<module>\u001b[1;34m\u001b[0m\n\u001b[0;32m      1\u001b[0m \u001b[0mb\u001b[0m\u001b[1;33m=\u001b[0m\u001b[1;33m[\u001b[0m\u001b[1;36m1\u001b[0m\u001b[1;33m,\u001b[0m\u001b[1;36m2\u001b[0m\u001b[1;33m,\u001b[0m\u001b[1;36m3\u001b[0m\u001b[1;33m]\u001b[0m\u001b[1;33m\u001b[0m\u001b[1;33m\u001b[0m\u001b[0m\n\u001b[0;32m      2\u001b[0m \u001b[0ma\u001b[0m\u001b[1;33m=\u001b[0m\u001b[1;33m[\u001b[0m\u001b[1;36m5\u001b[0m\u001b[1;33m,\u001b[0m\u001b[1;36m6\u001b[0m\u001b[1;33m]\u001b[0m\u001b[1;33m\u001b[0m\u001b[1;33m\u001b[0m\u001b[0m\n\u001b[1;32m----> 3\u001b[1;33m \u001b[1;32mfor\u001b[0m \u001b[0mele1\u001b[0m \u001b[1;32min\u001b[0m \u001b[0ma\u001b[0m \u001b[1;32mand\u001b[0m \u001b[0mele2\u001b[0m \u001b[1;32min\u001b[0m \u001b[0mb\u001b[0m\u001b[1;33m:\u001b[0m\u001b[1;33m\u001b[0m\u001b[1;33m\u001b[0m\u001b[0m\n\u001b[0m\u001b[0;32m      4\u001b[0m     \u001b[0mprint\u001b[0m\u001b[1;33m(\u001b[0m\u001b[0mele1\u001b[0m\u001b[1;33m,\u001b[0m\u001b[0mele2\u001b[0m\u001b[1;33m)\u001b[0m\u001b[1;33m\u001b[0m\u001b[1;33m\u001b[0m\u001b[0m\n\u001b[0;32m      5\u001b[0m \u001b[1;33m\u001b[0m\u001b[0m\n",
      "\u001b[1;31mNameError\u001b[0m: name 'ele2' is not defined"
     ]
    }
   ],
   "source": [
    "b=[1,2,3]\n",
    "a=[5,6]\n",
    "(ele1,ele2)\n",
    "    "
   ]
  }
 ],
 "metadata": {
  "kernelspec": {
   "display_name": "Python 3",
   "language": "python",
   "name": "python3"
  },
  "language_info": {
   "codemirror_mode": {
    "name": "ipython",
    "version": 3
   },
   "file_extension": ".py",
   "mimetype": "text/x-python",
   "name": "python",
   "nbconvert_exporter": "python",
   "pygments_lexer": "ipython3",
   "version": "3.7.3"
  }
 },
 "nbformat": 4,
 "nbformat_minor": 2
}
