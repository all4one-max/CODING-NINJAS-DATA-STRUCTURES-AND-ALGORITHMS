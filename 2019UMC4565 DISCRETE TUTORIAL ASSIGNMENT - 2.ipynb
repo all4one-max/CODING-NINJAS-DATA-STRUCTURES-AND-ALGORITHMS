{
 "cells": [
  {
   "cell_type": "code",
   "execution_count": 1,
   "metadata": {},
   "outputs": [
    {
     "name": "stdout",
     "output_type": "stream",
     "text": [
      "p q\n",
      "(p=>q) or (q=>p)\n",
      "Tautology\n"
     ]
    }
   ],
   "source": [
    "#TAUTOLOGY EXPRESSION\n",
    "import ttg\n",
    "li=[x for x in input().split()]\n",
    "string=input()\n",
    "df=ttg.Truths([ele for ele in li],[string])\n",
    "print(df.valuation())\n"
   ]
  },
  {
   "cell_type": "code",
   "execution_count": 2,
   "metadata": {},
   "outputs": [
    {
     "name": "stdout",
     "output_type": "stream",
     "text": [
      "p q r\n",
      "(p or q) and (not p and not q)\n",
      "Contradiction\n"
     ]
    }
   ],
   "source": [
    "#CONTRADICTION EXPRESSION\n",
    "import ttg\n",
    "li=[x for x in input().split()]\n",
    "string=input()\n",
    "df=ttg.Truths([ele for ele in li],[string])\n",
    "print(df.valuation())"
   ]
  },
  {
   "cell_type": "code",
   "execution_count": 3,
   "metadata": {},
   "outputs": [
    {
     "name": "stdout",
     "output_type": "stream",
     "text": [
      "p q r\n",
      "(p=>q) and (q=>r)\n",
      "Contingency\n"
     ]
    }
   ],
   "source": [
    "#CONTINGENCY EXPRESSION\n",
    "import ttg\n",
    "li=[x for x in input().split()]\n",
    "string=input()\n",
    "df=ttg.Truths([ele for ele in li],[string])\n",
    "print(df.valuation())"
   ]
  },
  {
   "cell_type": "code",
   "execution_count": 4,
   "metadata": {},
   "outputs": [
    {
     "name": "stdout",
     "output_type": "stream",
     "text": [
      "ENTER THE SET YOU WANT TO MAKE RELATION FROM\n",
      "1 2 3\n",
      "ENTER THE NO. OF ELEMENTS YOU WANT IN THE RELATION\n",
      "9\n",
      "1\n",
      "1\n",
      "2\n",
      "2\n",
      "3\n",
      "3\n",
      "1\n",
      "2\n",
      "2\n",
      "1\n",
      "2\n",
      "3\n",
      "3\n",
      "2\n",
      "1\n",
      "3\n",
      "3\n",
      "1\n",
      "[(1, 1), (2, 2), (3, 3), (1, 2), (2, 1), (2, 3), (3, 2), (1, 3), (3, 1)]\n",
      "YES!!THE GIVEN RELATION IS EQUIVALENCE\n"
     ]
    }
   ],
   "source": [
    "# EQUIVALENCE RELATION\n",
    "def reflexive(li,rel):\n",
    "    for ele in li:\n",
    "        if (ele,ele) not in rel:\n",
    "            return False\n",
    "    return True    \n",
    "\n",
    "def symmetric(li,rel):\n",
    "    for (ele1,ele2) in rel:\n",
    "        if (ele2,ele1) not in rel:\n",
    "            return False\n",
    "    return True    \n",
    "\n",
    "def transitive(li,rel):\n",
    "    count=0\n",
    "    for (ele1,ele2) in rel:\n",
    "        for ele3 in li:\n",
    "            if (ele2,ele3) in rel:                \n",
    "                if (ele1,ele3) not in rel:\n",
    "                    return False\n",
    "                else:\n",
    "                    count+=1      \n",
    "    if count==0:\n",
    "        return False\n",
    "    else:\n",
    "        return True\n",
    "\n",
    "print('ENTER THE SET YOU WANT TO MAKE RELATION FROM')\n",
    "li=[int(x) for x in input().split()]\n",
    "print('ENTER THE NO. OF ELEMENTS YOU WANT IN THE RELATION')\n",
    "n=int(input())\n",
    "rel=[(int(input()),int(input())) for x in range(n)]\n",
    "print(rel)\n",
    "stm1=reflexive(li,rel)\n",
    "stm2=symmetric(li,rel)\n",
    "stm3=transitive(li,rel)\n",
    "if stm1 and stm2 and stm3:\n",
    "    print('YES!!THE GIVEN RELATION IS EQUIVALENCE')\n",
    "else:\n",
    "    print('NO!!THE GIVEN RELATION IS NOT EQUIVALENCE')\n"
   ]
  },
  {
   "cell_type": "code",
   "execution_count": 5,
   "metadata": {},
   "outputs": [
    {
     "name": "stdout",
     "output_type": "stream",
     "text": [
      "CHOOSE THE RELATION\n",
      "1 FOR LESSER THAN\n",
      "2 FOR DIVISIBILITY\n",
      "1\n",
      "ENTER POSET\n",
      "1 2 3 4 5 6\n",
      "MEET OF (1, 2) 1\n",
      "JOIN OF (1, 2) 2\n",
      "MEET OF (1, 3) 1\n",
      "JOIN OF (1, 3) 3\n",
      "MEET OF (1, 4) 1\n",
      "JOIN OF (1, 4) 4\n",
      "MEET OF (1, 5) 1\n",
      "JOIN OF (1, 5) 5\n",
      "MEET OF (1, 6) 1\n",
      "JOIN OF (1, 6) 6\n",
      "MEET OF (2, 3) 2\n",
      "JOIN OF (2, 3) 3\n",
      "MEET OF (2, 4) 2\n",
      "JOIN OF (2, 4) 4\n",
      "MEET OF (2, 5) 2\n",
      "JOIN OF (2, 5) 5\n",
      "MEET OF (2, 6) 2\n",
      "JOIN OF (2, 6) 6\n",
      "MEET OF (3, 4) 3\n",
      "JOIN OF (3, 4) 4\n",
      "MEET OF (3, 5) 3\n",
      "JOIN OF (3, 5) 5\n",
      "MEET OF (3, 6) 3\n",
      "JOIN OF (3, 6) 6\n",
      "MEET OF (4, 5) 4\n",
      "JOIN OF (4, 5) 5\n",
      "MEET OF (4, 6) 4\n",
      "JOIN OF (4, 6) 6\n",
      "MEET OF (5, 6) 5\n",
      "JOIN OF (5, 6) 6\n",
      "SINCE FOR EVERY PAIR MEET AND JOINT EXISTS THEREFORE GIVEN POSET IS A LATTICE\n",
      "ENTER A VALUE LESS THAN 3 TO COMTINUE AND GREATER THAN 2 TO END LOOP\n",
      "2\n",
      "ENTER POSET\n",
      "2 4 8 16\n",
      "IT IS A LATTICE\n",
      "ENTER A VALUE LESS THAN 3 TO COMTINUE AND GREATER THAN 2 TO END LOOP\n",
      "2\n",
      "ENTER POSET\n",
      "2 4 6 8\n",
      "IT IS NOT A LATTICE\n",
      "ENTER A VALUE LESS THAN 3 TO COMTINUE AND GREATER THAN 2 TO END LOOP\n",
      "5\n"
     ]
    }
   ],
   "source": [
    "#POSET IS A LATTICE OR NOT\n",
    "def gcd(a,b):\n",
    "    if (a == 0): \n",
    "        return b \n",
    "    if (b == 0): \n",
    "        return a \n",
    "   \n",
    "    if (a == b): \n",
    "        return a \n",
    "  \n",
    "    if (a > b): \n",
    "        return gcd(a-b, b) \n",
    "    return gcd(a, b-a) \n",
    "\n",
    "def less_than(poset):\n",
    "    l=len(poset)\n",
    "    for i in range(l):\n",
    "        for j in range(i+1,l):\n",
    "            print('MEET OF',(poset[i],poset[j]),min(poset[i],poset[j]))\n",
    "            print('JOIN OF',(poset[i],poset[j]),max(poset[i],poset[j]))\n",
    "    print('SINCE FOR EVERY PAIR MEET AND JOINT EXISTS THEREFORE GIVEN POSET IS A LATTICE') \n",
    "    return\n",
    "\n",
    "def div(poset):\n",
    "    l=len(poset)\n",
    "    li=poset\n",
    "    for i in range(l):\n",
    "        for j in range(i+1,l):\n",
    "            hcf=gcd(li[i],li[j])\n",
    "            lcm=li[i]*li[j]//hcf\n",
    "            if hcf not in poset or lcm not in poset:\n",
    "                print('IT IS NOT A LATTICE')    \n",
    "                return\n",
    "    else:\n",
    "        print('IT IS A LATTICE')\n",
    "        return\n",
    "\n",
    "print('CHOOSE THE RELATION')\n",
    "print('1 FOR LESSER THAN')\n",
    "print('2 FOR DIVISIBILITY')\n",
    "choice=int(input())\n",
    "while (choice<=2):\n",
    "    print('ENTER POSET')\n",
    "    poset=[int(x) for x in input().split()]\n",
    "    if choice==1:\n",
    "        less_than(poset)\n",
    "    else:\n",
    "        div(poset)\n",
    "    print('ENTER A VALUE LESS THAN 3 TO COMTINUE AND GREATER THAN 2 TO END LOOP')      \n",
    "    choice=int(input())"
   ]
  }
 ],
 "metadata": {
  "kernelspec": {
   "display_name": "Python 3",
   "language": "python",
   "name": "python3"
  },
  "language_info": {
   "codemirror_mode": {
    "name": "ipython",
    "version": 3
   },
   "file_extension": ".py",
   "mimetype": "text/x-python",
   "name": "python",
   "nbconvert_exporter": "python",
   "pygments_lexer": "ipython3",
   "version": "3.7.3"
  }
 },
 "nbformat": 4,
 "nbformat_minor": 2
}
