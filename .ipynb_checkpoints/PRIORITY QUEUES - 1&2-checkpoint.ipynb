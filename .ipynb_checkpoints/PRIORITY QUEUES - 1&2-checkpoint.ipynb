{
 "cells": [
  {
   "cell_type": "markdown",
   "metadata": {},
   "source": [
    "### MIN PRIRORITY QUEUE"
   ]
  },
  {
   "cell_type": "code",
   "execution_count": 53,
   "metadata": {},
   "outputs": [
    {
     "name": "stdout",
     "output_type": "stream",
     "text": [
      "1\n",
      "27\n",
      "30\n",
      "60\n",
      "40\n",
      "15\n",
      "20\n",
      "10\n"
     ]
    }
   ],
   "source": [
    "class PriorityQueueNode:\n",
    "    def __init__(self,value,priority):\n",
    "        self.value=value\n",
    "        self.priority=priority\n",
    "        \n",
    "class PriorityQueue:\n",
    "    def __init__(self):\n",
    "        self.pq=[]\n",
    "        \n",
    "    def getSize(self):\n",
    "        return len(self.pq)\n",
    "    \n",
    "    def isEmpty(self):\n",
    "        return self.getSize() == 0\n",
    "    \n",
    "    def getMin(self):\n",
    "        if self.isEmpty() is True:\n",
    "            return None\n",
    "        return self.pq[0].value\n",
    "    \n",
    "    def __percolateUp(self):\n",
    "        child_index=len(self.pq)-1\n",
    "        parent_index=(child_index-1)//2\n",
    "        while (self.pq[child_index].priority < self.pq[parent_index].priority):\n",
    "            self.pq[parent_index],self.pq[child_index]=self.pq[child_index],self.pq[parent_index]\n",
    "            if parent_index!=0:\n",
    "                child_index=parent_index\n",
    "                parent_index=(child_index-1)//2\n",
    "            else:\n",
    "                break\n",
    "    \n",
    "    def insert(self,value,priority):\n",
    "        node=PriorityQueueNode(value,priority)\n",
    "        self.pq.append(node)\n",
    "        self.__percolateUp()\n",
    "        \n",
    "    def __percolateDOWN(self):\n",
    "        parent_index=0\n",
    "        leftchild_index=2*parent_index+1\n",
    "        rightchild_index=2*parent_index+2\n",
    "        while leftchild_index<len(self.pq):            \n",
    "            if rightchild_index>=len(self.pq):\n",
    "                min_value=min(self.pq[parent_index].priority,self.pq[leftchild_index].priority)\n",
    "            else:\n",
    "                min_value=min(self.pq[parent_index].priority,self.pq[leftchild_index].priority,self.pq[rightchild_index].priority)\n",
    "            \n",
    "            if min_value==self.pq[parent_index].priority:\n",
    "                break\n",
    "            elif min_value==self.pq[leftchild_index].priority:\n",
    "                min_index=leftchild_index\n",
    "            elif min_value==self.pq[rightchild_index].priority:\n",
    "                min_index=rightchild_index\n",
    "                \n",
    "            self.pq[parent_index],self.pq[min_index]=self.pq[min_index],self.pq[parent_index]\n",
    "            parent_index=min_index\n",
    "            leftchild_index=2*parent_index+1\n",
    "            rightchild_index=2*parent_index+2               \n",
    "    \n",
    "    def removeMin(self):\n",
    "        min_ele=self.pq[0].value        \n",
    "        self.pq[0].value=self.pq[len(self.pq)-1].value\n",
    "        self.pq[0].priority=self.pq[len(self.pq)-1].priority\n",
    "        ### YOU CAN SIMPLY IMPLEMENT ABOVE TWO LINES BY self.pq[0]=self.pq[len(self.pq)-1]\n",
    "        self.pq.pop()        \n",
    "        self.__percolateDOWN()\n",
    "        return min_ele\n",
    "    \n",
    "PQ=PriorityQueue()\n",
    "PQ.insert(10,10)\n",
    "PQ.insert(20,20)\n",
    "PQ.insert(30,30)\n",
    "PQ.insert(40,40)\n",
    "PQ.insert(60,60)\n",
    "PQ.insert(15,15)\n",
    "PQ.insert(27,27)\n",
    "PQ.insert(1,1)\n",
    "\n",
    "print(PQ.removeMin())\n",
    "\n",
    "while (PQ.isEmpty() is False):\n",
    "    print(PQ.pq.pop().value)"
   ]
  },
  {
   "cell_type": "markdown",
   "metadata": {},
   "source": [
    "### MAX PRIORITY QUEUE"
   ]
  },
  {
   "cell_type": "code",
   "execution_count": 56,
   "metadata": {},
   "outputs": [
    {
     "name": "stdout",
     "output_type": "stream",
     "text": [
      "60\n",
      "20\n",
      "15\n",
      "1\n",
      "10\n",
      "27\n",
      "30\n",
      "40\n"
     ]
    }
   ],
   "source": [
    "class PriorityQueueNode:\n",
    "    def __init__(self,value,priority):\n",
    "        self.value=value\n",
    "        self.priority=priority\n",
    "        \n",
    "class PriorityQueue:\n",
    "    def __init__(self):\n",
    "        self.pq=[]\n",
    "        \n",
    "    def getSize(self):\n",
    "        return len(self.pq)\n",
    "    \n",
    "    def isEmpty(self):\n",
    "        return self.getSize() == 0\n",
    "    \n",
    "    def getMin(self):\n",
    "        if self.isEmpty() is True:\n",
    "            return None\n",
    "        return self.pq[0].value\n",
    "    \n",
    "    def __percolateUp(self):\n",
    "        child_index=len(self.pq)-1\n",
    "        parent_index=(child_index-1)//2\n",
    "        while (self.pq[child_index].priority > self.pq[parent_index].priority):\n",
    "            self.pq[parent_index],self.pq[child_index]=self.pq[child_index],self.pq[parent_index]\n",
    "            if parent_index!=0:\n",
    "                child_index=parent_index\n",
    "                parent_index=(child_index-1)//2\n",
    "            else:\n",
    "                break\n",
    "    \n",
    "    def insert(self,value,priority):\n",
    "        node=PriorityQueueNode(value,priority)\n",
    "        self.pq.append(node)\n",
    "        self.__percolateUp()        \n",
    "        \n",
    "    def __percolateDOWN(self):\n",
    "        parent_index=0\n",
    "        leftchild_index=2*parent_index+1\n",
    "        rightchild_index=2*parent_index+2\n",
    "        while leftchild_index<len(self.pq):            \n",
    "            if rightchild_index>=len(self.pq):\n",
    "                max_value=max(self.pq[parent_index].priority,self.pq[leftchild_index].priority)\n",
    "            else:\n",
    "                max_value=max(self.pq[parent_index].priority,self.pq[leftchild_index].priority,self.pq[rightchild_index].priority)\n",
    "            \n",
    "            if max_value==self.pq[parent_index].priority:\n",
    "                break\n",
    "            elif max_value==self.pq[leftchild_index].priority:\n",
    "                max_index=leftchild_index\n",
    "            elif max_value==self.pq[rightchild_index].priority:\n",
    "                max_index=rightchild_index\n",
    "                \n",
    "            self.pq[parent_index],self.pq[max_index]=self.pq[max_index],self.pq[parent_index]\n",
    "            parent_index=max_index\n",
    "            leftchild_index=2*parent_index+1\n",
    "            rightchild_index=2*parent_index+2               \n",
    "    \n",
    "    def removeMax(self):\n",
    "        max_ele=self.pq[0].value        \n",
    "        self.pq[0].value=self.pq[len(self.pq)-1].value\n",
    "        self.pq[0].priority=self.pq[len(self.pq)-1].priority\n",
    "        ### YOU CAN SIMPLY IMPLEMENT ABOVE TWO LINES BY self.pq[0]=self.pq[len(self.pq)-1]\n",
    "        self.pq.pop()        \n",
    "        self.__percolateDOWN()\n",
    "        return max_ele\n",
    "    \n",
    "PQ=PriorityQueue()\n",
    "PQ.insert(10,10)\n",
    "PQ.insert(20,20)\n",
    "PQ.insert(30,30)\n",
    "PQ.insert(40,40)\n",
    "PQ.insert(60,60)\n",
    "PQ.insert(15,15)\n",
    "PQ.insert(27,27)\n",
    "PQ.insert(1,1)\n",
    "\n",
    "print(PQ.removeMax())\n",
    "\n",
    "while (PQ.isEmpty() is False):\n",
    "    print(PQ.pq.pop().value)"
   ]
  },
  {
   "cell_type": "markdown",
   "metadata": {},
   "source": [
    "### HEAP SORT"
   ]
  },
  {
   "cell_type": "markdown",
   "metadata": {},
   "source": [
    "### INPLACE HEAP SORT-WITH TIME COMPLEXITY -O(1) AND BUILD HEAP-O(nlogn)"
   ]
  },
  {
   "cell_type": "code",
   "execution_count": 10,
   "metadata": {},
   "outputs": [
    {
     "name": "stdout",
     "output_type": "stream",
     "text": [
      "5\n",
      "10 5 8 1 4\n",
      "1 4 5 8 10 "
     ]
    }
   ],
   "source": [
    "def inplace_heap_sort(li,n):\n",
    "    ### build heap-o(n)\n",
    "    for i in range(1,n):\n",
    "        child_index=i\n",
    "        parent_index=(child_index-1)//2\n",
    "        while li[parent_index]>li[child_index]:\n",
    "            li[parent_index],li[child_index]=li[child_index],li[parent_index]\n",
    "            if parent_index!=0:\n",
    "                child_index=parent_index\n",
    "                parent_index=(child_index-1)//2\n",
    "            else:\n",
    "                break\n",
    "    \n",
    "    ### sort the heap\n",
    "    for i in range(n-1,-1,-1):\n",
    "        li[0],li[i]=li[i],li[0]\n",
    "        parent_index=0\n",
    "        left_child_index=2*parent_index+1\n",
    "        right_child_index=2*parent_index+2\n",
    "        while left_child_index<=i-1:\n",
    "            if right_child_index>(i-1):\n",
    "                min_value=min(li[parent_index],li[left_child_index])\n",
    "            else:\n",
    "                min_value=min(li[parent_index],li[left_child_index],li[right_child_index])\n",
    "             \n",
    "            if min_value==li[parent_index]:\n",
    "                break\n",
    "            elif min_value==li[left_child_index]:\n",
    "                min_index=left_child_index\n",
    "            elif min_value==li[right_child_index]:\n",
    "                min_index=right_child_index\n",
    "            \n",
    "            li[parent_index],li[min_index]=li[min_index],li[parent_index]\n",
    "            parent_index=min_index\n",
    "            left_child_index=2*parent_index+1\n",
    "            right_child_index=2*parent_index+2\n",
    "            \n",
    "    return li        \n",
    "\n",
    "\n",
    "n=int(input())\n",
    "li=[int(x) for x in input().split()]\n",
    "li=inplace_heap_sort(li,n)\n",
    "for ele in li[::-1]:\n",
    "    print(ele,end=' ')"
   ]
  },
  {
   "cell_type": "markdown",
   "metadata": {},
   "source": [
    "### INPLACE HEAP SORT-WITH TIME COMPLEXITY -O(1) AND BUILD HEAP-O(n)"
   ]
  },
  {
   "cell_type": "code",
   "execution_count": 1,
   "metadata": {},
   "outputs": [
    {
     "name": "stdout",
     "output_type": "stream",
     "text": [
      "9\n",
      "10 5 11 2 3 7 12 1 6\n",
      "[12, 11, 10, 7, 6, 5, 3, 2, 1]\n"
     ]
    }
   ],
   "source": [
    "def inplace_heap_sort_2(li,n):\n",
    "    ### build heap in O(n)\n",
    "    parent_index=(n//2-1)\n",
    "    while parent_index>=0:\n",
    "        left_child_index=2*parent_index+1\n",
    "        right_child_index=2*parent_index+2\n",
    "        while left_child_index<n:\n",
    "            if right_child_index>n:\n",
    "                min_value=min(li[parent_index],li[left_child_index])\n",
    "            else:\n",
    "                min_value=min(li[parent_index],li[left_child_index],li[right_child_index])\n",
    "            \n",
    "            if min_value==li[parent_index]:\n",
    "                break\n",
    "            elif min_value==li[right_child_index]:\n",
    "                min_index=right_child_index\n",
    "            else:\n",
    "                min_index=left_child_index\n",
    "            \n",
    "            li[parent_index],li[min_index]=li[min_index],li[parent_index]\n",
    "            parent_index=min_index\n",
    "            left_child_index=2*min_index+1\n",
    "            right_child_index=2*min_index+2\n",
    "        parent_index=parent_index-1\n",
    "        \n",
    "    ### sort the heap\n",
    "    for i in range(n-1,-1,-1):\n",
    "        li[0],li[i]=li[i],li[0]\n",
    "        parent_index=0\n",
    "        left_child_index=2*parent_index+1\n",
    "        right_child_index=2*parent_index+2\n",
    "        while left_child_index<=i-1:\n",
    "            if right_child_index>(i-1):\n",
    "                min_value=min(li[parent_index],li[left_child_index])\n",
    "            else:\n",
    "                min_value=min(li[parent_index],li[left_child_index],li[right_child_index])\n",
    "             \n",
    "            if min_value==li[parent_index]:\n",
    "                break\n",
    "            elif min_value==li[left_child_index]:\n",
    "                min_index=left_child_index\n",
    "            elif min_value==li[right_child_index]:\n",
    "                min_index=right_child_index\n",
    "            \n",
    "            li[parent_index],li[min_index]=li[min_index],li[parent_index]\n",
    "            parent_index=min_index\n",
    "            left_child_index=2*parent_index+1\n",
    "            right_child_index=2*parent_index+2\n",
    "            \n",
    "    return li\n",
    "        \n",
    "n=int(input())\n",
    "li=[int(x) for x in input().split()]\n",
    "li=inplace_heap_sort_2(li,n)\n",
    "print(li)"
   ]
  },
  {
   "cell_type": "markdown",
   "metadata": {},
   "source": [
    "### K SMALLEST ELEMENTS(UN-ORDERED)"
   ]
  },
  {
   "cell_type": "code",
   "execution_count": 24,
   "metadata": {},
   "outputs": [
    {
     "name": "stdout",
     "output_type": "stream",
     "text": [
      "13\n",
      "2 12 9 16 10 5 3 20 25 11 1 8 6\n",
      "4\n",
      "5\n",
      "2\n",
      "3\n",
      "1\n"
     ]
    }
   ],
   "source": [
    "import heapq\n",
    "def kSmallest(lst, k):\n",
    "    heapq._heapify_max(lst)\n",
    "    \n",
    "    i=1\n",
    "    while i<=(n-k):        \n",
    "        heapq._heappop_max(lst)\n",
    "        i=i+1\n",
    "        \n",
    "    return lst        \n",
    "\n",
    "# Main\n",
    "n=int(input())\n",
    "lst=list(int(i) for i in input().strip().split(' '))\n",
    "k=int(input())\n",
    "lst=kSmallest(lst, k)\n",
    "for ele in lst:\n",
    "    print(ele)"
   ]
  },
  {
   "cell_type": "markdown",
   "metadata": {},
   "source": [
    "### K SMALLEST ELEMENTS(ORDERED)"
   ]
  },
  {
   "cell_type": "code",
   "execution_count": 27,
   "metadata": {},
   "outputs": [
    {
     "name": "stdout",
     "output_type": "stream",
     "text": [
      "13\n",
      "2 12 9 16 10 5 3 20 25 11 1 8 6\n",
      "4\n",
      "1\n",
      "2\n",
      "3\n",
      "5\n"
     ]
    }
   ],
   "source": [
    "import heapq\n",
    "def kSmallest(lst, k):\n",
    "    heapq.heapify(lst)\n",
    "    new_lst=[]\n",
    "    \n",
    "    i=1\n",
    "    while i<=k:        \n",
    "        new_lst.append(heapq.heappop(lst))\n",
    "        i=i+1\n",
    "        \n",
    "    return new_lst        \n",
    "\n",
    "# Main\n",
    "n=int(input())\n",
    "lst=list(int(i) for i in input().strip().split(' '))\n",
    "k=int(input())\n",
    "new_lst=kSmallest(lst, k)\n",
    "for ele in new_lst:\n",
    "    print(ele)"
   ]
  },
  {
   "cell_type": "markdown",
   "metadata": {},
   "source": [
    "### K SMALLEST ELEMENTS(ORDERED)-----EXAMPLE SHIT CODING"
   ]
  },
  {
   "cell_type": "code",
   "execution_count": 23,
   "metadata": {},
   "outputs": [
    {
     "name": "stdout",
     "output_type": "stream",
     "text": [
      "13\n",
      "2 12 9 16 10 5 3 20 25 11 1 8 6\n",
      "4\n",
      "1\n",
      "2\n",
      "3\n",
      "5\n"
     ]
    }
   ],
   "source": [
    "import heapq\n",
    "def kSmallest(lst, k):\n",
    "    heapq.heapify(lst)\n",
    "    \n",
    "    for i in range(n-1,n-k-1,-1):\n",
    "        lst[0],lst[i]=lst[i],lst[0]\n",
    "        parent_index=0\n",
    "        left_child_index=2*parent_index+1\n",
    "        right_child_index=2*parent_index+2\n",
    "        while left_child_index<i:\n",
    "            if right_child_index>(i-1):\n",
    "                min_value=min(lst[parent_index],lst[left_child_index])\n",
    "            else:\n",
    "                min_value=min(lst[parent_index],lst[left_child_index],lst[right_child_index])\n",
    "             \n",
    "            if min_value==lst[parent_index]:\n",
    "                break\n",
    "            elif min_value==lst[left_child_index]:\n",
    "                min_index=left_child_index\n",
    "            elif min_value==lst[right_child_index]:\n",
    "                min_index=right_child_index\n",
    "            \n",
    "            lst[parent_index],lst[min_index]=lst[min_index],lst[parent_index]\n",
    "            parent_index=min_index\n",
    "            left_child_index=2*parent_index+1\n",
    "            right_child_index=2*parent_index+2\n",
    "            \n",
    "    return lst        \n",
    "\n",
    "# Main\n",
    "n=int(input())\n",
    "lst=list(int(i) for i in input().strip().split(' '))\n",
    "k=int(input())\n",
    "lst=kSmallest(lst, k)\n",
    "if n==1:\n",
    "    print(lst[0])\n",
    "else:\n",
    "    for ele in lst[n-1:n-k-1:-1]:\n",
    "        print(ele)"
   ]
  },
  {
   "cell_type": "markdown",
   "metadata": {},
   "source": [
    "### K LARGEST ELEMENTS"
   ]
  },
  {
   "cell_type": "code",
   "execution_count": 22,
   "metadata": {},
   "outputs": [
    {
     "name": "stdout",
     "output_type": "stream",
     "text": [
      "13\n",
      "2 12 9 16 10 5 3 20 25 11 1 8 6 \n",
      "4\n",
      "12\n",
      "16\n",
      "25\n",
      "20\n"
     ]
    }
   ],
   "source": [
    "import heapq\n",
    "def kLargest(lst, k):\n",
    "    heapq.heapify(lst)\n",
    "    \n",
    "    i=1\n",
    "    while i<=(n-k):\n",
    "        heapq.heappop(lst)\n",
    "        i=i+1\n",
    "        \n",
    "    return lst    \n",
    "\n",
    "# Main Code\n",
    "n=int(input())\n",
    "lst=list(int(i) for i in input().strip().split(' '))\n",
    "k=int(input())\n",
    "ans=kLargest(lst, k)\n",
    "for ele in ans:\n",
    "    print(ele)"
   ]
  },
  {
   "cell_type": "markdown",
   "metadata": {},
   "source": [
    "### CHECK MAX-HEAP"
   ]
  },
  {
   "cell_type": "code",
   "execution_count": 39,
   "metadata": {},
   "outputs": [
    {
     "name": "stdout",
     "output_type": "stream",
     "text": [
      "20\n",
      "94032 91513 83822 86096 77055 65181 59534 63999 84904 35945 21525 44579 45064 36554 51655 9737 548 53228 26519 17196 \n",
      "true\n"
     ]
    }
   ],
   "source": [
    "import heapq\n",
    "def checkMaxHeap(lst):\n",
    "    n=len(lst)\n",
    "    parent_index=(n//2-1)\n",
    "    stm=0\n",
    "    while parent_index>=0:\n",
    "        left_child_index=2*parent_index+1\n",
    "        right_child_index=2*parent_index+2\n",
    "        if right_child_index>=n:\n",
    "            if (lst[parent_index]<lst[left_child_index]):\n",
    "                stm=1\n",
    "                return False\n",
    "        else:\n",
    "            if (lst[parent_index]<lst[left_child_index] or lst[parent_index]<lst[right_child_index]):\n",
    "                stm=1\n",
    "                return False\n",
    "        parent_index=parent_index-1 \n",
    "        \n",
    "    if stm==0:\n",
    "        return True\n",
    "    \n",
    "# Main Code\n",
    "n=int(input())\n",
    "lst=list(int(i) for i in input().strip().split(' '))\n",
    "print('true') if checkMaxHeap(lst) else print('false')"
   ]
  },
  {
   "cell_type": "markdown",
   "metadata": {},
   "source": [
    "### Kth LARGEST ELEMENT"
   ]
  },
  {
   "cell_type": "code",
   "execution_count": 40,
   "metadata": {},
   "outputs": [
    {
     "name": "stdout",
     "output_type": "stream",
     "text": [
      "6\n",
      "9 4 8 7 11 3\n",
      "2\n",
      "9\n"
     ]
    }
   ],
   "source": [
    "import heapq\n",
    "def kthLargest(lst, k):\n",
    "    heapq._heapify_max(lst)\n",
    "    \n",
    "    i=1\n",
    "    while i<=(k-1):\n",
    "        heapq._heappop_max(lst)\n",
    "        i=i+1\n",
    "     \n",
    "    return lst[0]\n",
    "\n",
    "# Main Code\n",
    "n=int(input())\n",
    "lst=list(int(i) for i in input().strip().split(' '))\n",
    "k=int(input())\n",
    "ans=kthLargest(lst, k)\n",
    "print(ans)"
   ]
  },
  {
   "cell_type": "markdown",
   "metadata": {},
   "source": [
    "### BUY A TICKET"
   ]
  },
  {
   "cell_type": "code",
   "execution_count": null,
   "metadata": {},
   "outputs": [],
   "source": [
    "import heapq\n",
    "def buy_a_ticket(n,li,k):\n",
    "    val=li[k]\n",
    "    time=0\n",
    "    heapq._heapify_max(li)\n",
    "    \n",
    "    while li[0]!=val:\n",
    "        heapq._heappop_max(li)\n",
    "        time=time+1\n",
    "        \n",
    "    time=time+1\n",
    "    return time    \n",
    "\n",
    "n=int(input())\n",
    "li=[int(x) for x in input().split()]\n",
    "k=int(input())\n",
    "ans=buy_a_ticket(n,li,k)\n",
    "print(ans)"
   ]
  }
 ],
 "metadata": {
  "kernelspec": {
   "display_name": "Python 3",
   "language": "python",
   "name": "python3"
  },
  "language_info": {
   "codemirror_mode": {
    "name": "ipython",
    "version": 3
   },
   "file_extension": ".py",
   "mimetype": "text/x-python",
   "name": "python",
   "nbconvert_exporter": "python",
   "pygments_lexer": "ipython3",
   "version": "3.7.3"
  }
 },
 "nbformat": 4,
 "nbformat_minor": 2
}
