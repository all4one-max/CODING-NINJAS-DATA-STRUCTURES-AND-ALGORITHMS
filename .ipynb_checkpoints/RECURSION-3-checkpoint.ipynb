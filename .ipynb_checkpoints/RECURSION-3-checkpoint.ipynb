{
 "cells": [
  {
   "cell_type": "markdown",
   "metadata": {},
   "source": [
    "## RETURN SUBSEQUENCES (DP NOT NEEDED)"
   ]
  },
  {
   "cell_type": "code",
   "execution_count": 10,
   "metadata": {},
   "outputs": [
    {
     "name": "stdout",
     "output_type": "stream",
     "text": [
      "abcd\n",
      "d\n",
      "\n",
      "cd\n",
      "c\n",
      "bd\n",
      "b\n",
      "bcd\n",
      "bc\n",
      "ad\n",
      "a\n",
      "acd\n",
      "ac\n",
      "abd\n",
      "ab\n",
      "abcd\n",
      "abc\n",
      "['d', '', 'cd', 'c', 'bd', 'b', 'bcd', 'bc', 'ad', 'a', 'acd', 'ac', 'abd', 'ab', 'abcd', 'abc']\n"
     ]
    }
   ],
   "source": [
    "def sub_sequences(i,string):\n",
    "    if i==len(string)-1:\n",
    "        return [string[i],'']\n",
    "    \n",
    "    arr=[]\n",
    "    more=sub_sequences(i+1,string)   \n",
    "    arr2=list(more)\n",
    "    for ele in more:\n",
    "        temp=string[i]+ele\n",
    "        arr2.append(temp)\n",
    "         \n",
    "    return arr2     \n",
    "\n",
    "string=input()\n",
    "arr=sub_sequences(0,string)\n",
    "for ele in arr:\n",
    "    print(ele)\n",
    "print(arr)    "
   ]
  },
  {
   "cell_type": "markdown",
   "metadata": {},
   "source": [
    "## RETURN SUBSEQUENCES (DP NEEDED) - BOTH THE ALGORITHMS ARE DIFFERE-----THIS SOLUTION IS NOT THE DP VERSION OF ABOVE RECURSIVE SOLUTION"
   ]
  },
  {
   "cell_type": "code",
   "execution_count": 3,
   "metadata": {},
   "outputs": [
    {
     "name": "stdout",
     "output_type": "stream",
     "text": [
      "abcd\n",
      "cd\n",
      "c\n",
      "bcd\n",
      "bc\n",
      "bd\n",
      "b\n",
      "abcd\n",
      "abc\n",
      "abd\n",
      "ab\n",
      "acd\n",
      "ac\n",
      "ad\n",
      "a\n",
      "d\n",
      "\n",
      "[-1, ['bcd', 'bc', 'bd', 'b'], ['cd', 'c'], ('d', '')]\n"
     ]
    }
   ],
   "source": [
    "def sub_sequences(i,string,dp):\n",
    "    if i==len(string)-1:\n",
    "        return string[i],''\n",
    "    \n",
    "    arr=[]\n",
    "    for k in range(i+1,len(string)):\n",
    "        if dp[k]==-1:\n",
    "            more=sub_sequences(k,string,dp)\n",
    "            dp[k]=more\n",
    "        else:\n",
    "            more=dp[k]\n",
    "        for ele in more:\n",
    "            temp=string[i]+ele\n",
    "            arr.append(temp)\n",
    "            print(temp)\n",
    "         \n",
    "    return arr     \n",
    "\n",
    "string=input()\n",
    "dp=[-1 for i in range(len(string))]\n",
    "arr=sub_sequences(0,string,dp)\n",
    "print(string[len(string)-1])\n",
    "print('')\n",
    "print(dp)"
   ]
  },
  {
   "cell_type": "markdown",
   "metadata": {},
   "source": [
    "## RETURN KEYPAD"
   ]
  },
  {
   "cell_type": "code",
   "execution_count": 4,
   "metadata": {},
   "outputs": [
    {
     "name": "stdout",
     "output_type": "stream",
     "text": [
      "354\n",
      "djg\n",
      "djh\n",
      "dji\n",
      "dkg\n",
      "dkh\n",
      "dki\n",
      "dlg\n",
      "dlh\n",
      "dli\n",
      "ejg\n",
      "ejh\n",
      "eji\n",
      "ekg\n",
      "ekh\n",
      "eki\n",
      "elg\n",
      "elh\n",
      "eli\n",
      "fjg\n",
      "fjh\n",
      "fji\n",
      "fkg\n",
      "fkh\n",
      "fki\n",
      "flg\n",
      "flh\n",
      "fli\n"
     ]
    }
   ],
   "source": [
    "def keypad(i,n):\n",
    "    if i==len(n)-1:\n",
    "        x=int(n[i])\n",
    "        if x==7:\n",
    "            return 'p','q','r','s'\n",
    "        elif x==8:\n",
    "            return 't','u','v'\n",
    "        elif x==9:\n",
    "            return 'w','x','y','z'\n",
    "        else:\n",
    "            start=ord('a')+3*(x-2)\n",
    "            return chr(start),chr(start+1),chr(start+2)\n",
    "        \n",
    "    x=int(n[i])\n",
    "    if x==7:\n",
    "        temp=['p','q','r','s']\n",
    "    elif x==8:\n",
    "        temp=['t','u','v']\n",
    "    elif x==9:\n",
    "        temp=['w','x','y','z']\n",
    "    else:\n",
    "        start=ord('a')+3*(x-2)\n",
    "        temp=[chr(start),chr(start+1),chr(start+2)]\n",
    "    \n",
    "    more=keypad(i+1,n)\n",
    "    arr=list(more)\n",
    "    for elex in temp:\n",
    "        for eley in more:\n",
    "            temp_ele=elex+eley\n",
    "            arr.append(temp_ele)\n",
    "            \n",
    "    return arr     \n",
    "\n",
    "n = input()\n",
    "ans = keypad(0,n)\n",
    "for s in ans:\n",
    "    if len(s)==len(n):\n",
    "        print(s)"
   ]
  },
  {
   "cell_type": "markdown",
   "metadata": {},
   "source": [
    "## RETURN KEYPAD - A LITTLE BIT OPTIMISED"
   ]
  },
  {
   "cell_type": "code",
   "execution_count": 8,
   "metadata": {},
   "outputs": [
    {
     "name": "stdout",
     "output_type": "stream",
     "text": [
      "234\n",
      "adg\n",
      "adh\n",
      "adi\n",
      "aeg\n",
      "aeh\n",
      "aei\n",
      "afg\n",
      "afh\n",
      "afi\n",
      "bdg\n",
      "bdh\n",
      "bdi\n",
      "beg\n",
      "beh\n",
      "bei\n",
      "bfg\n",
      "bfh\n",
      "bfi\n",
      "cdg\n",
      "cdh\n",
      "cdi\n",
      "ceg\n",
      "ceh\n",
      "cei\n",
      "cfg\n",
      "cfh\n",
      "cfi\n"
     ]
    }
   ],
   "source": [
    "def keypad(i,n):\n",
    "    if i==len(n)-1:\n",
    "        x=int(n[i])\n",
    "        if x==7:\n",
    "            return 'p','q','r','s'\n",
    "        elif x==8:\n",
    "            return 't','u','v'\n",
    "        elif x==9:\n",
    "            return 'w','x','y','z'\n",
    "        else:\n",
    "            start=ord('a')+3*(x-2)\n",
    "            return chr(start),chr(start+1),chr(start+2)\n",
    "        \n",
    "    x=int(n[i])\n",
    "    if x==7:\n",
    "        temp=['p','q','r','s']\n",
    "    elif x==8:\n",
    "        temp=['t','u','v']\n",
    "    elif x==9:\n",
    "        temp=['w','x','y','z']\n",
    "    else:\n",
    "        start=ord('a')+3*(x-2)\n",
    "        temp=[chr(start),chr(start+1),chr(start+2)]\n",
    "    \n",
    "    more=keypad(i+1,n)\n",
    "    arr=[]\n",
    "    for elex in temp:\n",
    "        for eley in more:\n",
    "            temp_ele=elex+eley\n",
    "            arr.append(temp_ele)\n",
    "            \n",
    "    return arr     \n",
    "\n",
    "n = input()\n",
    "ans = keypad(0,n)\n",
    "for s in ans:\n",
    "    print(s)"
   ]
  },
  {
   "cell_type": "markdown",
   "metadata": {},
   "source": [
    "## PRINT FACTORIAL"
   ]
  },
  {
   "cell_type": "code",
   "execution_count": 18,
   "metadata": {},
   "outputs": [
    {
     "name": "stdout",
     "output_type": "stream",
     "text": [
      "720\n"
     ]
    }
   ],
   "source": [
    "def printFact(n,ans):\n",
    "    if n==1:\n",
    "        print(ans)\n",
    "        return\n",
    "    printFact(n-1,n*ans)\n",
    "    \n",
    "printFact(6,1)"
   ]
  },
  {
   "cell_type": "markdown",
   "metadata": {},
   "source": [
    "## ARRAY MIN"
   ]
  },
  {
   "cell_type": "code",
   "execution_count": 20,
   "metadata": {},
   "outputs": [
    {
     "name": "stdout",
     "output_type": "stream",
     "text": [
      "-10\n"
     ]
    }
   ],
   "source": [
    "def printMin(li,minSoFar=1000000):\n",
    "    if len(li)==0:\n",
    "        print(minSoFar)\n",
    "        return\n",
    "    \n",
    "    minimum=min(minSoFar,li[0])\n",
    "    printMin(li[1::],minimum)\n",
    "    \n",
    "printMin([1,2,3,4,-10,3,5,6,-10])"
   ]
  },
  {
   "cell_type": "code",
   "execution_count": null,
   "metadata": {},
   "outputs": [],
   "source": [
    "## PRINT SUBSEQUENCES"
   ]
  },
  {
   "cell_type": "code",
   "execution_count": 3,
   "metadata": {},
   "outputs": [
    {
     "name": "stdout",
     "output_type": "stream",
     "text": [
      "abcd\n",
      "\n",
      "a\n",
      "b\n",
      "ab\n",
      "c\n",
      "ac\n",
      "bc\n",
      "abc\n",
      "d\n",
      "ad\n",
      "bd\n",
      "abd\n",
      "cd\n",
      "acd\n",
      "bcd\n",
      "abcd\n"
     ]
    }
   ],
   "source": [
    "def print_sub_sequences(i,string,ans):\n",
    "    if i==len(string):\n",
    "        for ele in ans:\n",
    "            print(ele)\n",
    "        return\n",
    "    \n",
    "    ans_copy=list(ans)\n",
    "    for ele in ans:\n",
    "        temp=ele+string[i]\n",
    "        ans_copy.append(temp)\n",
    "        \n",
    "    print_sub_sequences(i+1,string,ans_copy)    \n",
    "\n",
    "string=input()\n",
    "print_sub_sequences(0,string,['']) "
   ]
  },
  {
   "cell_type": "markdown",
   "metadata": {},
   "source": [
    "## PRINT KEYPAD COMBINATIONS"
   ]
  },
  {
   "cell_type": "code",
   "execution_count": 14,
   "metadata": {},
   "outputs": [
    {
     "name": "stdout",
     "output_type": "stream",
     "text": [
      "23\n",
      "da\n",
      "db\n",
      "dc\n",
      "ea\n",
      "eb\n",
      "ec\n",
      "fa\n",
      "fb\n",
      "fc\n"
     ]
    }
   ],
   "source": [
    "def print_keypad(i,n,ans):\n",
    "    if i==len(n):\n",
    "        for ele in ans:\n",
    "            print(ele)\n",
    "        return\n",
    "    \n",
    "    x=int(n[i])\n",
    "    if x==7:\n",
    "        temp=['p','q','r','s']\n",
    "    elif x==8:\n",
    "        temp=['t','u','v']\n",
    "    elif x==9:\n",
    "        temp=['w','x','y','z']\n",
    "    else:\n",
    "        start=ord('a')+3*(x-2)\n",
    "        temp=[chr(start),chr(start+1),chr(start+2)]\n",
    "        \n",
    "    ans_copy=[]\n",
    "    for elex in temp:\n",
    "        for eley in ans:\n",
    "            temp=eley+elex\n",
    "            ans_copy.append(temp)\n",
    "        \n",
    "    if len(ans)==0:\n",
    "        for ele in temp:\n",
    "            ans_copy.append(ele)\n",
    "    \n",
    "    print_keypad(i+1,n,ans_copy)    \n",
    "\n",
    "n = input()\n",
    "print_keypad(0,n,[])"
   ]
  }
 ],
 "metadata": {
  "kernelspec": {
   "display_name": "Python 3",
   "language": "python",
   "name": "python3"
  },
  "language_info": {
   "codemirror_mode": {
    "name": "ipython",
    "version": 3
   },
   "file_extension": ".py",
   "mimetype": "text/x-python",
   "name": "python",
   "nbconvert_exporter": "python",
   "pygments_lexer": "ipython3",
   "version": "3.7.3"
  }
 },
 "nbformat": 4,
 "nbformat_minor": 2
}
