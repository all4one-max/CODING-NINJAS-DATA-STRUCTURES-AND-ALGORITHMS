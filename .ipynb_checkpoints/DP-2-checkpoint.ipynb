{
 "cells": [
  {
   "cell_type": "markdown",
   "metadata": {},
   "source": [
    "### MIN COST PATH - RECURSIVELY WITHOUT MEMOIZATION"
   ]
  },
  {
   "cell_type": "code",
   "execution_count": 2,
   "metadata": {},
   "outputs": [
    {
     "name": "stdout",
     "output_type": "stream",
     "text": [
      "3 4\n",
      "3 4 1 2\n",
      "2 1 8 9\n",
      "4 7 8 1\n",
      "13\n"
     ]
    }
   ],
   "source": [
    "import sys\n",
    "sys.setrecursionlimit(10000)\n",
    "def min_cost_path(li,i,j):\n",
    "    m,n=len(li),len(li[0])\n",
    "    if i==(m-1) and j==(n-1):\n",
    "        return li[i][j]\n",
    "    \n",
    "    if j<(n-1):\n",
    "        min_cost_path_right=min_cost_path(li,i,j+1)\n",
    "    else:\n",
    "        min_cost_path_right=sys.maxsize\n",
    "        \n",
    "    if i<(m-1) and j<(n-1):\n",
    "        min_cost_path_diagonal=min_cost_path(li,i+1,j+1)\n",
    "    else:\n",
    "        min_cost_path_diagonal=sys.maxsize\n",
    "        \n",
    "    if i<(m-1):\n",
    "        min_cost_path_down=min_cost_path(li,i+1,j)\n",
    "    else:\n",
    "        min_cost_path_down=sys.maxsize\n",
    "    \n",
    "    return li[i][j]+min(min_cost_path_right,min_cost_path_diagonal,min_cost_path_down)\n",
    "    \n",
    "\n",
    "li_1=[int(x) for x in input().split()]\n",
    "li_2=[[int(j) for j in input().split()] for i in range(li_1[0])]\n",
    "min_cost=min_cost_path(li_2,0,0)\n",
    "print(min_cost)"
   ]
  },
  {
   "cell_type": "markdown",
   "metadata": {},
   "source": [
    "### MIN COST PATH - RECURSIVELY WITH MEMOIZATION "
   ]
  },
  {
   "cell_type": "code",
   "execution_count": 4,
   "metadata": {},
   "outputs": [
    {
     "name": "stdout",
     "output_type": "stream",
     "text": [
      "3 4\n",
      "3 4 1 2\n",
      "2 1 8 9\n",
      "4 7 8 1\n",
      "13\n"
     ]
    }
   ],
   "source": [
    "import sys\n",
    "sys.setrecursionlimit(10000)\n",
    "def min_cost_path(li,i,j,dp):\n",
    "    m,n=len(li),len(li[0])\n",
    "    \n",
    "    if i==(m-1) and j==(n-1):\n",
    "        return li[i][j]\n",
    "    \n",
    "    if dp[i][j]==-1:\n",
    "        if j<(n-1):\n",
    "            min_cost_path_right=min_cost_path(li,i,j+1,dp)\n",
    "            dp[i][j+1]=min_cost_path_right\n",
    "        else:\n",
    "            min_cost_path_right=sys.maxsize\n",
    "        \n",
    "        if i<(m-1) and j<(n-1):\n",
    "            min_cost_path_diagonal=min_cost_path(li,i+1,j+1,dp)\n",
    "            dp[i+1][j+1]=min_cost_path_diagonal\n",
    "        else:\n",
    "            min_cost_path_diagonal=sys.maxsize\n",
    "        \n",
    "        if i<(m-1):\n",
    "            min_cost_path_down=min_cost_path(li,i+1,j,dp)\n",
    "            dp[i+1][j]=min_cost_path_down\n",
    "        else:\n",
    "            min_cost_path_down=sys.maxsize\n",
    "            \n",
    "        dp[i][j]=li[i][j]+min(min_cost_path_right,min_cost_path_diagonal,min_cost_path_down)\n",
    "        min_cost_path_final=dp[i][j]\n",
    "            \n",
    "    else:\n",
    "        min_cost_path_final=dp[i][j]\n",
    "        \n",
    "    return min_cost_path_final    \n",
    "    \n",
    "\n",
    "li_1=[int(x) for x in input().split()]\n",
    "li_2=[[int(j) for j in input().split()] for i in range(li_1[0])]\n",
    "dp=[[ -1 for j in range(li_1[1])] for i in range(li_1[0])]\n",
    "min_cost=min_cost_path(li_2,0,0,dp)\n",
    "print(min_cost)"
   ]
  },
  {
   "cell_type": "markdown",
   "metadata": {},
   "source": [
    "### MIN COST PATH - ITERATIVELY WITH MEMOIZATION (BOTTOM UP APPROACH)"
   ]
  },
  {
   "cell_type": "code",
   "execution_count": 5,
   "metadata": {},
   "outputs": [
    {
     "name": "stdout",
     "output_type": "stream",
     "text": [
      "3 4\n",
      "3 4 1 2\n",
      "2 1 8 9\n",
      "4 7 8 1\n",
      "13\n"
     ]
    }
   ],
   "source": [
    "import sys\n",
    "def min_cost_path(li):\n",
    "    m,n=len(li),len(li[0])\n",
    "    \n",
    "    dp=[[-1 for j in range(n)] for i in range(m)]    \n",
    "\n",
    "    for i in range(m-1,-1,-1):\n",
    "        for j in range(n-1,-1,-1):\n",
    "            if i==m-1 and j==n-1:\n",
    "                dp[i][j]=li[i][j]\n",
    "            else:\n",
    "                if j<(n-1):\n",
    "                    min_cost_path_right=dp[i][j+1]\n",
    "                else:\n",
    "                    min_cost_path_right=sys.maxsize\n",
    "                \n",
    "                if i<(m-1):\n",
    "                    min_cost_path_down=dp[i+1][j]\n",
    "                else:\n",
    "                    min_cost_path_down=sys.maxsize\n",
    "                    \n",
    "                if i<(m-1) and j<(n-1):\n",
    "                    min_cost_path_diagonal=dp[i+1][j+1]\n",
    "                else:\n",
    "                    min_cost_path_diagonal=sys.maxsize\n",
    "                    \n",
    "                dp[i][j]=li[i][j]+min(min_cost_path_right,min_cost_path_down,min_cost_path_diagonal)\n",
    "                \n",
    "    return dp[0][0]            \n",
    "                \n",
    "li_1=[int(x) for x in input().split()]\n",
    "li_2=[[int(j) for j in input().split()] for i in range(li_1[0])]\n",
    "dp=[[ -1 for j in range(li_1[1])] for i in range(li_1[0])]\n",
    "min_cost=min_cost_path(li_2)\n",
    "print(min_cost)"
   ]
  },
  {
   "cell_type": "markdown",
   "metadata": {},
   "source": [
    "### MIN COST PATH - ITERATIVELY WITH MEMOIZATION (TOP DOWN APPROACH)"
   ]
  },
  {
   "cell_type": "code",
   "execution_count": 7,
   "metadata": {},
   "outputs": [
    {
     "name": "stdout",
     "output_type": "stream",
     "text": [
      "3 3\n",
      "1 2 3\n",
      "4 8 2\n",
      "1 5 3\n",
      "8\n"
     ]
    }
   ],
   "source": [
    "import sys\n",
    "def min_cost_path(li):\n",
    "    m,n=len(li),len(li[0])\n",
    "    \n",
    "    dp=[[-1 for j in range(n)] for i in range(m)]    \n",
    "\n",
    "    for i in range(m):\n",
    "        for j in range(n):\n",
    "            if i==0 and j==0:\n",
    "                dp[i][j]=li[i][j]\n",
    "            else:\n",
    "                if j>0:\n",
    "                    min_cost_path_right=dp[i][j-1]\n",
    "                else:\n",
    "                    min_cost_path_right=sys.maxsize\n",
    "                \n",
    "                if i>0:\n",
    "                    min_cost_path_down=dp[i-1][j]\n",
    "                else:\n",
    "                    min_cost_path_down=sys.maxsize\n",
    "                    \n",
    "                if i>0 and j>0:\n",
    "                    min_cost_path_diagonal=dp[i-1][j-1]\n",
    "                else:\n",
    "                    min_cost_path_diagonal=sys.maxsize\n",
    "                    \n",
    "                dp[i][j]=li[i][j]+min(min_cost_path_right,min_cost_path_down,min_cost_path_diagonal)\n",
    "                \n",
    "    return dp[m-1][n-1]           \n",
    "                \n",
    "li_1=[int(x) for x in input().split()]\n",
    "li_2=[[int(j) for j in input().split()] for i in range(li_1[0])]\n",
    "dp=[[ -1 for j in range(li_1[1])] for i in range(li_1[0])]\n",
    "min_cost=min_cost_path(li_2)\n",
    "print(min_cost)"
   ]
  },
  {
   "cell_type": "markdown",
   "metadata": {},
   "source": [
    "### LONGEST COMMON SUBSEQUENCE - RECURSIVELY WITHOUT MEMOIZATION"
   ]
  },
  {
   "cell_type": "code",
   "execution_count": 17,
   "metadata": {},
   "outputs": [
    {
     "name": "stdout",
     "output_type": "stream",
     "text": [
      "abdgec\n",
      "bfdmgjc\n",
      "4\n"
     ]
    }
   ],
   "source": [
    "import sys\n",
    "sys.setrecursionlimit(10000)\n",
    "def lcs(s1, s2, i, j,l1,l2):\n",
    "    if i==l1 or j==l2:\n",
    "        return 0\n",
    "    \n",
    "    if s1[i]==s2[j]:\n",
    "        small_ans=lcs(s1,s2,i+1,j+1,l1,l2)\n",
    "        ans=small_ans+1\n",
    "                \n",
    "    elif s1[i]!=s2[j]:\n",
    "        small_ans_1=lcs(s1,s2,i+1,j,l1,l2)\n",
    "                \n",
    "        small_ans_2=lcs(s1,s2,i,j+1,l1,l2)\n",
    "        \n",
    "        ans=max(small_ans_1,small_ans_2)\n",
    "        \n",
    "    return ans    \n",
    "\n",
    "s1 =input().strip()\n",
    "s2 =input().strip()\n",
    "l1,l2=len(s1),len(s2)\n",
    "print(lcs(s1, s2, 0, 0,l1,l2))"
   ]
  },
  {
   "cell_type": "markdown",
   "metadata": {},
   "source": [
    "### LONGEST COMMON SUBSEQUENCE - RECURSIVELY WITH MEMOIZATION"
   ]
  },
  {
   "cell_type": "code",
   "execution_count": 13,
   "metadata": {},
   "outputs": [
    {
     "name": "stdout",
     "output_type": "stream",
     "text": [
      "adebc\n",
      "dcadb\n",
      "3\n"
     ]
    }
   ],
   "source": [
    "import sys\n",
    "sys.setrecursionlimit(10000)\n",
    "def lcs(s1, s2, i, j,l1,l2,dp):\n",
    "    if i==l1 or j==l2:\n",
    "        return 0\n",
    "    \n",
    "    if s1[i]==s2[j]:\n",
    "        if dp[i][j]==-1:\n",
    "            small_ans=lcs(s1,s2,i+1,j+1,l1,l2,dp)\n",
    "            dp[i+1][j+1]=small_ans\n",
    "        else:\n",
    "            small_ans=dp[i+1][j+1]\n",
    "        ans=small_ans+1\n",
    "        \n",
    "                \n",
    "    elif s1[i]!=s2[j]:\n",
    "        if dp[i+1][j]==-1:\n",
    "            small_ans_1=lcs(s1,s2,i+1,j,l1,l2,dp)\n",
    "            dp[i+1][j]=small_ans_1\n",
    "        else:\n",
    "            small_ans_1=dp[i+1][j]\n",
    "                \n",
    "        if dp[i][j+1]==-1:\n",
    "            small_ans_2=lcs(s1,s2,i,j+1,l1,l2,dp)\n",
    "            dp[i][j+1]=small_ans_2\n",
    "        else:\n",
    "            small_ans_2=dp[i][j+1]\n",
    "        \n",
    "        ans=max(small_ans_1,small_ans_2)\n",
    "        \n",
    "    return ans    \n",
    "\n",
    "s1 =input().strip()\n",
    "s2 =input().strip()\n",
    "l1,l2=len(s1),len(s2)\n",
    "dp=[[-1 for i in range(l2+1)] for j in range(l1+1)] ## l1 rows and l2 columns\n",
    "print(lcs(s1, s2, 0, 0,l1,l2,dp))"
   ]
  },
  {
   "cell_type": "markdown",
   "metadata": {},
   "source": [
    "### LONGEST COMMON SUBSEQUENCE - ITERATIVELY WITH MEMOIZATION (BOTTOM UP APPROACH)"
   ]
  },
  {
   "cell_type": "code",
   "execution_count": 2,
   "metadata": {},
   "outputs": [
    {
     "name": "stdout",
     "output_type": "stream",
     "text": [
      "adebc\n",
      "dcadb\n",
      "3\n"
     ]
    }
   ],
   "source": [
    "def lcs(s1, s2, i, j,l1,l2):\n",
    "    dp=[[-1 for i in range(l2+1)] for j in range(l1+1)] ## l1 rows and l2 columns\n",
    "    \n",
    "    for i in range(l1,-1,-1):\n",
    "        for j in range(l2,-1,-1):\n",
    "            if i>=l1 or j>=l2:\n",
    "                dp[i][j]=0\n",
    "                \n",
    "            else:\n",
    "                if s1[i]==s2[j]:\n",
    "                    small_ans=dp[i+1][j+1]\n",
    "                    dp[i][j]=1+small_ans\n",
    "                    \n",
    "                elif s1[i]!=s2[j]:\n",
    "                    small_ans_1=dp[i+1][j]\n",
    "                    \n",
    "                    small_ans_2=dp[i][j+1]\n",
    "                    \n",
    "                    ans=max(small_ans_1,small_ans_2)\n",
    "                    \n",
    "                    dp[i][j]=ans\n",
    "                    \n",
    "    return dp[0][0]                \n",
    "                \n",
    "            \n",
    "s1 =input().strip()\n",
    "s2 =input().strip()\n",
    "l1,l2=len(s1),len(s2)\n",
    "print(lcs(s1, s2, 0, 0,l1,l2))"
   ]
  },
  {
   "cell_type": "markdown",
   "metadata": {},
   "source": [
    "### 0 1 KNAPSACK - RECURSIVELY WITHOUT MEMOIZATION"
   ]
  },
  {
   "cell_type": "code",
   "execution_count": 19,
   "metadata": {},
   "outputs": [
    {
     "name": "stdout",
     "output_type": "stream",
     "text": [
      "4\n",
      "5 4 6 3\n",
      "10 40 30 50\n",
      "10\n",
      "90\n"
     ]
    }
   ],
   "source": [
    "import sys\n",
    "sys.setrecursionlimit(11000)\n",
    "def knapsackBF(weights, values, maxWeight, i, n):\n",
    "    if i==(n-1):\n",
    "        if weights[i]<=maxWeight:\n",
    "            return values[i],0\n",
    "        else:\n",
    "            return 0,0\n",
    "        \n",
    "    ans=values[i]\n",
    "    for j in range(i+1,n):\n",
    "        temp=maxWeight-weights[i]        \n",
    "        if weights[j]<=temp:\n",
    "            curr_ans=knapsackBF(weights, values, maxWeight-weights[i], j, n)[0]\n",
    "            ans=max(ans,values[i]+curr_ans)\n",
    "            \n",
    "    ans_rest=knapsackBF(weights, values, maxWeight, i+1, n)[1]   \n",
    "    overall_max=max(ans,ans_rest)\n",
    "    \n",
    "    return ans,overall_max\n",
    "\n",
    "\n",
    "n=int(input())\n",
    "weights=list(int(i) for i in input().strip().split(' '))\n",
    "values=list(int(i) for i in input().strip().split(' '))\n",
    "maxWeight=int(input())\n",
    "print(knapsackBF(weights, values, maxWeight, 0, n)[1])"
   ]
  },
  {
   "cell_type": "markdown",
   "metadata": {},
   "source": [
    "### 0 1 KNAPSACK - RECURSIVELY WITH MEMOIZATION"
   ]
  },
  {
   "cell_type": "code",
   "execution_count": 26,
   "metadata": {},
   "outputs": [
    {
     "name": "stdout",
     "output_type": "stream",
     "text": [
      "4\n",
      "5 4 6 3\n",
      "10 40 30 50\n",
      "10\n",
      "90\n"
     ]
    }
   ],
   "source": [
    "import sys\n",
    "sys.setrecursionlimit(11000)\n",
    "def knapsackBF(weights, values, maxWeight, i, n, dp):\n",
    "    if i==(n-1):\n",
    "        if weights[i]<=maxWeight:\n",
    "            return values[i],values[i]\n",
    "        else:\n",
    "            return 0,0\n",
    "        \n",
    "    ans=values[i]\n",
    "    for j in range(i+1,n):\n",
    "        temp=maxWeight-weights[i]        \n",
    "        if weights[j]<=temp:\n",
    "            if dp[j][temp]==-1:\n",
    "                curr_ans=knapsackBF(weights, values, maxWeight-weights[i], j, n, dp)\n",
    "                dp[j][temp]=curr_ans\n",
    "            else:\n",
    "                curr_ans=dp[j][temp]\n",
    "            ans=max(ans,values[i]+curr_ans[0])\n",
    "            \n",
    "    if dp[i+1][maxWeight]==-1:\n",
    "        ans_rest=knapsackBF(weights, values, maxWeight, i+1, n, dp)\n",
    "        dp[i+1][maxWeight]=ans_rest\n",
    "    else:\n",
    "        ans_rest=dp[i+1][maxWeight]\n",
    "    overall_max=max(ans,ans_rest[1])\n",
    "    \n",
    "    return ans,overall_max\n",
    "\n",
    "\n",
    "n=int(input())\n",
    "weights=list(int(i) for i in input().strip().split(' '))\n",
    "values=list(int(i) for i in input().strip().split(' '))\n",
    "maxWeight=int(input())\n",
    "dp=[[-1 for j in range(maxWeight+1)] for i in range(n) ]\n",
    "print(knapsackBF(weights, values, maxWeight, 0, n, dp)[1])"
   ]
  },
  {
   "cell_type": "markdown",
   "metadata": {},
   "source": [
    "### 0 1 KNAPSACK - ITERATIVELY WITH MEMOIZATION"
   ]
  },
  {
   "cell_type": "code",
   "execution_count": 1,
   "metadata": {
    "scrolled": true
   },
   "outputs": [
    {
     "name": "stdout",
     "output_type": "stream",
     "text": [
      "4\n",
      "5 4 6 3\n",
      "10 40 30 50\n",
      "10\n",
      "90\n"
     ]
    }
   ],
   "source": [
    "def knapsackBF(weights, values, maxWeight, i, n):\n",
    "    dp=[[-1 for j in range(maxWeight+1)] for i in range(n) ]\n",
    "            \n",
    "    for i in range(n-1,-1,-1):\n",
    "        for j in range(maxWeight,-1,-1):\n",
    "            if i==(n-1):\n",
    "                if weights[i]<=j:\n",
    "                    dp[i][j]=values[i],values[i]\n",
    "                else:\n",
    "                    dp[i][j]=0,0\n",
    "                    \n",
    "            else:\n",
    "                ans=values[i]\n",
    "                for k in range(i+1,n,1):\n",
    "                    temp=j-weights[i]\n",
    "                    if weights[k]<=temp:\n",
    "                        curr_ans=dp[k][temp]\n",
    "                        ans=max(ans,values[i]+curr_ans[0])\n",
    "                ans2=dp[i+1][j]\n",
    "                overall_max=max(ans,ans2[1])\n",
    "                dp[i][j]=ans,overall_max                \n",
    "    \n",
    "    return dp[0][maxWeight]\n",
    "\n",
    "n=int(input())\n",
    "weights=list(int(i) for i in input().strip().split(' '))\n",
    "values=list(int(i) for i in input().strip().split(' '))\n",
    "maxWeight=int(input())\n",
    "print(knapsackBF(weights, values, maxWeight, 0, n)[1])"
   ]
  },
  {
   "cell_type": "markdown",
   "metadata": {},
   "source": [
    "### MATRIX CHAIN MULTIPLICATION - RECURSIVELY WITHOUT MEMOIZATION"
   ]
  },
  {
   "cell_type": "code",
   "execution_count": 9,
   "metadata": {},
   "outputs": [
    {
     "name": "stdout",
     "output_type": "stream",
     "text": [
      "3\n",
      "10 15 20 25\n",
      "8000\n"
     ]
    }
   ],
   "source": [
    "import sys\n",
    "sys.setrecursionlimit(11000)\n",
    "def matrix_chain_multiplication(index, j, n, p):\n",
    "    if j-index==1:\n",
    "        return 0,p[index],p[j]\n",
    "    \n",
    "        \n",
    "    ans=sys.maxsize\n",
    "    for i in range(index+1,j,1):\n",
    "        curr_ans_1,a,b=matrix_chain_multiplication(index, i, n, p)\n",
    "        curr_ans_2,c,d=matrix_chain_multiplication(i, j, n, p)\n",
    "        no_of_mult=a*b*d\n",
    "        final_ans=curr_ans_1+no_of_mult+curr_ans_2\n",
    "        ans=min(ans,final_ans)\n",
    "        \n",
    "    return ans,a,d    \n",
    "\n",
    "n=int(input())\n",
    "p=[int(x) for x in input().split()]\n",
    "n+=1\n",
    "print(matrix_chain_multiplication(0, n-1, n, p)[0])\n"
   ]
  },
  {
   "cell_type": "markdown",
   "metadata": {},
   "source": [
    "### MATRIX CHAIN MULTIPLICATION - RECURSIVELY WITH MEMOIZATION"
   ]
  },
  {
   "cell_type": "code",
   "execution_count": 10,
   "metadata": {},
   "outputs": [
    {
     "name": "stdout",
     "output_type": "stream",
     "text": [
      "3\n",
      "10 15 20 25\n",
      "8000\n",
      "[[-1, (0, 10, 15), (3000, 10, 20), -1], [-1, -1, (0, 15, 20), (7500, 15, 25)], [-1, -1, -1, (0, 20, 25)], [-1, -1, -1, -1]]\n"
     ]
    }
   ],
   "source": [
    "import sys\n",
    "sys.setrecursionlimit(11000)\n",
    "def matrix_chain_multiplication(index, j, n, p, dp):\n",
    "    if j-index==1:\n",
    "        return 0,p[index],p[j]\n",
    "    \n",
    "        \n",
    "    ans=sys.maxsize\n",
    "    for i in range(index+1,j,1):\n",
    "        if dp[index][i]==-1:\n",
    "            curr_ans_1,a,b=matrix_chain_multiplication(index, i, n, p, dp)\n",
    "            dp[index][i]=curr_ans_1,a,b\n",
    "        else:\n",
    "            curr_ans_1,a,b=dp[index][i]\n",
    "            \n",
    "        if dp[i][j]==-1:\n",
    "            curr_ans_2,c,d=matrix_chain_multiplication(i, j, n, p, dp)\n",
    "            dp[i][j]=curr_ans_2,c,d\n",
    "        else:\n",
    "            curr_ans_2,c,d=dp[i][j]\n",
    "            \n",
    "        no_of_mult=a*b*d\n",
    "        final_ans=curr_ans_1+no_of_mult+curr_ans_2\n",
    "        ans=min(ans,final_ans)\n",
    "        \n",
    "    return ans,a,d    \n",
    "\n",
    "n=int(input())\n",
    "p=[int(x) for x in input().split()]\n",
    "n+=1\n",
    "dp=[[-1 for j in range(n)] for i in range(n)]\n",
    "print(matrix_chain_multiplication(0, n-1, n, p, dp)[0])\n",
    "print(dp)"
   ]
  },
  {
   "cell_type": "markdown",
   "metadata": {},
   "source": [
    "### MATRIX CHAIN MULTIPLICATION - ITERATIVELY WITH MEMOIZATION"
   ]
  },
  {
   "cell_type": "code",
   "execution_count": 16,
   "metadata": {},
   "outputs": [
    {
     "name": "stdout",
     "output_type": "stream",
     "text": [
      "3\n",
      "10 15 20 25\n",
      "[[-1, (0, 10, 15), (3000, 10, 20), (8000, 10, 25)], [-1, -1, (0, 15, 20), (7500, 15, 25)], [-1, -1, -1, (0, 20, 25)], [-1, -1, -1, -1]]\n",
      "8000\n"
     ]
    }
   ],
   "source": [
    "import sys\n",
    "sys.setrecursionlimit(11000)\n",
    "def matrix_chain_multiplication(n, p):\n",
    "    dp=[[-1 for l in range(n)] for k in range(n)]\n",
    "    \n",
    "    for k in range(n-2,-1,-1):\n",
    "        for l in range(k+1,n,1):\n",
    "            if l-k==1:\n",
    "                dp[k][l]=0,p[k],p[l]\n",
    "               \n",
    "            else:\n",
    "                ans=sys.maxsize\n",
    "                for i in range(k+1,l):\n",
    "                    curr_ans_1,a,b=dp[k][i]\n",
    "                    curr_ans_2,c,d=dp[i][l]\n",
    "                    no_of_mult=a*b*d\n",
    "                    final_ans=curr_ans_1+no_of_mult+curr_ans_2\n",
    "                    ans=min(ans,final_ans)\n",
    "                dp[k][l]=ans,p[k],p[l]    \n",
    "        \n",
    "    print(dp)\n",
    "    \n",
    "    return dp[0][n-1]    \n",
    "\n",
    "n=int(input())\n",
    "p=[int(x) for x in input().split()]\n",
    "n+=1\n",
    "print(matrix_chain_multiplication(n, p)[0])"
   ]
  }
 ],
 "metadata": {
  "kernelspec": {
   "display_name": "Python 3",
   "language": "python",
   "name": "python3"
  },
  "language_info": {
   "codemirror_mode": {
    "name": "ipython",
    "version": 3
   },
   "file_extension": ".py",
   "mimetype": "text/x-python",
   "name": "python",
   "nbconvert_exporter": "python",
   "pygments_lexer": "ipython3",
   "version": "3.7.3"
  }
 },
 "nbformat": 4,
 "nbformat_minor": 2
}
