{
 "cells": [
  {
   "cell_type": "markdown",
   "metadata": {},
   "source": [
    "## RAT IN A MAZE"
   ]
  },
  {
   "cell_type": "code",
   "execution_count": 4,
   "metadata": {},
   "outputs": [
    {
     "name": "stdout",
     "output_type": "stream",
     "text": [
      "4\n",
      "1 1 1 1\n",
      "1 0 1 1\n",
      "1 1 0 1\n",
      "1 1 1 1\n",
      "[[1, 0, 0, 0], [1, 0, 0, 0], [1, 0, 0, 0], [1, 1, 1, 1]]\n",
      "[[1, 0, 0, 0], [1, 0, 0, 0], [1, 1, 0, 0], [0, 1, 1, 1]]\n",
      "[[1, 1, 1, 0], [0, 0, 1, 1], [0, 0, 0, 1], [0, 0, 0, 1]]\n",
      "[[1, 1, 1, 1], [0, 0, 0, 1], [0, 0, 0, 1], [0, 0, 0, 1]]\n"
     ]
    }
   ],
   "source": [
    "def print_path_helper(x,y,n,maze,solution):\n",
    "    if x==n-1 and y==n-1:\n",
    "        solution[x][y]=1\n",
    "        print(solution)\n",
    "        solution[x][y]=0\n",
    "        return\n",
    "    \n",
    "    if x<0 or y<0 or x>=n or y>=n or solution[x][y]==1 or maze[x][y]==0:\n",
    "        return\n",
    "    \n",
    "    solution[x][y]=1\n",
    "    print_path_helper(x+1,y,n,maze,solution)\n",
    "    print_path_helper(x,y+1,n,maze,solution)\n",
    "    print_path_helper(x-1,y,n,maze,solution)\n",
    "    print_path_helper(x,y-1,n,maze,solution)\n",
    "    solution[x][y]=0\n",
    "    \n",
    "    return\n",
    "\n",
    "def print_path(n,maze):\n",
    "    solution=[[0 for j in range(n)] for i in range(n)]\n",
    "    print_path_helper(0,0,n,maze,solution)\n",
    "    \n",
    "    return\n",
    "\n",
    "n=int(input())\n",
    "maze=[]\n",
    "for i in range(n):\n",
    "    row=[int(x) for x in input().split()]\n",
    "    maze.append(row)\n",
    "print_path(n,maze)    "
   ]
  },
  {
   "cell_type": "markdown",
   "metadata": {},
   "source": [
    "## N-QUEENS"
   ]
  },
  {
   "cell_type": "code",
   "execution_count": 14,
   "metadata": {},
   "outputs": [
    {
     "name": "stdout",
     "output_type": "stream",
     "text": [
      "5\n",
      "[[1, 0, 0, 0, 0], [0, 0, 1, 0, 0], [0, 0, 0, 0, 1], [0, 1, 0, 0, 0], [0, 0, 0, 1, 0]]\n",
      "[[1, 0, 0, 0, 0], [0, 0, 0, 1, 0], [0, 1, 0, 0, 0], [0, 0, 0, 0, 1], [0, 0, 1, 0, 0]]\n",
      "[[0, 1, 0, 0, 0], [0, 0, 0, 1, 0], [1, 0, 0, 0, 0], [0, 0, 1, 0, 0], [0, 0, 0, 0, 1]]\n",
      "[[0, 1, 0, 0, 0], [0, 0, 0, 0, 1], [0, 0, 1, 0, 0], [1, 0, 0, 0, 0], [0, 0, 0, 1, 0]]\n",
      "[[0, 0, 1, 0, 0], [1, 0, 0, 0, 0], [0, 0, 0, 1, 0], [0, 1, 0, 0, 0], [0, 0, 0, 0, 1]]\n",
      "[[0, 0, 1, 0, 0], [0, 0, 0, 0, 1], [0, 1, 0, 0, 0], [0, 0, 0, 1, 0], [1, 0, 0, 0, 0]]\n",
      "[[0, 0, 0, 1, 0], [1, 0, 0, 0, 0], [0, 0, 1, 0, 0], [0, 0, 0, 0, 1], [0, 1, 0, 0, 0]]\n",
      "[[0, 0, 0, 1, 0], [0, 1, 0, 0, 0], [0, 0, 0, 0, 1], [0, 0, 1, 0, 0], [1, 0, 0, 0, 0]]\n",
      "[[0, 0, 0, 0, 1], [0, 1, 0, 0, 0], [0, 0, 0, 1, 0], [1, 0, 0, 0, 0], [0, 0, 1, 0, 0]]\n",
      "[[0, 0, 0, 0, 1], [0, 0, 1, 0, 0], [1, 0, 0, 0, 0], [0, 0, 0, 1, 0], [0, 1, 0, 0, 0]]\n"
     ]
    }
   ],
   "source": [
    "def isSafe(x,y,n,board):    \n",
    "    for i in range(y-1,-1,-1):\n",
    "        if board[x][i]==1:\n",
    "            return False\n",
    "        \n",
    "    for i in range(x-1,-1,-1):\n",
    "        if board[i][y]==1:\n",
    "            return False\n",
    "       \n",
    "    i,j=x-1,y-1\n",
    "    while i>=0 and j>=0:\n",
    "        if board[i][j]==1:\n",
    "            return False\n",
    "        i-=1\n",
    "        j-=1\n",
    "        \n",
    "    i,j=x-1,y+1\n",
    "    while i>=0 and j<=n-1:\n",
    "        if board[i][j]==1:\n",
    "            return False\n",
    "        i-=1\n",
    "        j+=1\n",
    "        \n",
    "    return True        \n",
    "\n",
    "def nQueen_helper(x,y,n,board):\n",
    "    if x>=n:\n",
    "        print(board)\n",
    "        return\n",
    "    \n",
    "    for i in range(0,n):\n",
    "        if isSafe(x,i,n,board):\n",
    "            board[x][i]=1\n",
    "            nQueen_helper(x+1,0,n,board)\n",
    "            board[x][i]=0       \n",
    "    else:\n",
    "        return   \n",
    "    \n",
    "def nQueen(n):\n",
    "    board=[[0 for j in range(n)] for i in range(n)]\n",
    "    nQueen_helper(0,0,n,board)\n",
    "    return\n",
    "\n",
    "n = int(input())\n",
    "nQueen(n)\n"
   ]
  },
  {
   "cell_type": "markdown",
   "metadata": {},
   "source": [
    "## SUDOKO SOLVER"
   ]
  },
  {
   "cell_type": "code",
   "execution_count": 10,
   "metadata": {},
   "outputs": [
    {
     "name": "stdout",
     "output_type": "stream",
     "text": [
      "9 0 0 0 2 0 7 5 0 \n",
      "6 0 0 0 5 0 0 4 0\n",
      "0 2 0 4 0 0 0 1 0\n",
      "2 0 8 0 0 0 0 0 0\n",
      "0 7 0 5 0 9 0 6 0\n",
      "0 0 0 0 0 0 4 0 1\n",
      "0 1 0 0 0 5 0 8 0\n",
      "0 9 0 0 7 0 0 0 4\n",
      "0 8 2 0 4 0 0 0 6\n",
      "\n",
      "THE SOLVED SUDOKO IS:\n",
      "\n",
      "9 4 1 3 2 6 7 5 8 \n",
      "6 3 7 1 5 8 2 4 9 \n",
      "8 2 5 4 9 7 6 1 3 \n",
      "2 6 8 7 1 4 3 9 5 \n",
      "1 7 4 5 3 9 8 6 2 \n",
      "3 5 9 6 8 2 4 7 1 \n",
      "4 1 3 2 6 5 9 8 7 \n",
      "5 9 6 8 7 3 1 2 4 \n",
      "7 8 2 9 4 1 5 3 6 \n",
      "true\n"
     ]
    }
   ],
   "source": [
    "def solveSudoko_helper(x,y,board):\n",
    "    if x>=9:\n",
    "        return True        \n",
    "    \n",
    "    if board[x][y]==0:\n",
    "        li=[1,2,3,4,5,6,7,8,9]   \n",
    "        for k in range(0,9):\n",
    "            if board[x][k]!=0:\n",
    "                if board[x][k] in li:\n",
    "                    li.remove(board[x][k])\n",
    "      \n",
    "        for l in range(0,9):\n",
    "            if board[l][y]!=0:\n",
    "                if board[l][y] in li:\n",
    "                    li.remove(board[l][y])\n",
    "                    \n",
    "        r=(x//3)*3\n",
    "        c=(y//3)*3\n",
    "        for i in range(r,r+3):\n",
    "            for j in range(c,c+3):\n",
    "                if board[i][j] in li:\n",
    "                    li.remove(board[i][j])\n",
    "        \n",
    "        if len(li)==0:\n",
    "            return False        \n",
    "        \n",
    "        for ele in li:\n",
    "            board[x][y]=ele\n",
    "            if y==8:\n",
    "                if solveSudoko_helper(x+1,0,board):\n",
    "                    return True\n",
    "                board[x][y]=0\n",
    "            else:\n",
    "                if solveSudoko_helper(x,y+1,board):\n",
    "                    return True\n",
    "                board[x][y]=0\n",
    "        else:\n",
    "            return False   \n",
    "    else:\n",
    "        if y==8:\n",
    "            if solveSudoko_helper(x+1,0,board):\n",
    "                return True\n",
    "            return False\n",
    "        elif y!=8:\n",
    "            if solveSudoko_helper(x,y+1,board):\n",
    "                return True\n",
    "            return False\n",
    "    \n",
    "\n",
    "def solveSudoku(board):\n",
    "    stm=solveSudoko_helper(0,0,board)\n",
    "    print()\n",
    "    print('THE SOLVED SUDOKO IS:')\n",
    "    print()\n",
    "    for small in board:\n",
    "        for ele in small:\n",
    "            print(ele,end=' ')\n",
    "        print()    \n",
    "    return stm\n",
    "    \n",
    "\n",
    "board = [[ int(ele) for ele in input().split() ]for i in range(9)]\n",
    "ans = solveSudoku(board)\n",
    "if ans is True:\n",
    "    print('true')\n",
    "else:\n",
    "    print('false')"
   ]
  }
 ],
 "metadata": {
  "kernelspec": {
   "display_name": "Python 3",
   "language": "python",
   "name": "python3"
  },
  "language_info": {
   "codemirror_mode": {
    "name": "ipython",
    "version": 3
   },
   "file_extension": ".py",
   "mimetype": "text/x-python",
   "name": "python",
   "nbconvert_exporter": "python",
   "pygments_lexer": "ipython3",
   "version": "3.7.3"
  }
 },
 "nbformat": 4,
 "nbformat_minor": 2
}
